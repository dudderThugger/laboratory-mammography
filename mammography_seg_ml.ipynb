{
 "cells": [
  {
   "cell_type": "markdown",
   "id": "8c7cbbff-7d0d-4ec0-a98b-f50ab4eabd71",
   "metadata": {},
   "source": [
    "# Mammography segmentation solutions with Machine Learning"
   ]
  },
  {
   "cell_type": "markdown",
   "id": "8bea5dd6-b9c9-4ab1-ad4d-147ea028ecc4",
   "metadata": {},
   "source": [
    "## Dataset"
   ]
  },
  {
   "cell_type": "markdown",
   "id": "81a55967-6a67-43b9-8e60-213fbe24daf7",
   "metadata": {},
   "source": [
    "### EMBED\n",
    "EMmory brEast Imagin Dataset (EMBED): https://registry.opendata.aws/emory-breast-imaging-dataset-embed/\n"
   ]
  },
  {
   "cell_type": "markdown",
   "id": "b4dfd468-38ff-4f89-a3e6-38c58cb9476c",
   "metadata": {},
   "source": [
    "## Breast Calcification"
   ]
  },
  {
   "cell_type": "markdown",
   "id": "8398d214-b75f-434d-bb43-f36a591ab77f",
   "metadata": {},
   "source": [
    "Throughout discription:\n",
    "https://www.breastcancer.org/screening-testing/mammograms/calcifications"
   ]
  },
  {
   "cell_type": "markdown",
   "id": "8c2e94ed-94b4-4284-90ee-2f664c8e153c",
   "metadata": {},
   "source": [
    "### Defining variables that are used in every part of the code"
   ]
  },
  {
   "cell_type": "code",
   "execution_count": 6,
   "id": "488678c1-5b27-48d4-afa8-0984b071904d",
   "metadata": {},
   "outputs": [],
   "source": [
    "import pandas as pd\n",
    "import numpy as np"
   ]
  },
  {
   "cell_type": "code",
   "execution_count": 8,
   "id": "e5ce4ae4-4ab6-430b-bf07-d63cf2a9aea3",
   "metadata": {},
   "outputs": [],
   "source": [
    "data_path = '/home/szelesteya/projects/EMBED_Open_Data/'\n",
    "tables_path = data_path + 'tables/'\n",
    "image_dest_path = '/media/szelesteya/F824D4D024D492CC/EMBED-images/all-calc-with-roi-reduced'"
   ]
  },
  {
   "cell_type": "markdown",
   "id": "699204af-36fb-40d8-975c-4822939f9cb2",
   "metadata": {},
   "source": [
    "### Examine labels and pulling down the neccessary images\n",
    "\n",
    "Only run these lines once, because it may take long time"
   ]
  },
  {
   "cell_type": "markdown",
   "id": "fc2ac62c-77d5-4731-9866-e1431446ce1f",
   "metadata": {},
   "source": [
    "#### Type of calcification labels"
   ]
  },
  {
   "cell_type": "code",
   "execution_count": 22,
   "id": "5d991a2a-8425-43b0-b117-32c7857d60c8",
   "metadata": {},
   "outputs": [
    {
     "name": "stdout",
     "output_type": "stream",
     "text": [
      "[['Amorphous' 'A']\n",
      " ['Benign' '9']\n",
      " ['Coarse heterogeneous' 'H']\n",
      " ['Course Popcorn-like' 'C']\n",
      " ['Dystrophic' 'D']\n",
      " ['Rim' 'E']\n",
      " ['Fine-linear (casting)' 'F']\n",
      " ['Fine linear-branching (casting)' 'B']\n",
      " ['Generic' 'G']\n",
      " ['Fine pleomorphic' 'I']\n",
      " ['Large Rodlike' 'L']\n",
      " ['Milk of calcium' 'M']\n",
      " ['Oil Cyst' 'J']\n",
      " ['Pleomorphic' 'K']\n",
      " ['Punctate' 'P']\n",
      " ['Round' 'R']\n",
      " ['Skin' 'S']\n",
      " ['Lucent-centered' 'O']\n",
      " ['Suture' 'U']\n",
      " ['Vascular' 'V']\n",
      " ['Coarse' 'Q']]\n",
      "[['Grouped' 'G']\n",
      " ['Segmental' 'S']\n",
      " ['Regional' 'R']\n",
      " ['Diffuse/scattered' 'D']\n",
      " ['Linear' 'L']\n",
      " ['Clustered' 'C']]\n"
     ]
    }
   ],
   "source": [
    "legends = pd.read_csv(tables_path + 'AWS_Open_Data_Clinical_Legend.csv')\n",
    "\n",
    "calc_findings_codes = (legends[legends['Header in export'].str.contains('calcfind')])[['Meaning','Code']].values\n",
    "calc_distrib_codes = (legends[legends['Header in export'].str.contains('calcdistri')])[['Meaning','Code']].values\n",
    "\n",
    "## Possible calcification findings and it's codes\n",
    "print(calc_findings_codes)\n",
    "\n",
    "## Possible calcification distribution types and it's codes\n",
    "print(calc_distrib_codes)"
   ]
  },
  {
   "cell_type": "markdown",
   "id": "3456400c-48f6-4315-a507-36ce572e28fc",
   "metadata": {},
   "source": [
    "#### Find the calcification findings in the clinical data table"
   ]
  },
  {
   "cell_type": "code",
   "execution_count": 105,
   "id": "9ba51633-499c-41bd-86d9-583432a50e05",
   "metadata": {},
   "outputs": [
    {
     "name": "stdout",
     "output_type": "stream",
     "text": [
      "       Unnamed: 0  empi_anon          acc_anon side calcfind calcdistri  \\\n",
      "3             128   43734324  1878527667143380    R        G        NaN   \n",
      "8             141   76460806  4967580529575444    R        P          G   \n",
      "15            167   69002034  1080533575112798    L        Q        NaN   \n",
      "16            169   15411388  2042050676889019    L      A,M          R   \n",
      "22            194   94981297  5029965028297796    L        I          C   \n",
      "...           ...        ...               ...  ...      ...        ...   \n",
      "81760       85701   41216370  9987717412533391    R        G        NaN   \n",
      "81761       85702   41216370  9987717412533391    R        G        NaN   \n",
      "81764       85707   93869302  9832248116139404    R        P          G   \n",
      "81765       85708   93869302  5208318985884426    R        G        NaN   \n",
      "81772       85721   87435182  8888135176218475    R        R        NaN   \n",
      "\n",
      "      otherfind  numfind  path_severity  \n",
      "3           NaN        1            2.0  \n",
      "8           NaN        1            NaN  \n",
      "15          NaN        1            NaN  \n",
      "16          NaN        1            NaN  \n",
      "22          NaN        1            2.0  \n",
      "...         ...      ...            ...  \n",
      "81760       NaN        1            4.0  \n",
      "81761       NaN        2            1.0  \n",
      "81764       NaN        1            NaN  \n",
      "81765       NaN        1            NaN  \n",
      "81772         W        1            NaN  \n",
      "\n",
      "[6672 rows x 9 columns]\n"
     ]
    }
   ],
   "source": [
    "data = pd.read_csv(tables_path + 'EMBED_OpenData_clinical.csv', low_memory=False)\n",
    "\n",
    "records_with_calc_finding = (data[data['calcfind'].notna() | data['calcdistri'].notna()])[['Unnamed: 0','empi_anon','acc_anon','side','calcfind','calcdistri','otherfind','numfind','path_severity']]\n",
    "\n",
    "print(records_with_calc_finding)"
   ]
  },
  {
   "cell_type": "markdown",
   "id": "335bec1f-be76-4dff-a08e-2ea5b65e94ac",
   "metadata": {},
   "source": [
    "#### Find the pictures containing ROI information and no special view then merge it with the calcification findings"
   ]
  },
  {
   "cell_type": "code",
   "execution_count": 5,
   "id": "d0d82460-6ed4-4e5f-8c15-780fe2b92b18",
   "metadata": {},
   "outputs": [],
   "source": [
    "metadata = (pd.read_csv(tables_path + 'EMBED_OpenData_metadata_reduced.csv', low_memory=False))\n",
    "\n",
    "metadata_with_ROI = metadata[(metadata['ROI_coords'].str.contains('\\d', regex=True) & (metadata['spot_mag'] != 1.0))]\n",
    "\n",
    "records_with_calc_finding = records_with_calc_finding.rename(columns={'side':'ImageLateralityFinal'})\n",
    "records_with_calc_finding_path = pd.merge(records_with_calc_finding, metadata_with_ROI, on=['empi_anon','acc_anon','ImageLateralityFinal'])\n",
    "\n",
    "records_with_calc_finding_path_reduced = records_with_calc_finding_path[['empi_anon','acc_anon','anon_dicom_path','ImageLateralityFinal','ROI_coords','calcfind','calcdistri', 'spot_mag']].copy()\n",
    "\n",
    "records_with_calc_finding_path_reduced.loc[:, 'relative_dcm_path'] = records_with_calc_finding_path_reduced['anon_dicom_path'].copy()\n",
    "records_with_calc_finding_path_reduced.loc[:, 'relative_dcm_path'] = records_with_calc_finding_path_reduced['relative_dcm_path'].str.split('/')\n",
    "records_with_calc_finding_path_reduced.loc[:, 'relative_dcm_path'] = records_with_calc_finding_path_reduced['relative_dcm_path'].apply(lambda x: '/'.join(x[7:]))\n",
    "\n",
    "with open(data_path + 'calc_findings_path.csv', 'w') as f:\n",
    "    (records_with_calc_finding_path_reduced[['anon_dicom_path']]).to_csv(f, index=False)\n",
    "\n",
    "with open(data_path + 'calc_findings_full.csv', 'w') as f:\n",
    "    (records_with_calc_finding_path_reduced).to_csv(f, index=False)\n",
    "\n",
    "# print(records_with_calc_finding_path_reduced)"
   ]
  },
  {
   "cell_type": "markdown",
   "id": "cce1c690-b350-4cf8-a502-b3c9db13edb3",
   "metadata": {},
   "source": [
    "#### Pulling the images using aws"
   ]
  },
  {
   "cell_type": "code",
   "execution_count": 7,
   "id": "0487d9de-4a90-494c-9e13-e55cd4798d36",
   "metadata": {},
   "outputs": [],
   "source": [
    "%%bash -s \"$image_dest_path\" \"{data_path}calc_findings_path.csv\"\n",
    "\n",
    "dcm_dest_path=\"$1\"\n",
    "dcm_paths=\"$2\"\n",
    "\n",
    "tail -n +2 $dcm_paths | while IFS= read -r line; do\n",
    "    relative_path=$(echo \"$line\" | cut -d '/' -f 6- | awk -v OFS='/' '{$1=$1; print}')\n",
    "    dcm_name=$(echo \"$relative_path\" | cut -d '/' -f 3-)\n",
    "\n",
    "    # echo \"s3://embed-dataset-open/images/$relative_path\"\n",
    "    # aws s3 cp \"s3://embed-dataset-open/images/$relative_path\" \"${dcm_dest_path}/$dcm_name\" --profile my-dev-profile\n",
    "done"
   ]
  },
  {
   "cell_type": "markdown",
   "id": "5c021e40-a6e1-482b-8099-f158715c84c3",
   "metadata": {},
   "source": [
    "#### Convert dcm to png (with the code of the EMBED repository)"
   ]
  },
  {
   "cell_type": "code",
   "execution_count": 58,
   "id": "71f87e7b-3768-42a5-9929-19ed74fe8a7e",
   "metadata": {},
   "outputs": [],
   "source": [
    "import pydicom\n",
    "import numpy as np\n",
    "import pandas as pd\n",
    "import png\n",
    "from pathlib import Path"
   ]
  },
  {
   "cell_type": "code",
   "execution_count": 7,
   "id": "216c5512-0d3f-4c45-955c-a5ff98151921",
   "metadata": {},
   "outputs": [],
   "source": [
    "# Variables\n",
    "image_path = image_dest_path + '-png/'"
   ]
  },
  {
   "cell_type": "code",
   "execution_count": 8,
   "id": "d2544d93-ec42-4c33-90c7-909c845b8cbc",
   "metadata": {},
   "outputs": [],
   "source": [
    "# Get DICOM image metadata\n",
    "class DCM_Tags():\n",
    "    def __init__(self, img_dcm):\n",
    "        try:\n",
    "            self.laterality = img_dcm.ImageLaterality\n",
    "        except AttributeError:\n",
    "            self.laterality = np.nan\n",
    "            \n",
    "        try:\n",
    "            self.view = img_dcm.ViewPosition\n",
    "        except AttributeError:\n",
    "            self.view = np.nan\n",
    "            \n",
    "        try:\n",
    "            self.orientation = img_dcm.PatientOrientation\n",
    "        except AttributeError:\n",
    "            self.orientation = np.nan\n",
    "\n",
    "# Check whether DICOM should be flipped\n",
    "def check_dcm(imgdcm):\n",
    "    # Get DICOM metadata\n",
    "    tags = DCM_Tags(imgdcm)\n",
    "    \n",
    "    # If image orientation tag is defined\n",
    "    if ~pd.isnull(tags.orientation):\n",
    "        # CC view\n",
    "        if tags.view == 'CC':\n",
    "            if tags.orientation[0] == 'P':\n",
    "                flipHorz = True\n",
    "            else:\n",
    "                flipHorz = False\n",
    "            \n",
    "            if (tags.laterality == 'L') & (tags.orientation[1] == 'L'):\n",
    "                flipVert = True\n",
    "            elif (tags.laterality == 'R') & (tags.orientation[1] == 'R'):\n",
    "                flipVert = True\n",
    "            else:\n",
    "                flipVert = False\n",
    "        \n",
    "        # MLO or ML views\n",
    "        elif (tags.view == 'MLO') | (tags.view == 'ML'):\n",
    "            if tags.orientation[0] == 'P':\n",
    "                flipHorz = True\n",
    "            else:\n",
    "                flipHorz = False\n",
    "            \n",
    "            if (tags.laterality == 'L') & ((tags.orientation[1] == 'H') | (tags.orientation[1] == 'HL')):\n",
    "                flipVert = True\n",
    "            elif (tags.laterality == 'R') & ((tags.orientation[1] == 'H') | (tags.orientation[1] == 'HR')):\n",
    "                flipVert = True\n",
    "            else:\n",
    "                flipVert = False\n",
    "        \n",
    "        # Unrecognized view\n",
    "        else:\n",
    "            flipHorz = False\n",
    "            flipVert = False\n",
    "            \n",
    "    # If image orientation tag is undefined\n",
    "    else:\n",
    "        # Flip RCC, RML, and RMLO images\n",
    "        if (tags.laterality == 'R') & ((tags.view == 'CC') | (tags.view == 'ML') | (tags.view == 'MLO')):\n",
    "            flipHorz = True\n",
    "            flipVert = False\n",
    "        else:\n",
    "            flipHorz = False\n",
    "            flipVert = False\n",
    "            \n",
    "    return flipHorz, flipVert\n",
    "\n",
    "# Save DICOM pixel array as PNG\n",
    "def save_dcm_image_as_png(image, png_filename, bitdepth=12):\n",
    "    with open(png_filename, 'wb') as f:\n",
    "        writer = png.Writer(height=image.shape[0], \n",
    "                            width=image.shape[1], \n",
    "                            bitdepth=bitdepth, \n",
    "                            greyscale=True)\n",
    "        writer.write(f, image.tolist())"
   ]
  },
  {
   "cell_type": "code",
   "execution_count": 9,
   "id": "f794279c-f596-46f5-8749-a577f1ae6793",
   "metadata": {},
   "outputs": [],
   "source": [
    "def generate_png_path(dcm_path):\n",
    "    # Get new file name\n",
    "    split_fn = dcm_path[:-4].split('/')\n",
    "    new_fn = f\"{split_fn[-1]}_conv.png\"\n",
    "    return image_path + new_fn"
   ]
  },
  {
   "cell_type": "code",
   "execution_count": 10,
   "id": "2ef5d542-826d-41cd-a2a8-83187eb9aa4d",
   "metadata": {},
   "outputs": [],
   "source": [
    "# Convert list of DICOMs to PNGs\n",
    "def process_dcm_list(findings_df):\n",
    "    dcm_list = findings_df['full_dcm_path']\n",
    "    png_list = findings_df['full_png_path']\n",
    "    \n",
    "    for i, dcm_path in enumerate(dcm_list):    \n",
    "        if not Path(png_list[i]).exists():\n",
    "            print(f\"Processing DICOM #{i}...\")\n",
    "            \n",
    "            # Load DICOM\n",
    "            dcm = pydicom.dcmread(dcm_path)\n",
    "            img = dcm.pixel_array\n",
    "            \n",
    "            # Check if a horizontal flip is necessary\n",
    "            horz, _ = check_dcm(dcm)\n",
    "            if horz:\n",
    "                # Flip img horizontally\n",
    "                img = np.fliplr(img)\n",
    "            \n",
    "            # Save PNG            \n",
    "            save_dcm_image_as_png(img, png_path)"
   ]
  },
  {
   "cell_type": "code",
   "execution_count": 17,
   "id": "1164fb2d-3d8e-4b7a-956d-c14de4061e9b",
   "metadata": {},
   "outputs": [],
   "source": [
    "# Provide a list of DICOM paths and a target directory\n",
    "dcm_list = []\n",
    "calc_findings = pd.read_csv(data_path + 'calc_findings_full.csv')\n",
    "\n",
    "for index, row in calc_findings.iterrows():\n",
    "    path = image_dest_path  + '/' + row['relative_dcm_path']\n",
    "    if Path(path).exists():\n",
    "        dcm_list.append(path)\n",
    "\n",
    "# Insert dicom path\n",
    "calc_findings.loc[:,'full_dcm_path'] = dcm_list\n",
    "    \n",
    "# Insert png path\n",
    "calc_findings.loc[:,'full_png_path'] = calc_findings['full_dcm_path'].copy()\n",
    "calc_findings.loc[:,'full_png_path'] = calc_findings['full_png_path'].apply( lambda x: generate_png_path(x))\n",
    "\n",
    "with open(data_path + 'calc_findings_full.csv', 'w') as f:\n",
    "    (calc_findings).to_csv(f, index=False)\n",
    "\n",
    "# Convert DICOMs\n",
    "process_dcm_list(calc_findings)"
   ]
  },
  {
   "cell_type": "markdown",
   "id": "96ee76de-39d7-434d-9631-f95c046ccd8a",
   "metadata": {},
   "source": [
    "### Examine pictures' intensity and the quality of the ROI "
   ]
  },
  {
   "cell_type": "code",
   "execution_count": 9,
   "id": "7d575e39-a4dd-4198-a9d0-8f9cdfa90992",
   "metadata": {},
   "outputs": [],
   "source": [
    "calc_findings = pd.read_csv(data_path + 'calc_findings_full.csv')"
   ]
  },
  {
   "cell_type": "markdown",
   "id": "71b0ea1d-d3a0-447d-b011-f2d7a50fae25",
   "metadata": {},
   "source": [
    "#### Make histogram of the intensities of the pictures"
   ]
  },
  {
   "cell_type": "code",
   "execution_count": 18,
   "id": "94808b52-cea5-4571-8c51-e0dbd4920049",
   "metadata": {},
   "outputs": [],
   "source": [
    "import matplotlib.pyplot as plt"
   ]
  },
  {
   "cell_type": "code",
   "execution_count": 64,
   "id": "c046ca60-4091-4531-8000-c547299f0b11",
   "metadata": {},
   "outputs": [],
   "source": [
    "def calculate_intensity(pixel_array):\n",
    "    min = np.min(pixel_array)\n",
    "    # Drop the part not containing tissues\n",
    "    pixel_array = pixel_array[(pixel_array > min * 1.5)]\n",
    "    intensity = np.mean(pixel_array)\n",
    "    return intensity"
   ]
  },
  {
   "cell_type": "code",
   "execution_count": 42,
   "id": "1a451ea8-14e9-4b75-8112-5b676f5c28b2",
   "metadata": {},
   "outputs": [],
   "source": [
    "def calculate_intensity_of_dicoms(calc_findings):\n",
    "    intensities_array = []\n",
    "    dcm_list = calc_findings['full_dcm_path'].tolist()\n",
    "    \n",
    "    print(f'Calculating intensitiy for {len(dcm_list)} dicom image')\n",
    "    for index in range(len(dcm_list)):\n",
    "        print(f'{index + 1} / {len(dcm_list)}\\nCalculating intensity for image {dcm_list[index]}\\n...')\n",
    "        # Get pixel array from dicom path\n",
    "        pixel_array = pydicom.dcmread(dcm_list[index]).pixel_array\n",
    "        intensity = calculate_intensity(pixel_array)\n",
    "\n",
    "        print(f'Intensity is {intensity}\\n')\n",
    "        intensities_array.append(intensity)        \n",
    "\n",
    "    return intensities_array"
   ]
  },
  {
   "cell_type": "markdown",
   "id": "901bff8c-696e-46a3-8157-3f77a7799afa",
   "metadata": {},
   "source": [
    "Only calculate intensity for each picture if our datatable don't contain it already, because this may take time"
   ]
  },
  {
   "cell_type": "code",
   "execution_count": 47,
   "id": "fa19f99d-0661-4510-a2b1-c7384e92f461",
   "metadata": {},
   "outputs": [
    {
     "name": "stdout",
     "output_type": "stream",
     "text": [
      "Calculating intensitiy for 1 dicom image\n",
      "1 / 1\n",
      "Calculating intensity for image /media/szelesteya/F824D4D024D492CC/EMBED-images/all-calc-with-roi-reduced/1.2.845.113975.3.59.1.50221084.20141110.1112012/1.2.840.113683.2750851774.1415170262.5404.2675/1.2.826.0.1.3680043.8.498.12681424261940133202438074551382227544.dcm\n",
      "...\n",
      "Intensity is 1099.669820385732\n",
      "\n",
      "[1099.669820385732]\n"
     ]
    }
   ],
   "source": [
    "## Calculate intensities for each dicom image and append it to the DataFrame this may take a while\n",
    "intensities_array = None\n",
    "intensities_array = calculate_intensity_of_dicoms(calc_findings[0:1])\n",
    "print(intensities_array)"
   ]
  },
  {
   "cell_type": "code",
   "execution_count": 24,
   "id": "90150d92-c07c-4163-90ee-89fd27b6bd99",
   "metadata": {},
   "outputs": [
    {
     "data": {
      "image/png": "[encoded data removed]",
      "text/plain": [
       "<Figure size 640x480 with 1 Axes>"
      ]
     },
     "metadata": {},
     "output_type": "display_data"
    }
   ],
   "source": [
    "#intensities_cut_array = intensities_array[~(intensities_array > 1000)]\n",
    "\n",
    "if intensities_array is None:\n",
    "    intensities_array = calc_findings['intensity'].tolist()\n",
    "\n",
    "plt.hist(intensities_array, bins=20, color='blue')\n",
    "plt.xlabel('Average Intensity')\n",
    "plt.ylabel('Frequency')\n",
    "plt.title('Histogram of Average Intensity')\n",
    "plt.grid(True)\n",
    "plt.savefig('avg_intensity_histogram.png')"
   ]
  },
  {
   "cell_type": "code",
   "execution_count": 106,
   "id": "e5d14831-6c2a-4c78-9f63-6f8b5fd9dd72",
   "metadata": {},
   "outputs": [],
   "source": [
    "# Insert intensities in the DataFrame and save the histogram\n",
    "calc_findings.loc[:,'intensity'] = intensities_array\n",
    "\n",
    "with open(data_path + 'calc_findings_full.csv', 'w') as f:\n",
    "    (calc_findings).to_csv(f, index=False)"
   ]
  },
  {
   "cell_type": "code",
   "execution_count": null,
   "id": "7e6127a8-f695-488d-80fb-be5f75930146",
   "metadata": {},
   "outputs": [],
   "source": []
  },
  {
   "cell_type": "code",
   "execution_count": null,
   "id": "633ecc2c-e2e5-4805-bfe3-614d140b09cb",
   "metadata": {},
   "outputs": [],
   "source": []
  },
  {
   "cell_type": "markdown",
   "id": "3e457f9d-0460-43bf-b57f-5ddb6f8e7ddf",
   "metadata": {},
   "source": [
    "#### Classifying the calcifications and showcase ROI with minimalistic GUI"
   ]
  },
  {
   "cell_type": "code",
   "execution_count": 61,
   "id": "126ae34c-1d00-401f-904f-f05cfcdd65a0",
   "metadata": {},
   "outputs": [],
   "source": [
    "import matplotlib.pyplot as plt\n",
    "import matplotlib.patches as patches\n",
    "import numpy as np\n",
    "from PIL import Image"
   ]
  },
  {
   "cell_type": "code",
   "execution_count": 11,
   "id": "0a607829-d7eb-40b4-982f-5048e762c891",
   "metadata": {},
   "outputs": [],
   "source": [
    "def showcase_ROI(calcfinding_row, save):\n",
    "    image = Image.open(calcfinding_row['full_png_path'])\n",
    "    image_array = np.array(image)\n",
    "        \n",
    "    path = (calcfinding_row['full_png_path'])[:-4] + '_with_ROI'\n",
    "    \n",
    "    only_ROI_arrays = []\n",
    "    \n",
    "    # Coordinate(s) of any detected ROI on the image, represented as a list of lists. \n",
    "    # Sublists contains corner coordinates for ROI in the format ‘ymin, xmin, ymax, xmax’.\n",
    "    roi_coords_array = calcfinding_row['ROI_coords'][2:-1].split('(')\n",
    "\n",
    "    aspect_ratio = image_array.shape[1] / image_array.shape[0]\n",
    "    fig_all, axis_all = plt.subplots(figsize=(4*aspect_ratio, 4))\n",
    "    axis_all.imshow(image_array, cmap='gray')\n",
    "    \n",
    "    for i in range(len(roi_coords_array)):\n",
    "        roi_coords_str = roi_coords_array[i].split(')')[0].replace(\" \",\"\").split(',')\n",
    "        roi_coords = [eval(j) for j in roi_coords_str]\n",
    "\n",
    "        x_min = roi_coords[1]\n",
    "        y_min = roi_coords[0]\n",
    "        x_max = roi_coords[3]\n",
    "        y_max = roi_coords[2]\n",
    "        \n",
    "        rectangle = patches.Rectangle((x_min, y_min), x_max - x_min, y_max - y_min, linewidth=1, edgecolor='r', facecolor='none')\n",
    "        axis_all.add_patch(rectangle)\n",
    "        \n",
    "        only_ROI_arrays.append(image_array[y_min:y_max, x_min:x_max])\n",
    "\n",
    "    axis_all.set_aspect('equal', adjustable='datalim')\n",
    "    plt.axis('off')\n",
    "    if save:\n",
    "        plt.savefig(path + '_all.png', bbox_inches='tight', pad_inches=0, dpi=300)\n",
    "    else:\n",
    "        plt.imshow(image_array, cmap='gray')\n",
    "\n",
    "    fig, axs = plt.subplots(1, len(only_ROI_arrays), figsize=(15, 5))\n",
    "    fig.subplots_adjust(wspace=0.1)\n",
    "    for i in range(len(roi_coords_array)):\n",
    "        if len(roi_coords_array) > 1:\n",
    "            axs[i].axis('off')\n",
    "            axs[i].imshow(only_ROI_arrays[i], cmap='gray')\n",
    "        else:\n",
    "            axs.axis('off')\n",
    "            axs.imshow(only_ROI_arrays[i], cmap='gray')\n",
    "        \n",
    "    if save:\n",
    "        fig.savefig(path + '_rois.png',  bbox_inches='tight', pad_inches=0, dpi=300)"
   ]
  },
  {
   "cell_type": "markdown",
   "id": "b0ca8362-e91d-4708-8a96-a14203c1be6a",
   "metadata": {},
   "source": [
    "I used a GUI to find images for my purposes more efficiently"
   ]
  },
  {
   "cell_type": "code",
   "execution_count": 12,
   "id": "1351d24c-ca66-4014-b1eb-32c0414805c6",
   "metadata": {},
   "outputs": [],
   "source": [
    "import ipywidgets as widgets\n",
    "from IPython.display import display"
   ]
  },
  {
   "cell_type": "code",
   "execution_count": 13,
   "id": "31d6890b-4f2d-456d-87f2-ecb89d716694",
   "metadata": {},
   "outputs": [],
   "source": [
    "value = 0"
   ]
  },
  {
   "cell_type": "code",
   "execution_count": 20,
   "id": "4cf472e5-2ea1-4b2a-be6b-0ee548f51d21",
   "metadata": {},
   "outputs": [],
   "source": [
    "def on_value_change(num):\n",
    "    global value\n",
    "    value = num\n",
    "    showcase_ROI(calc_findings.loc[value,:], False)        \n",
    "    print(calc_findings.loc[value,:])\n",
    "\n",
    "def save_figure(b):\n",
    "    global value\n",
    "    with button_output:\n",
    "        showcase_ROI(calc_findings.loc[value,:], True)"
   ]
  },
  {
   "cell_type": "code",
   "execution_count": 21,
   "id": "a9245c45-cc3d-428d-ae28-324977267ea7",
   "metadata": {
    "scrolled": true
   },
   "outputs": [
    {
     "data": {
      "application/vnd.jupyter.widget-view+json": {
       "model_id": "5147327a687f482bbcbc044b782471ff",
       "version_major": 2,
       "version_minor": 0
      },
      "text/plain": [
       "IntSlider(value=1122, description='Number:', max=1959, min=1)"
      ]
     },
     "metadata": {},
     "output_type": "display_data"
    },
    {
     "data": {
      "application/vnd.jupyter.widget-view+json": {
       "model_id": "d4fb7cc82c1a4fc6a153a7e8756ead3e",
       "version_major": 2,
       "version_minor": 0
      },
      "text/plain": [
       "Output()"
      ]
     },
     "metadata": {},
     "output_type": "display_data"
    },
    {
     "data": {
      "application/vnd.jupyter.widget-view+json": {
       "model_id": "3e54a451678e421081380c3e511f41e2",
       "version_major": 2,
       "version_minor": 0
      },
      "text/plain": [
       "Button(description='Save figures', style=ButtonStyle())"
      ]
     },
     "metadata": {},
     "output_type": "display_data"
    },
    {
     "data": {
      "application/vnd.jupyter.widget-view+json": {
       "model_id": "76b7bdc933aa46cf979dafbb62e2e4c8",
       "version_major": 2,
       "version_minor": 0
      },
      "text/plain": [
       "Output()"
      ]
     },
     "metadata": {},
     "output_type": "display_data"
    }
   ],
   "source": [
    "# Create a slider for input\n",
    "number_slider = widgets.IntSlider(value=1122, min=1, max=1959, description='Number:')\n",
    "\n",
    "button_save = widgets.Button(description=\"Save figures\")\n",
    "button_save.on_click(save_figure)\n",
    "\n",
    "button_output = widgets.Output()\n",
    "\n",
    "# Create an interactive output that updates when the slider value changes\n",
    "slider_output = widgets.interactive_output(on_value_change, {'num': number_slider})\n",
    "\n",
    "# Display the slider and the output\n",
    "display(number_slider, slider_output)\n",
    "display(button_save, button_output)"
   ]
  },
  {
   "cell_type": "markdown",
   "id": "029caad7-f51c-410a-85db-ef8106479fb6",
   "metadata": {},
   "source": [
    "### Histogram Equalizations"
   ]
  },
  {
   "cell_type": "markdown",
   "id": "a9bcbfd8-2c0e-4b16-b075-35d0d5e007be",
   "metadata": {},
   "source": [
    "https://pyimagesearch.com/2021/02/01/opencv-histogram-equalization-and-adaptive-histogram-equalization-clahe/"
   ]
  },
  {
   "cell_type": "code",
   "execution_count": 51,
   "id": "859d17f6-dbd2-4e09-afec-5ce0a3c27ff9",
   "metadata": {},
   "outputs": [],
   "source": [
    "import cv2 as cv\n",
    "import os\n",
    "import imageio.v3 as iio\n",
    "\n",
    "equalized_img_path = image_dest_path + '-equalized'\n",
    "clahe_img_path = image_dest_path + '-clahe'\n",
    "calc_findings = pd.read_csv(data_path + 'calc_findings_full.csv')"
   ]
  },
  {
   "cell_type": "markdown",
   "id": "2ea74a51-9a13-4139-a9e2-d90e1bdc1397",
   "metadata": {},
   "source": [
    "#### Histrogram Equalization"
   ]
  },
  {
   "cell_type": "code",
   "execution_count": 65,
   "id": "df5323d1-e5fe-4d71-b78a-4373fd38d76e",
   "metadata": {},
   "outputs": [],
   "source": [
    "def hist_eq(image_source, image_destination):\n",
    "    img = cv.imread(image_source, cv.IMREAD_GRAYSCALE)\n",
    "    equ = cv.equalizeHist(img)\n",
    "    res = np.array(equ)\n",
    "    cv.imwrite(image_destination, res)"
   ]
  },
  {
   "cell_type": "code",
   "execution_count": 66,
   "id": "6ae5cdaf-7b93-4063-90d8-e3411b450f12",
   "metadata": {},
   "outputs": [],
   "source": [
    "def calculate_intensity_for_png(image_path):\n",
    "    pixel_array = iio.imread(image_path)\n",
    "    return calculate_intensity(pixel_array)"
   ]
  },
  {
   "cell_type": "code",
   "execution_count": 67,
   "id": "066b1341-60f8-405b-8df6-26ef2b0b25e4",
   "metadata": {},
   "outputs": [
    {
     "name": "stdout",
     "output_type": "stream",
     "text": [
      "129.2623689023666\n",
      "128.16589114581495\n",
      "128.32032086380298\n",
      "128.8858847888627\n",
      "134.20058983151037\n",
      "128.84812916162718\n",
      "128.4252327847184\n",
      "139.44367519124197\n",
      "130.03001087262564\n",
      "128.69197078405983\n",
      "128.5035430499286\n",
      "128.5156220981639\n",
      "137.11810126014677\n",
      "128.26517281326244\n",
      "135.18344823630946\n",
      "135.32581163369736\n",
      "128.9064503937776\n",
      "128.67814845019433\n",
      "128.40631016424553\n",
      "128.14547119413118\n",
      "128.73764636902231\n",
      "128.29492938408964\n",
      "128.0849655426617\n",
      "128.6459709893809\n",
      "128.72159506871856\n",
      "128.4043034432444\n",
      "134.80041486507568\n",
      "129.33806469299722\n",
      "128.21668569635085\n",
      "128.59131425753694\n",
      "128.75088266534885\n",
      "128.444004236579\n",
      "134.59153305425014\n",
      "135.67425284587975\n",
      "128.31835402294507\n",
      "128.61989841088268\n",
      "133.66243542694772\n",
      "128.59821364298227\n",
      "128.7350037193874\n",
      "128.707310114464\n",
      "135.80059331620225\n",
      "128.88039789890456\n",
      "138.09983091058632\n",
      "128.832993085792\n",
      "128.3575159433071\n",
      "128.88675369117985\n",
      "128.21714038797816\n",
      "128.41097294332218\n",
      "136.73330619195403\n",
      "128.61257700001877\n",
      "134.82641196474898\n",
      "128.33973596461922\n",
      "138.7911488894065\n",
      "128.49447879336034\n",
      "136.0219204438069\n",
      "135.48025975921882\n",
      "128.25618081728902\n",
      "128.86734780911985\n",
      "128.7160518604027\n",
      "138.03904223803434\n",
      "128.77343222685835\n",
      "128.83488932058054\n",
      "128.5496886942632\n",
      "128.5706081033698\n",
      "128.9670392683876\n",
      "128.21665921153541\n",
      "128.4526329348454\n",
      "129.17556317310533\n",
      "128.6581993564528\n",
      "128.53937059431777\n",
      "128.61699433728455\n",
      "128.5268550599168\n",
      "128.21626871587722\n",
      "138.73321034821245\n",
      "136.75870365397876\n",
      "128.09301802493184\n",
      "128.33467491169753\n",
      "128.28643089018215\n",
      "128.71082339486156\n",
      "139.53418113875895\n",
      "128.38486784209383\n",
      "128.37186705253555\n",
      "139.02589631226948\n",
      "128.69963179365183\n",
      "135.085981744528\n",
      "128.2895208549257\n",
      "128.36149560246668\n",
      "137.23821827414153\n",
      "128.47411643278764\n",
      "128.40908099107898\n",
      "128.13581289121862\n",
      "128.95885413685963\n",
      "128.3717273350318\n",
      "134.73169756359965\n",
      "128.76579722025943\n",
      "128.4363019323495\n",
      "136.48372630707092\n",
      "128.46937413717907\n",
      "135.1748124544057\n",
      "128.35876546302342\n",
      "128.63101247820748\n",
      "134.44210222594424\n",
      "128.52953630408675\n",
      "134.91819298853298\n",
      "141.77657753342794\n",
      "127.86561854853824\n",
      "128.53555282039426\n",
      "128.86174669401896\n",
      "128.61865390550952\n",
      "129.14333173839148\n",
      "128.63405594730364\n",
      "128.2984707131123\n",
      "128.221994488348\n",
      "128.88802486875605\n",
      "128.8068787664483\n",
      "128.53378365759949\n",
      "128.32290420764912\n",
      "128.38562181351796\n",
      "128.22420644658203\n",
      "128.5012903348601\n",
      "128.34331675747205\n",
      "134.18149999898463\n",
      "128.54412455455375\n",
      "135.09542153590849\n",
      "128.10859260532192\n",
      "128.3891618279582\n",
      "128.11904380622428\n",
      "128.3507076642499\n",
      "128.5271685902053\n",
      "135.19958000883287\n",
      "136.19422013884136\n",
      "138.23642594719027\n",
      "128.29134278172756\n",
      "128.23944708575888\n",
      "134.06034754280597\n",
      "128.47805572458736\n",
      "128.28606358038172\n",
      "128.29320950850484\n",
      "128.3375505273048\n",
      "128.58091341445208\n",
      "128.64283920607377\n",
      "128.44659198382178\n",
      "128.0612353098766\n",
      "128.77873105312136\n",
      "134.611198225838\n",
      "128.79502553051023\n",
      "134.83377381661117\n",
      "128.58464804989657\n",
      "139.04869682060175\n",
      "138.53721916674834\n",
      "128.25148703803194\n",
      "134.90473178898117\n",
      "128.47402240936174\n",
      "128.8973474011236\n",
      "136.71464287573735\n",
      "128.67080089744795\n",
      "137.48231218842747\n",
      "128.44826216773006\n",
      "128.71532046567776\n",
      "128.39447820361661\n",
      "135.98292766127724\n",
      "128.8460866906919\n",
      "138.64415090052293\n",
      "128.43334937630544\n",
      "128.80406827281686\n",
      "137.03645650939006\n",
      "128.48809874238395\n",
      "128.44659287460928\n",
      "140.2004001700061\n",
      "128.38558565311294\n",
      "138.9592724130329\n",
      "128.70932477943686\n",
      "128.84031848093525\n",
      "128.9678086018194\n",
      "129.32076022003716\n",
      "129.4524200338331\n",
      "128.57522550395993\n",
      "134.7546844580836\n",
      "135.99780409308062\n",
      "136.45252391252103\n",
      "138.35436192259692\n",
      "134.4682101809174\n",
      "128.34188125145485\n",
      "128.90412833525798\n",
      "128.50955525600963\n",
      "128.52722738590103\n",
      "138.41673892437765\n",
      "137.23017364415455\n",
      "137.436489650444\n",
      "136.0674271792458\n",
      "139.1602969694031\n",
      "143.23672074257212\n",
      "136.51815946816512\n",
      "128.51966128578792\n",
      "141.80473298273088\n",
      "134.95534025745658\n"
     ]
    }
   ],
   "source": [
    "calc_findings['equalized_img_path'] = calc_findings['full_png_path']\n",
    "calc_findings['intensity_after_eq'] = calc_findings['intensity']\n",
    "intensity_array = []\n",
    "\n",
    "for i in range(len(calc_findings.loc[::10, 'full_png_path'])):\n",
    "    dest = equalized_img_path + f'/{i*10}.jpg'\n",
    "    hist_eq(calc_findings.loc[i*10,'full_png_path'], dest)\n",
    "    calc_findings.loc[i*10,'equalized_img_path'] = dest\n",
    "    calc_findings.loc[i*10,'intensity_after_eq'] = calculate_intensity_for_png(dest)\n",
    "    intensity_array.append(calc_findings.loc[i*10,'intensity_after_eq'])\n",
    "    print(calc_findings.loc[i*10,'intensity_after_eq'])"
   ]
  },
  {
   "cell_type": "code",
   "execution_count": 63,
   "id": "1d09ab6d-2fe7-4ef8-854c-2ee8c8afb5ae",
   "metadata": {},
   "outputs": [
    {
     "data": {
      "image/png": "[encoded data removed]",
      "text/plain": [
       "<Figure size 640x480 with 1 Axes>"
      ]
     },
     "metadata": {},
     "output_type": "display_data"
    }
   ],
   "source": [
    "plt.hist(intensity_array, bins=20, color='blue')\n",
    "plt.xlabel('Average Intensity')\n",
    "plt.ylabel('Frequency')\n",
    "plt.title('Histogram of Average Intensity After Equalization')\n",
    "plt.grid(True)\n",
    "plt.savefig('avg_intensity_equalized_histogram.png')"
   ]
  },
  {
   "cell_type": "markdown",
   "id": "741db693-c5a3-4f15-8054-7672fd76bebf",
   "metadata": {},
   "source": [
    "#### Adaptive Histogram Equalization (CLAHE)"
   ]
  },
  {
   "cell_type": "code",
   "execution_count": null,
   "id": "a9f9cacc-5327-48b8-a096-c1f7df070cd3",
   "metadata": {},
   "outputs": [],
   "source": [
    "def clahe_image(image_destination, image_source):\n",
    "    image = cv.imread(image_source)\n",
    "    "
   ]
  },
  {
   "cell_type": "markdown",
   "id": "4bbf6f59-11e9-45e3-b4f7-cabd9e0ccd5f",
   "metadata": {},
   "source": [
    "#### Contrast-Limited Adaptive Histogram Equalization (CLAHE)"
   ]
  },
  {
   "cell_type": "markdown",
   "id": "784b94f8-622f-442a-af90-bc4e1bd01129",
   "metadata": {},
   "source": [
    "### Adding negative result to the dataset"
   ]
  },
  {
   "cell_type": "code",
   "execution_count": null,
   "id": "2dd8abdf-d241-4200-9444-aac56a13da54",
   "metadata": {},
   "outputs": [],
   "source": []
  }
 ],
 "metadata": {
  "kernelspec": {
   "display_name": "Python 3 (ipykernel)",
   "language": "python",
   "name": "python3"
  },
  "language_info": {
   "codemirror_mode": {
    "name": "ipython",
    "version": 3
   },
   "file_extension": ".py",
   "mimetype": "text/x-python",
   "name": "python",
   "nbconvert_exporter": "python",
   "pygments_lexer": "ipython3",
   "version": "3.10.12"
  }
 },
 "nbformat": 4,
 "nbformat_minor": 5
}
