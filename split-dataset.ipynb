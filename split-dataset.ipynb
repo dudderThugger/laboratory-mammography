{
 "cells": [
  {
   "cell_type": "code",
   "execution_count": 1,
   "metadata": {},
   "outputs": [],
   "source": [
    "import pandas as pd\n",
    "import numpy as np\n",
    "import sklearn as sk\n",
    "import matplotlib.pyplot as plt\n",
    "import shutil\n",
    "import re"
   ]
  },
  {
   "cell_type": "code",
   "execution_count": 3,
   "metadata": {},
   "outputs": [],
   "source": [
    "negativeimg = pd.read_csv('/home/szelesteya/projects/laboratory-mammography/neg_training.csv')\n",
    "positiveimg = pd.read_csv('/home/szelesteya/projects/laboratory-mammography/pos_training.csv')\n",
    "\n",
    "negativeimg = sk.utils.shuffle(negativeimg, random_state=5)[['calc_find','crop_path','asses','negative_index','label_0']]\n",
    "positiveimg = sk.utils.shuffle(positiveimg, random_state=5)[['calc_find','crop_path','asses','calc_finding_index','label_0']]"
   ]
  },
  {
   "cell_type": "code",
   "execution_count": 4,
   "metadata": {},
   "outputs": [
    {
     "name": "stderr",
     "output_type": "stream",
     "text": [
      "/home/szelesteya/.local/lib/python3.10/site-packages/numpy/core/fromnumeric.py:59: FutureWarning: 'DataFrame.swapaxes' is deprecated and will be removed in a future version. Please use 'DataFrame.transpose' instead.\n",
      "  return bound(*args, **kwds)\n"
     ]
    }
   ],
   "source": [
    "neg_train, neg_validation, neg_test = np.split(negativeimg, [round(0.8 * len(negativeimg)), round(0.9 * len(negativeimg))])\n",
    "pos_train, pos_validation, pos_test = np.split(positiveimg, [round(0.8 * len(positiveimg)), round(0.9 * len(positiveimg))])"
   ]
  },
  {
   "cell_type": "code",
   "execution_count": 10,
   "metadata": {},
   "outputs": [
    {
     "data": {
      "text/plain": [
       "39"
      ]
     },
     "execution_count": 10,
     "metadata": {},
     "output_type": "execute_result"
    }
   ],
   "source": []
  },
  {
   "cell_type": "code",
   "execution_count": 11,
   "metadata": {},
   "outputs": [],
   "source": [
    "with open('/media/szelesteya/F824D4D024D492CC/EMBED-images/splited-croped/tables/neg_train.csv','w') as f:\n",
    "    neg_train.to_csv(f)\n",
    "\n",
    "with open('/media/szelesteya/F824D4D024D492CC/EMBED-images/splited-croped/tables/neg_validation.csv','w') as f:\n",
    "    neg_validation.to_csv(f)\n",
    "\n",
    "with open('/media/szelesteya/F824D4D024D492CC/EMBED-images/splited-croped/tables/neg_test.csv','w') as f:\n",
    "    neg_test.to_csv(f)\n",
    "\n",
    "with open('/media/szelesteya/F824D4D024D492CC/EMBED-images/splited-croped/tables/pos_train.csv','w') as f:\n",
    "    pos_train.to_csv(f)\n",
    "\n",
    "with open('/media/szelesteya/F824D4D024D492CC/EMBED-images/splited-croped/tables/pos_validation.csv','w') as f:\n",
    "    pos_validation.to_csv(f)\n",
    "\n",
    "with open('/media/szelesteya/F824D4D024D492CC/EMBED-images/splited-croped/tables/pos_test.csv','w') as f:\n",
    "    pos_test.to_csv(f)"
   ]
  },
  {
   "cell_type": "code",
   "execution_count": 15,
   "metadata": {},
   "outputs": [
    {
     "name": "stdout",
     "output_type": "stream",
     "text": [
      "/media/szelesteya/F824D4D024D492CC/EMBED-images/training/negative/168_1.png\n",
      "/media/szelesteya/F824D4D024D492CC/EMBED-images/training/negative/45_0.png\n",
      "/media/szelesteya/F824D4D024D492CC/EMBED-images/training/negative/214_0.png\n",
      "/media/szelesteya/F824D4D024D492CC/EMBED-images/training/negative/140_1.png\n",
      "/media/szelesteya/F824D4D024D492CC/EMBED-images/training/negative/222_1.png\n",
      "/media/szelesteya/F824D4D024D492CC/EMBED-images/training/negative/213_1.png\n",
      "/media/szelesteya/F824D4D024D492CC/EMBED-images/training/negative/112_1.png\n",
      "/media/szelesteya/F824D4D024D492CC/EMBED-images/training/negative/109_0.png\n",
      "/media/szelesteya/F824D4D024D492CC/EMBED-images/training/negative/23_0.png\n",
      "/media/szelesteya/F824D4D024D492CC/EMBED-images/training/negative/22_1.png\n",
      "/media/szelesteya/F824D4D024D492CC/EMBED-images/training/negative/151_0.png\n",
      "/media/szelesteya/F824D4D024D492CC/EMBED-images/training/negative/152_1.png\n",
      "/media/szelesteya/F824D4D024D492CC/EMBED-images/training/negative/122_0.png\n",
      "/media/szelesteya/F824D4D024D492CC/EMBED-images/training/negative/110_0.png\n",
      "/media/szelesteya/F824D4D024D492CC/EMBED-images/training/negative/233_0.png\n",
      "/media/szelesteya/F824D4D024D492CC/EMBED-images/training/negative/193_0.png\n",
      "/media/szelesteya/F824D4D024D492CC/EMBED-images/training/negative/27_0.png\n",
      "/media/szelesteya/F824D4D024D492CC/EMBED-images/training/negative/169_0.png\n",
      "/media/szelesteya/F824D4D024D492CC/EMBED-images/training/negative/228_0.png\n",
      "/media/szelesteya/F824D4D024D492CC/EMBED-images/training/negative/9_1.png\n",
      "/media/szelesteya/F824D4D024D492CC/EMBED-images/training/negative/65_0.png\n",
      "/media/szelesteya/F824D4D024D492CC/EMBED-images/training/negative/11_0.png\n",
      "/media/szelesteya/F824D4D024D492CC/EMBED-images/training/negative/143_0.png\n",
      "/media/szelesteya/F824D4D024D492CC/EMBED-images/training/negative/184_1.png\n",
      "/media/szelesteya/F824D4D024D492CC/EMBED-images/training/negative/55_0.png\n",
      "/media/szelesteya/F824D4D024D492CC/EMBED-images/training/negative/63_1.png\n",
      "/media/szelesteya/F824D4D024D492CC/EMBED-images/training/negative/118_1.png\n",
      "/media/szelesteya/F824D4D024D492CC/EMBED-images/training/negative/205_0.png\n",
      "/media/szelesteya/F824D4D024D492CC/EMBED-images/training/negative/170_0.png\n",
      "/media/szelesteya/F824D4D024D492CC/EMBED-images/training/negative/123_1.png\n",
      "/media/szelesteya/F824D4D024D492CC/EMBED-images/training/negative/244_1.png\n",
      "/media/szelesteya/F824D4D024D492CC/EMBED-images/training/negative/74_0.png\n",
      "/media/szelesteya/F824D4D024D492CC/EMBED-images/training/negative/88_0.png\n",
      "/media/szelesteya/F824D4D024D492CC/EMBED-images/training/negative/158_0.png\n",
      "/media/szelesteya/F824D4D024D492CC/EMBED-images/training/negative/175_0.png\n",
      "/media/szelesteya/F824D4D024D492CC/EMBED-images/training/negative/94_1.png\n",
      "/media/szelesteya/F824D4D024D492CC/EMBED-images/training/negative/72_0.png\n",
      "/media/szelesteya/F824D4D024D492CC/EMBED-images/training/negative/187_0.png\n",
      "/media/szelesteya/F824D4D024D492CC/EMBED-images/training/negative/206_0.png\n",
      "/media/szelesteya/F824D4D024D492CC/EMBED-images/training/negative/165_0.png\n"
     ]
    }
   ],
   "source": [
    "for i,row in neg_train.iterrows():\n",
    "    train_path = re.sub(r\"\\/training\\/(positive|negative)\", \"/splited-croped/train/negative\", row['crop_path'])\n",
    "    try:\n",
    "        shutil.copyfile(f\"{row['crop_path']}\", train_path)\n",
    "    except FileNotFoundError:\n",
    "        shutil.copyfile(f\"{row['crop_path']}\", f\"{train_path}\")\n",
    "\n",
    "for i,row in pos_train.iterrows():\n",
    "    train_path = re.sub(r\"\\/training\\/(positive|negative)\", \"/splited-croped/train/positive\", row['crop_path'])\n",
    "    try:\n",
    "        shutil.copyfile(f\"{row['crop_path']}\", train_path)\n",
    "    except FileNotFoundError:\n",
    "        shutil.copyfile(f\"{row['crop_path']}\", f\"{train_path}\")\n",
    "\n",
    "for i,row in neg_validation.iterrows():\n",
    "    print(row['crop_path'])\n",
    "    train_path = re.sub(r\"\\/training\\/(positive|negative)\", \"/splited-croped/validation/negative\", row['crop_path'])\n",
    "    try:\n",
    "        shutil.copyfile(f\"{row['crop_path']}\", train_path)\n",
    "    except FileNotFoundError:\n",
    "        shutil.copyfile(f\"{row['crop_path']}\", f\"{train_path}\")\n",
    "\n",
    "\n",
    "for i,row in pos_validation.iterrows():\n",
    "    train_path = re.sub(r\"\\/training\\/(positive|negative)\", \"/splited-croped/validation/positive\", row['crop_path'])\n",
    "    try:\n",
    "        shutil.copyfile(f\"{row['crop_path']}\", train_path)\n",
    "    except FileNotFoundError:\n",
    "        shutil.copyfile(f\"{row['crop_path']}\", f\"{train_path}\")\n",
    "\n",
    "for i,row in neg_test.iterrows():\n",
    "    train_path = re.sub(r\"\\/training\\/(positive|negative)\", \"/splited-croped/test/negative\", row['crop_path'])\n",
    "    try:\n",
    "        shutil.copyfile(f\"{row['crop_path']}\", train_path)\n",
    "    except FileNotFoundError:\n",
    "        shutil.copyfile(f\"{row['crop_path']}\", f\"{train_path}\")\n",
    "\n",
    "for i,row in pos_test.iterrows():\n",
    "    train_path = re.sub(r\"\\/training\\/(positive|negative)\", \"/splited-croped/test/positive\", row['crop_path'])\n",
    "    try:\n",
    "        shutil.copyfile(f\"{row['crop_path']}\", train_path)\n",
    "    except FileNotFoundError:\n",
    "        shutil.copyfile(f\"{row['crop_path']}\", f\"{train_path}\")"
   ]
  },
  {
   "cell_type": "code",
   "execution_count": 83,
   "metadata": {},
   "outputs": [],
   "source": [
    "for i,row in validation.iterrows():\n",
    "    validation_path = re.sub(r\"\\/training\\/(positive|negative)\", \"/splited-croped/validation\", row['crop_path'])\n",
    "    try:\n",
    "        shutil.copyfile(fneg_\"{row['crop_path']}\", validation_path)\n",
    "    except FileNotFoundError:\n",
    "        shutil.copyfile(f\"{row['crop_path']}.png\", f\"{validation_path}.png\")\n"
   ]
  },
  {
   "cell_type": "code",
   "execution_count": 84,
   "metadata": {},
   "outputs": [],
   "source": [
    "for i,row in test.iterrows():\n",
    "    test_path = re.sub(r\"\\/training\\/(positive|negative)\", \"/splited-croped/test\", row['crop_path'])\n",
    "    try:\n",
    "        shutil.copyfile(f\"{row['crop_path']}\", test_path)\n",
    "    except FileNotFoundError:\n",
    "        shutil.copyfile(f\"{row['crop_path']}.png\", f\"{test_path}.png\")"
   ]
  },
  {
   "cell_type": "code",
   "execution_count": 91,
   "metadata": {},
   "outputs": [
    {
     "data": {
      "text/plain": [
       "(array([474.,   0.,   0.,   0.,   0.,   0.,   0.,   0.,   0., 536.]),\n",
       " array([0. , 0.1, 0.2, 0.3, 0.4, 0.5, 0.6, 0.7, 0.8, 0.9, 1. ]),\n",
       " <BarContainer object of 10 artists>)"
      ]
     },
     "execution_count": 91,
     "metadata": {},
     "output_type": "execute_result"
    },
    {
     "data": {
      "image/png": "[encoded data removed]",
      "text/plain": [
       "<Figure size 640x480 with 1 Axes>"
      ]
     },
     "metadata": {},
     "output_type": "display_data"
    }
   ],
   "source": [
    "plt.hist(train['label_0'])"
   ]
  },
  {
   "cell_type": "code",
   "execution_count": 64,
   "metadata": {},
   "outputs": [
    {
     "data": {
      "text/plain": [
       "'/media/szelesteya/F824D4D024D492CC/EMBED-images/splited-croped/train/207_pos'"
      ]
     },
     "execution_count": 64,
     "metadata": {},
     "output_type": "execute_result"
    }
   ],
   "source": [
    "\n",
    "re.sub(r\"\\/training\\/(positive|negative)\", \"/splited-croped/train\",'/media/szelesteya/F824D4D024D492CC/EMBED-images/training/positive/207_pos')"
   ]
  },
  {
   "cell_type": "code",
   "execution_count": null,
   "metadata": {},
   "outputs": [],
   "source": []
  }
 ],
 "metadata": {
  "kernelspec": {
   "display_name": "Python 3",
   "language": "python",
   "name": "python3"
  },
  "language_info": {
   "codemirror_mode": {
    "name": "ipython",
    "version": 3
   },
   "file_extension": ".py",
   "mimetype": "text/x-python",
   "name": "python",
   "nbconvert_exporter": "python",
   "pygments_lexer": "ipython3",
   "version": "3.10.12"
  }
 },
 "nbformat": 4,
 "nbformat_minor": 2
}
