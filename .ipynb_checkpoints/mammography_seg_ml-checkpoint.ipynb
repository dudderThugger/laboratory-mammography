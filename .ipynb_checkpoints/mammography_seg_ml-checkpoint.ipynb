{
 "cells": [
  {
   "cell_type": "markdown",
   "id": "8c7cbbff-7d0d-4ec0-a98b-f50ab4eabd71",
   "metadata": {},
   "source": [
    "# Mammography segmentation solutions with Machine Learning"
   ]
  },
  {
   "cell_type": "markdown",
   "id": "8bea5dd6-b9c9-4ab1-ad4d-147ea028ecc4",
   "metadata": {},
   "source": [
    "## Databases"
   ]
  },
  {
   "cell_type": "markdown",
   "id": "81a55967-6a67-43b9-8e60-213fbe24daf7",
   "metadata": {},
   "source": [
    "### EMBED\n",
    "EMmory brEast Imagin Dataset (EMBED): https://registry.opendata.aws/emory-breast-imaging-dataset-embed/\n"
   ]
  },
  {
   "cell_type": "markdown",
   "id": "4ec16687-b9c5-446e-905d-126e521be4cd",
   "metadata": {},
   "source": [
    "### INbreast\n",
    "INbreast Dataset: https://www.kaggle.com/datasets/ramanathansp20/inbreast-dataset\n",
    "\n",
    "\n"
   ]
  },
  {
   "cell_type": "markdown",
   "id": "b4dfd468-38ff-4f89-a3e6-38c58cb9476c",
   "metadata": {},
   "source": [
    "## Breast Calcification"
   ]
  },
  {
   "cell_type": "markdown",
   "id": "8398d214-b75f-434d-bb43-f36a591ab77f",
   "metadata": {},
   "source": [
    "Throughout discription:\n",
    "https://www.breastcancer.org/screening-testing/mammograms/calcifications\n",
    "\n",
    "\n"
   ]
  },
  {
   "cell_type": "markdown",
   "id": "fc2ac62c-77d5-4731-9866-e1431446ce1f",
   "metadata": {},
   "source": [
    "### Get statistics of calcifications and segmentations"
   ]
  },
  {
   "cell_type": "code",
   "execution_count": 42,
   "id": "488678c1-5b27-48d4-afa8-0984b071904d",
   "metadata": {},
   "outputs": [],
   "source": [
    "import pandas as pd\n",
    "import numpy as np"
   ]
  },
  {
   "cell_type": "code",
   "execution_count": 14,
   "id": "e5ce4ae4-4ab6-430b-bf07-d63cf2a9aea3",
   "metadata": {},
   "outputs": [],
   "source": [
    "tables_path = '/home/szelesteya/projects/EMBED_Open_Data'"
   ]
  },
  {
   "cell_type": "code",
   "execution_count": 46,
   "id": "5d991a2a-8425-43b0-b117-32c7857d60c8",
   "metadata": {},
   "outputs": [
    {
     "name": "stdout",
     "output_type": "stream",
     "text": [
      "<class 'pandas.core.frame.DataFrame'>\n",
      "RangeIndex: 1172 entries, 0 to 1171\n",
      "Data columns (total 4 columns):\n",
      " #   Column            Non-Null Count  Dtype \n",
      "---  ------            --------------  ----- \n",
      " 0   Header in export  1172 non-null   object\n",
      " 1   Discription       1172 non-null   object\n",
      " 2   Code              1129 non-null   object\n",
      " 3   Meaning           1120 non-null   object\n",
      "dtypes: object(4)\n",
      "memory usage: 36.8+ KB\n",
      "None\n",
      "\n",
      "Possible calcification findings and it's codes:\n",
      "[['Amorphous' 'A']\n",
      " ['Benign' '9']\n",
      " ['Coarse heterogeneous' 'H']\n",
      " ['Course Popcorn-like' 'C']\n",
      " ['Dystrophic' 'D']\n",
      " ['Rim' 'E']\n",
      " ['Fine-linear (casting)' 'F']\n",
      " ['Fine linear-branching (casting)' 'B']\n",
      " ['Generic' 'G']\n",
      " ['Fine pleomorphic' 'I']\n",
      " ['Large Rodlike' 'L']\n",
      " ['Milk of calcium' 'M']\n",
      " ['Oil Cyst' 'J']\n",
      " ['Pleomorphic' 'K']\n",
      " ['Punctate' 'P']\n",
      " ['Round' 'R']\n",
      " ['Skin' 'S']\n",
      " ['Lucent-centered' 'O']\n",
      " ['Suture' 'U']\n",
      " ['Vascular' 'V']\n",
      " ['Coarse' 'Q']]\n",
      "\n",
      "Possible calcification distribution types and it's codes:\n",
      "[['Grouped' 'G']\n",
      " ['Segmental' 'S']\n",
      " ['Regional' 'R']\n",
      " ['Diffuse/scattered' 'D']\n",
      " ['Linear' 'L']\n",
      " ['Clustered' 'C']]\n"
     ]
    }
   ],
   "source": [
    "legends = pd.read_csv(tables_path + 'AWS_Open_Data_Clinical_Legend.csv')\n",
    "\n",
    "print(legends.info())\n",
    "\n",
    "calc_findings_codes = (legends[legends['Header in export'].str.contains('calcfind')])[['Meaning','Code']].values\n",
    "calc_distrib_codes = (legends[legends['Header in export'].str.contains('calcdistri')])[['Meaning','Code']].values\n",
    "\n",
    "## Possible calcification findings and it's codes\n",
    "print(\"\\nPossible calcification findings and it's codes:\")\n",
    "print(calc_findings_codes)\n",
    "\n",
    "## Possible calcification distribution types and it's codes\n",
    "print(\"\\nPossible calcification distribution types and it's codes:\")\n",
    "print(calc_distrib_codes)"
   ]
  },
  {
   "cell_type": "code",
   "execution_count": 55,
   "id": "9ba51633-499c-41bd-86d9-583432a50e05",
   "metadata": {},
   "outputs": [
    {
     "name": "stdout",
     "output_type": "stream",
     "text": [
      "       Unnamed: 0 calcfind calcdistri\n",
      "8             141        P          G\n",
      "16            169      A,M          R\n",
      "22            194        I          C\n",
      "23            195        I          C\n",
      "28            205        P          R\n",
      "...           ...      ...        ...\n",
      "81607       85461    A,M,R          G\n",
      "81670       85560        A          G\n",
      "81756       85697      M,R          G\n",
      "81757       85698      A,M          G\n",
      "81764       85707        P          G\n",
      "\n",
      "[3240 rows x 3 columns]\n"
     ]
    }
   ],
   "source": [
    "data = pd.read_csv(tables_path + 'EMBED_OpenData_clinical.csv', low_memory=False)\n",
    "\n",
    "records_with_calc_finding = (data[data['calcfind'].notna() & data['calcdistri'].notna()])[['Unnamed: 0','calcfind', 'calcdistri']]\n",
    "\n",
    "print(records_with_calc_finding)"
   ]
  },
  {
   "cell_type": "code",
   "execution_count": 61,
   "id": "2684107d-4c31-4c3b-8438-7077f80ce2b1",
   "metadata": {},
   "outputs": [
    {
     "name": "stdout",
     "output_type": "stream",
     "text": [
      "       Unnamed: 0 calcfind calcdistri\n",
      "158           353        K          C\n",
      "1549         1745        K          C\n",
      "1704         1900        K          G\n",
      "1713         1909        K          C\n",
      "1715         1911        K          L\n",
      "...           ...      ...        ...\n",
      "78467       80831        K          G\n",
      "78517       80881        K          L\n",
      "78700       81065        K          G\n",
      "79268       81649        K          S\n",
      "81364       85062        K          G\n",
      "\n",
      "[148 rows x 3 columns]\n"
     ]
    }
   ],
   "source": [
    "pleomorphic_calc = records_with_calc_finding[records_with_calc_finding['calcfind'] == 'K']\n",
    "\n",
    "print(pleomorphic_calc)"
   ]
  }
 ],
 "metadata": {
  "kernelspec": {
   "display_name": "Python 3 (ipykernel)",
   "language": "python",
   "name": "python3"
  },
  "language_info": {
   "codemirror_mode": {
    "name": "ipython",
    "version": 3
   },
   "file_extension": ".py",
   "mimetype": "text/x-python",
   "name": "python",
   "nbconvert_exporter": "python",
   "pygments_lexer": "ipython3",
   "version": "3.10.12"
  }
 },
 "nbformat": 4,
 "nbformat_minor": 5
}
