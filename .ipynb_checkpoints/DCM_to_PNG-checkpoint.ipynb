{
 "cells": [
  {
   "cell_type": "markdown",
   "id": "390ef298",
   "metadata": {},
   "source": [
    "# Converting a List of DICOMs to PNG. This notebook will read DICOM files and convert them to 16-bit PNG. Flipping logic is included such that both left and right breast images will be pointed in the same direction to improve model training."
   ]
  },
  {
   "cell_type": "code",
   "execution_count": 5,
   "id": "8f9f9921",
   "metadata": {},
   "outputs": [
    {
     "ename": "ModuleNotFoundError",
     "evalue": "No module named 'png'",
     "output_type": "error",
     "traceback": [
      "\u001b[0;31m---------------------------------------------------------------------------\u001b[0m",
      "\u001b[0;31mModuleNotFoundError\u001b[0m                       Traceback (most recent call last)",
      "Cell \u001b[0;32mIn[5], line 4\u001b[0m\n\u001b[1;32m      2\u001b[0m \u001b[38;5;28;01mimport\u001b[39;00m \u001b[38;5;21;01mnumpy\u001b[39;00m \u001b[38;5;28;01mas\u001b[39;00m \u001b[38;5;21;01mnp\u001b[39;00m\n\u001b[1;32m      3\u001b[0m \u001b[38;5;28;01mimport\u001b[39;00m \u001b[38;5;21;01mpandas\u001b[39;00m \u001b[38;5;28;01mas\u001b[39;00m \u001b[38;5;21;01mpd\u001b[39;00m\n\u001b[0;32m----> 4\u001b[0m \u001b[38;5;28;01mimport\u001b[39;00m \u001b[38;5;21;01mpng\u001b[39;00m\n",
      "\u001b[0;31mModuleNotFoundError\u001b[0m: No module named 'png'"
     ]
    }
   ],
   "source": [
    "import pydicom\n",
    "import numpy as np\n",
    "import pandas as pd\n",
    "import png"
   ]
  },
  {
   "cell_type": "code",
   "execution_count": null,
   "id": "33c007a2",
   "metadata": {},
   "outputs": [],
   "source": []
  },
  {
   "cell_type": "code",
   "execution_count": 6,
   "id": "7eb4de29",
   "metadata": {},
   "outputs": [],
   "source": [
    "# Get DICOM image metadata\n",
    "class DCM_Tags():\n",
    "    def __init__(self, img_dcm):\n",
    "        try:\n",
    "            self.laterality = img_dcm.ImageLaterality\n",
    "        except AttributeError:\n",
    "            self.laterality = np.nan\n",
    "            \n",
    "        try:\n",
    "            self.view = img_dcm.ViewPosition\n",
    "        except AttributeError:\n",
    "            self.view = np.nan\n",
    "            \n",
    "        try:\n",
    "            self.orientation = img_dcm.PatientOrientation\n",
    "        except AttributeError:\n",
    "            self.orientation = np.nan\n",
    "\n",
    "# Check whether DICOM should be flipped\n",
    "def check_dcm(imgdcm):\n",
    "    # Get DICOM metadata\n",
    "    tags = DCM_Tags(imgdcm)\n",
    "    \n",
    "    # If image orientation tag is defined\n",
    "    if ~pd.isnull(tags.orientation):\n",
    "        # CC view\n",
    "        if tags.view == 'CC':\n",
    "            if tags.orientation[0] == 'P':\n",
    "                flipHorz = True\n",
    "            else:\n",
    "                flipHorz = False\n",
    "            \n",
    "            if (tags.laterality == 'L') & (tags.orientation[1] == 'L'):\n",
    "                flipVert = True\n",
    "            elif (tags.laterality == 'R') & (tags.orientation[1] == 'R'):\n",
    "                flipVert = True\n",
    "            else:\n",
    "                flipVert = False\n",
    "        \n",
    "        # MLO or ML views\n",
    "        elif (tags.view == 'MLO') | (tags.view == 'ML'):\n",
    "            if tags.orientation[0] == 'P':\n",
    "                flipHorz = True\n",
    "            else:\n",
    "                flipHorz = False\n",
    "            \n",
    "            if (tags.laterality == 'L') & ((tags.orientation[1] == 'H') | (tags.orientation[1] == 'HL')):\n",
    "                flipVert = True\n",
    "            elif (tags.laterality == 'R') & ((tags.orientation[1] == 'H') | (tags.orientation[1] == 'HR')):\n",
    "                flipVert = True\n",
    "            else:\n",
    "                flipVert = False\n",
    "        \n",
    "        # Unrecognized view\n",
    "        else:\n",
    "            flipHorz = False\n",
    "            flipVert = False\n",
    "            \n",
    "    # If image orientation tag is undefined\n",
    "    else:\n",
    "        # Flip RCC, RML, and RMLO images\n",
    "        if (tags.laterality == 'R') & ((tags.view == 'CC') | (tags.view == 'ML') | (tags.view == 'MLO')):\n",
    "            flipHorz = True\n",
    "            flipVert = False\n",
    "        else:\n",
    "            flipHorz = False\n",
    "            flipVert = False\n",
    "            \n",
    "    return flipHorz, flipVert\n",
    "\n",
    "# Save DICOM pixel array as PNG\n",
    "def save_dcm_image_as_png(image, png_filename, bitdepth=12):\n",
    "    with open(png_filename, 'wb') as f:\n",
    "        writer = png.Writer(height=image.shape[0], \n",
    "                            width=image.shape[1], \n",
    "                            bitdepth=bitdepth, \n",
    "                            greyscale=True)\n",
    "        writer.write(f, image.tolist())"
   ]
  },
  {
   "cell_type": "code",
   "execution_count": 7,
   "id": "79563299",
   "metadata": {},
   "outputs": [],
   "source": [
    "# Convert list of DICOMs to PNGs\n",
    "def process_dcm_list(dcm_list, save_path):\n",
    "    for i, dcm_path in enumerate(dcm_list):\n",
    "        print(f\"Processing DICOM #{i}...\")\n",
    "        \n",
    "        # Load DICOM\n",
    "        dcm = pydicom.dcmread(dcm_path)\n",
    "        img = dcm.pixel_array\n",
    "        \n",
    "        # Check if a horizontal flip is necessary\n",
    "        horz, _ = check_dcm(dcm)\n",
    "        if horz:\n",
    "            # Flip img horizontally\n",
    "            img = np.fliplr(img)\n",
    "        \n",
    "        # Get new file name\n",
    "        split_fn = dcm_path[:-4].split('/')\n",
    "        new_fn = f\"{split_fn[-1]}_conv.png\"\n",
    "        \n",
    "        # Save PNG\n",
    "        png_path = save_path + new_fn\n",
    "        save_dcm_image_as_png(img, png_path)"
   ]
  },
  {
   "cell_type": "code",
   "execution_count": null,
   "id": "29bc2f2c",
   "metadata": {},
   "outputs": [],
   "source": []
  },
  {
   "cell_type": "code",
   "execution_count": 9,
   "id": "06c2d5b1",
   "metadata": {},
   "outputs": [],
   "source": [
    "image_path = \"/media/szelesteya/F824D4D024D492CC/EMBED-images/pleomorphic-calcification\n",
    "\n",
    "# Provide a list of DICOM paths and a target directory\n",
    "with open('/home/szelesteya/projects/EMBED_Open_Data/pleomorphic_path.csv', 'r') as f:\n",
    "    for line in f:\n",
    "        path_parts = '/'.join(line.split('/')[3:])\n",
    "        print(path_parts)\n",
    "\n",
    "dcm_list = []\n",
    "save_path = \"/media/szelesteya/F824D4D024D492CC/EMBED-images/pleomorphic-calcification-png/\"\n",
    "\n",
    "# Convert DICOMs\n",
    "process_dcm_list(dcm_list, save_path)"
   ]
  },
  {
   "cell_type": "code",
   "execution_count": null,
   "id": "025505a7",
   "metadata": {},
   "outputs": [],
   "source": []
  }
 ],
 "metadata": {
  "kernelspec": {
   "display_name": "Python 3 (ipykernel)",
   "language": "python",
   "name": "python3"
  },
  "language_info": {
   "codemirror_mode": {
    "name": "ipython",
    "version": 3
   },
   "file_extension": ".py",
   "mimetype": "text/x-python",
   "name": "python",
   "nbconvert_exporter": "python",
   "pygments_lexer": "ipython3",
   "version": "3.10.12"
  }
 },
 "nbformat": 4,
 "nbformat_minor": 5
}
