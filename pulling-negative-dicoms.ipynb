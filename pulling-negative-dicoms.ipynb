{
 "cells": [
  {
   "cell_type": "markdown",
   "id": "f18cbf40-9be1-4d9f-904e-9546b3b34177",
   "metadata": {},
   "source": [
    "# Negative samples for the dataset"
   ]
  },
  {
   "cell_type": "code",
   "execution_count": 1,
   "id": "b71c5864-24fa-49e2-96d1-155297774e69",
   "metadata": {},
   "outputs": [],
   "source": [
    "import pandas as pd\n",
    "import numpy as np\n",
    "import pydicom\n",
    "import png\n",
    "import math\n",
    "from PIL import Image\n",
    "from pathlib import Path\n",
    "import boto3\n",
    "import matplotlib.pyplot as plt\n",
    "\n",
    "data_path = '/home/szelesteya/projects/EMBED_Open_Data/'\n",
    "tables_path = data_path + 'tables/'\n",
    "image_root_path = '/media/szelesteya/F824D4D024D492CC/EMBED-images/'\n",
    "image_dcm_path = image_root_path + 'dicom-negative/'\n",
    "image_png_path = image_root_path + 'negative-full'"
   ]
  },
  {
   "cell_type": "code",
   "execution_count": 2,
   "id": "b149ee51-39c8-4f2f-a40d-9df72538c485",
   "metadata": {},
   "outputs": [],
   "source": [
    "cli_df = pd.read_csv(tables_path + 'EMBED_OpenData_clinical.csv', low_memory=False)\n",
    "\n",
    "# Only keeping result BIRADS-1 and BIRADS-2 screenings\n",
    "neg_cli_df = cli_df[(cli_df.asses.isin(['N'])) & \n",
    "                    cli_df.desc.str.contains('screen', case=False)][['Unnamed: 0',\n",
    "                                                                     'empi_anon',\n",
    "                                                                     'acc_anon',\n",
    "                                                                     'side',\n",
    "                                                                     'calcfind',\n",
    "                                                                     'calcdistri',\n",
    "                                                                     'otherfind',\n",
    "                                                                     'numfind',\n",
    "                                                                     'path_severity',\n",
    "                                                                     'age_at_study',\n",
    "                                                                     'ETHNICITY_DESC',\n",
    "                                                                     'study_date_anon',\n",
    "                                                                     'asses']]"
   ]
  },
  {
   "cell_type": "code",
   "execution_count": 3,
   "id": "299805f3-91e1-4df3-a23d-1f612e4c6c85",
   "metadata": {},
   "outputs": [],
   "source": [
    "# Merging clinical information with medical ones\n",
    "meta_df = (pd.read_csv(tables_path + 'EMBED_OpenData_metadata_reduced.csv', low_memory=False))\n",
    "meta_red_df = meta_df[(meta_df['spot_mag'] != 1) &\n",
    "                      (meta_df['FinalImageType'] == '2D') &\n",
    "                      (meta_df['ViewPosition'] == 'CC')][[  'empi_anon',\n",
    "                                                            'acc_anon',\n",
    "                                                            'ImageLateralityFinal',\n",
    "                                                            'anon_dicom_path',\n",
    "                                                            'ViewPosition',\n",
    "                                                            'ROI_coords']]\n",
    "\n",
    "# Rename columns to prepare for merge\n",
    "meta_red_ren_df = meta_red_df.rename(columns={'ImageLateralityFinal':'side'})"
   ]
  },
  {
   "cell_type": "code",
   "execution_count": 4,
   "id": "c8ef010f-fbdb-4073-b1d8-c91eeb77703b",
   "metadata": {},
   "outputs": [],
   "source": [
    "neg_full_df = neg_cli_df.merge(meta_red_ren_df, on=['empi_anon','acc_anon','side'])\n",
    "\n",
    "# Keeping relevant columns\n",
    "neg_empi_df = neg_full_df[[ 'empi_anon',\n",
    "                           'acc_anon',\n",
    "                           'anon_dicom_path',\n",
    "                           'side',\n",
    "                           'asses',\n",
    "                           'age_at_study',\n",
    "                           'calcfind',\n",
    "                           'calcdistri',\n",
    "                           'otherfind',\n",
    "                           'numfind',\n",
    "                           'ROI_coords',\n",
    "                           'ETHNICITY_DESC',\n",
    "                           'study_date_anon']]\n",
    "\n",
    "# Rename columns to be more consistent\n",
    "neg_empi_df = neg_empi_df.rename(columns={'ETHNICITY_DESC':'eth_desc',\n",
    "                                          'calcfind':'calc_find',\n",
    "                                          'calcdistri':'calc_distrib',\n",
    "                                          'otherfind':'other_find',\n",
    "                                          'numfind':'num_find'})\n",
    "\n",
    "# Generate paths for png extraction\n",
    "neg_empi_df.loc[:, 'relative_dcm_path'] = neg_empi_df['anon_dicom_path'].apply(lambda x: '/'.join(x.split('/')[5:]))"
   ]
  },
  {
   "cell_type": "code",
   "execution_count": 5,
   "id": "92810d24-b9b0-4df6-b4e4-21f61ffeafd4",
   "metadata": {},
   "outputs": [],
   "source": [
    "# Ordering negative data by study date\n",
    "neg_empi_ord_df = neg_empi_df.sort_values(by=['study_date_anon'], ascending=False)\n",
    "\n",
    "# Choosing unique patients\n",
    "neg_empi_fin_df = neg_empi_ord_df.drop_duplicates(subset=['empi_anon','acc_anon','side'], keep='first')[['empi_anon',\n",
    "                                                                                       'acc_anon',\n",
    "                                                                                       'side',\n",
    "                                                                                       'asses',\n",
    "                                                                                       'age_at_study',\n",
    "                                                                                       'relative_dcm_path',\n",
    "                                                                                       'calc_find',\n",
    "                                                                                       'calc_distrib',\n",
    "                                                                                       'other_find',\n",
    "                                                                                       'num_find',\n",
    "                                                                                       'ROI_coords',\n",
    "                                                                                       'eth_desc',\n",
    "                                                                                       'study_date_anon']]"
   ]
  },
  {
   "cell_type": "code",
   "execution_count": 28,
   "id": "b2432a9e-b10f-45d9-ac31-1d38425e8437",
   "metadata": {},
   "outputs": [
    {
     "ename": "NameError",
     "evalue": "name 'neg_empi_find_unique_df' is not defined",
     "output_type": "error",
     "traceback": [
      "\u001b[0;31m---------------------------------------------------------------------------\u001b[0m",
      "\u001b[0;31mNameError\u001b[0m                                 Traceback (most recent call last)",
      "Cell \u001b[0;32mIn[28], line 2\u001b[0m\n\u001b[1;32m      1\u001b[0m \u001b[38;5;66;03m# neg_empi_fin_df[(neg_empi_fin_df['ROI_coords'] == '()') & neg_empi_fin_df['num_find'] == 1]\u001b[39;00m\n\u001b[0;32m----> 2\u001b[0m neg_empi_find_unique_df \u001b[38;5;241m=\u001b[39m \u001b[43mneg_empi_find_unique_df\u001b[49m\u001b[38;5;241m.\u001b[39mdrop_duplicates(subset\u001b[38;5;241m=\u001b[39m[\u001b[38;5;124m'\u001b[39m\u001b[38;5;124mempi_anon\u001b[39m\u001b[38;5;124m'\u001b[39m,\u001b[38;5;124m'\u001b[39m\u001b[38;5;124macc_anon\u001b[39m\u001b[38;5;124m'\u001b[39m,\u001b[38;5;124m'\u001b[39m\u001b[38;5;124mside\u001b[39m\u001b[38;5;124m'\u001b[39m])\n",
      "\u001b[0;31mNameError\u001b[0m: name 'neg_empi_find_unique_df' is not defined"
     ]
    }
   ],
   "source": [
    "# neg_empi_fin_df[(neg_empi_fin_df['ROI_coords'] == '()') & neg_empi_fin_df['num_find'] == 1]\n",
    "neg_empi_find_unique_df = neg_empi_find_unique_df.drop_duplicates(subset=['empi_anon','acc_anon','side'])"
   ]
  },
  {
   "cell_type": "code",
   "execution_count": 27,
   "id": "5df1afa6",
   "metadata": {},
   "outputs": [
    {
     "ename": "NameError",
     "evalue": "name 'neg_empi_find_unique_df' is not defined",
     "output_type": "error",
     "traceback": [
      "\u001b[0;31m---------------------------------------------------------------------------\u001b[0m",
      "\u001b[0;31mNameError\u001b[0m                                 Traceback (most recent call last)",
      "Cell \u001b[0;32mIn[27], line 1\u001b[0m\n\u001b[0;32m----> 1\u001b[0m neg_empi_find_unique_df \u001b[38;5;241m=\u001b[39m \u001b[43mneg_empi_find_unique_df\u001b[49m\u001b[38;5;241m.\u001b[39mdrop_duplicates(subset\u001b[38;5;241m=\u001b[39m[\u001b[38;5;124m'\u001b[39m\u001b[38;5;124mempi_anon\u001b[39m\u001b[38;5;124m'\u001b[39m,\u001b[38;5;124m'\u001b[39m\u001b[38;5;124macc_anon\u001b[39m\u001b[38;5;124m'\u001b[39m,\u001b[38;5;124m'\u001b[39m\u001b[38;5;124mside\u001b[39m\u001b[38;5;124m'\u001b[39m])\n",
      "\u001b[0;31mNameError\u001b[0m: name 'neg_empi_find_unique_df' is not defined"
     ]
    }
   ],
   "source": []
  },
  {
   "cell_type": "code",
   "execution_count": 24,
   "id": "addfae78-ab0f-4405-9ec0-05f04f8e7d11",
   "metadata": {},
   "outputs": [],
   "source": [
    "with open(data_path + 'negative_empirical.csv', 'w') as f:\n",
    "    neg_empi_fin_df.to_csv(f, index=False)"
   ]
  },
  {
   "cell_type": "code",
   "execution_count": 10,
   "id": "aa2809fe-9e75-4e65-83b3-a6759b80d756",
   "metadata": {},
   "outputs": [],
   "source": [
    "with open(data_path + 'negative_path.csv', 'w') as f:\n",
    "    neg_empi_fin_df['relative_dcm_path'].to_csv(f, index=False)"
   ]
  },
  {
   "cell_type": "code",
   "execution_count": 23,
   "id": "c17ed3e6-a113-4ccd-ae4f-c05e6a1c19bb",
   "metadata": {},
   "outputs": [
    {
     "name": "stdout",
     "output_type": "stream",
     "text": [
      "1 / 1000\n",
      "File already present\n"
     ]
    },
    {
     "name": "stderr",
     "output_type": "stream",
     "text": [
      "rmdir: failed to remove '/media/szelesteya/F824D4D024D492CC/EMBED-images/dicom-negative/1.2.848.113972.3.63.1.59336055.20190518.1102855/1.2.842.113686.2750824662.1557987688.4775.34783': No such file or directory\n"
     ]
    },
    {
     "name": "stdout",
     "output_type": "stream",
     "text": [
      "\u001b[H\u001b[2J2 / 1000\n",
      "File already present\n"
     ]
    },
    {
     "name": "stderr",
     "output_type": "stream",
     "text": [
      "rmdir: failed to remove '/media/szelesteya/F824D4D024D492CC/EMBED-images/dicom-negative/1.2.848.113976.3.63.1.59845659.20190808.1141614/1.2.841.113688.2750828055.1564639049.2066.719408': Directory not empty\n"
     ]
    },
    {
     "name": "stdout",
     "output_type": "stream",
     "text": [
      "\u001b[H\u001b[2J3 / 1000\n",
      "File already present\n"
     ]
    },
    {
     "name": "stderr",
     "output_type": "stream",
     "text": [
      "rmdir: failed to remove '/media/szelesteya/F824D4D024D492CC/EMBED-images/dicom-negative/1.2.842.113977.3.60.1.59158004.20190424.1/1.2.846.113681.2750828171.1555664378.4961.6306': No such file or directory\n"
     ]
    },
    {
     "name": "stdout",
     "output_type": "stream",
     "text": [
      "\u001b[H\u001b[2J4 / 1000\n",
      "File already present\n"
     ]
    },
    {
     "name": "stderr",
     "output_type": "stream",
     "text": [
      "rmdir: failed to remove '/media/szelesteya/F824D4D024D492CC/EMBED-images/dicom-negative/1.2.842.113973.3.63.1.58986840.20190327.1124543/1.2.847.113689.2750824504.1553495385.4247.41617': No such file or directory\n"
     ]
    },
    {
     "name": "stdout",
     "output_type": "stream",
     "text": [
      "\u001b[H\u001b[2J5 / 1000\n",
      "File already present\n"
     ]
    },
    {
     "name": "stderr",
     "output_type": "stream",
     "text": [
      "rmdir: failed to remove '/media/szelesteya/F824D4D024D492CC/EMBED-images/dicom-negative/1.2.840.113978.3.65.1.61201560.20200220.1124536/1.2.844.113685.2750824978.1581573479.4983.38471': No such file or directory\n"
     ]
    },
    {
     "name": "stdout",
     "output_type": "stream",
     "text": [
      "\u001b[H\u001b[2J6 / 1000\n",
      "File already present\n"
     ]
    },
    {
     "name": "stderr",
     "output_type": "stream",
     "text": [
      "rmdir: failed to remove '/media/szelesteya/F824D4D024D492CC/EMBED-images/dicom-negative/1.2.848.113974.3.61.1.60977923.20200122.1093565/1.2.849.113681.2750824975.1578981245.4412.17220': No such file or directory\n"
     ]
    },
    {
     "name": "stdout",
     "output_type": "stream",
     "text": [
      "\u001b[H\u001b[2J7 / 1000\n",
      "File already present\n"
     ]
    },
    {
     "name": "stderr",
     "output_type": "stream",
     "text": [
      "rmdir: failed to remove '/media/szelesteya/F824D4D024D492CC/EMBED-images/dicom-negative/1.2.528.1.1010.101.2.6947.6948.1.20190510150019295/1.2.532.1.1009.109.3.6944.6952.1.20190510150019299': No such file or directory\n"
     ]
    },
    {
     "name": "stdout",
     "output_type": "stream",
     "text": [
      "\u001b[H\u001b[2J8 / 1000\n",
      "File already present\n"
     ]
    },
    {
     "name": "stderr",
     "output_type": "stream",
     "text": [
      "rmdir: failed to remove '/media/szelesteya/F824D4D024D492CC/EMBED-images/dicom-negative/1.2.848.113976.3.60.1.60268843.20191008.1134655/1.2.847.113689.2750824502.1569997801.4769.727075': No such file or directory\n"
     ]
    },
    {
     "name": "stdout",
     "output_type": "stream",
     "text": [
      "\u001b[H\u001b[2J9 / 1000\n",
      "File already present\n"
     ]
    },
    {
     "name": "stderr",
     "output_type": "stream",
     "text": [
      "rmdir: failed to remove '/media/szelesteya/F824D4D024D492CC/EMBED-images/dicom-negative/1.2.845.113972.3.65.1.59752979.20190718.1121710/1.2.843.113683.2750824501.1563431494.4605.141362': No such file or directory\n"
     ]
    },
    {
     "name": "stdout",
     "output_type": "stream",
     "text": [
      "\u001b[H\u001b[2J10 / 1000\n",
      "File already present\n"
     ]
    },
    {
     "name": "stderr",
     "output_type": "stream",
     "text": [
      "rmdir: failed to remove '/media/szelesteya/F824D4D024D492CC/EMBED-images/dicom-negative/1.2.847.113972.3.61.1.61138560.20200210.1080642/1.2.843.113684.2750824983.1580882409.4729.6195': No such file or directory\n"
     ]
    },
    {
     "name": "stdout",
     "output_type": "stream",
     "text": [
      "\u001b[H\u001b[2J11 / 1000\n",
      "File already present\n"
     ]
    },
    {
     "name": "stderr",
     "output_type": "stream",
     "text": [
      "rmdir: failed to remove '/media/szelesteya/F824D4D024D492CC/EMBED-images/dicom-negative/1.2.847.113971.3.61.1.60919806.20200111.1103630/1.2.841.113682.2750824485.1578292519.3425.32639': No such file or directory\n"
     ]
    },
    {
     "name": "stdout",
     "output_type": "stream",
     "text": [
      "\u001b[H\u001b[2J12 / 1000\n",
      "File already present\n"
     ]
    },
    {
     "name": "stderr",
     "output_type": "stream",
     "text": [
      "rmdir: failed to remove '/media/szelesteya/F824D4D024D492CC/EMBED-images/dicom-negative/1.2.848.113977.3.60.1.59219717.20190438.1095045/1.2.844.113684.2750824543.1556519400.4250.22716': No such file or directory\n"
     ]
    },
    {
     "name": "stdout",
     "output_type": "stream",
     "text": [
      "\u001b[H\u001b[2J13 / 1000\n",
      "File already present\n"
     ]
    },
    {
     "name": "stderr",
     "output_type": "stream",
     "text": [
      "rmdir: failed to remove '/media/szelesteya/F824D4D024D492CC/EMBED-images/dicom-negative/1.2.843.113978.3.64.1.59475724.20190608.1/1.2.844.113689.2750851781.1559804608.4526.29319': Directory not empty\n"
     ]
    },
    {
     "name": "stdout",
     "output_type": "stream",
     "text": [
      "\u001b[H\u001b[2J14 / 1000\n",
      "File already present\n"
     ]
    },
    {
     "name": "stderr",
     "output_type": "stream",
     "text": [
      "rmdir: failed to remove '/media/szelesteya/F824D4D024D492CC/EMBED-images/dicom-negative/1.2.844.113979.3.61.1.59291816.20190512.1141058/1.2.847.113688.2750824543.1557383323.3989.55446': No such file or directory\n"
     ]
    },
    {
     "name": "stdout",
     "output_type": "stream",
     "text": [
      "\u001b[H\u001b[2J15 / 1000\n",
      "File already present\n"
     ]
    },
    {
     "name": "stderr",
     "output_type": "stream",
     "text": [
      "rmdir: failed to remove '/media/szelesteya/F824D4D024D492CC/EMBED-images/dicom-negative/1.2.846.113978.3.58.1.61119292.20200208.1092458/1.2.843.113684.2750824487.1580711681.5092.27770': No such file or directory\n"
     ]
    },
    {
     "name": "stdout",
     "output_type": "stream",
     "text": [
      "\u001b[H\u001b[2J16 / 1000\n",
      "File already present\n"
     ]
    },
    {
     "name": "stderr",
     "output_type": "stream",
     "text": [
      "rmdir: failed to remove '/media/szelesteya/F824D4D024D492CC/EMBED-images/dicom-negative/1.2.842.113972.3.59.1.59527436.20190618.1103223/1.2.845.113690.2750824485.1560408106.4825.259204': No such file or directory\n"
     ]
    },
    {
     "name": "stdout",
     "output_type": "stream",
     "text": [
      "\u001b[H\u001b[2J17 / 1000\n",
      "File already present\n"
     ]
    },
    {
     "name": "stderr",
     "output_type": "stream",
     "text": [
      "rmdir: failed to remove '/media/szelesteya/F824D4D024D492CC/EMBED-images/dicom-negative/1.2.844.113973.3.59.1.58904769.20190314.1082205/1.2.846.113683.2750824550.1552458950.4030.133827': No such file or directory\n"
     ]
    },
    {
     "name": "stdout",
     "output_type": "stream",
     "text": [
      "\u001b[H\u001b[2J18 / 1000\n",
      "File already present\n"
     ]
    },
    {
     "name": "stderr",
     "output_type": "stream",
     "text": [
      "rmdir: failed to remove '/media/szelesteya/F824D4D024D492CC/EMBED-images/dicom-negative/1.2.849.113972.3.65.1.59202752.20190428.1152137/1.2.846.113690.2750824503.1556173869.4397.88150': No such file or directory\n"
     ]
    },
    {
     "name": "stdout",
     "output_type": "stream",
     "text": [
      "\u001b[H\u001b[2J19 / 1000\n",
      "File already present\n"
     ]
    },
    {
     "name": "stderr",
     "output_type": "stream",
     "text": [
      "rmdir: failed to remove '/media/szelesteya/F824D4D024D492CC/EMBED-images/dicom-negative/1.2.848.113978.3.59.1.59564663.20190626.1092752/1.2.848.113689.2750828070.1560924654.5121.260925': No such file or directory\n"
     ]
    },
    {
     "name": "stdout",
     "output_type": "stream",
     "text": [
      "\u001b[H\u001b[2J20 / 1000\n",
      "File already present\n"
     ]
    },
    {
     "name": "stderr",
     "output_type": "stream",
     "text": [
      "rmdir: failed to remove '/media/szelesteya/F824D4D024D492CC/EMBED-images/dicom-negative/1.2.847.113974.3.59.1.60284640.20191008.1141116/1.2.840.113684.2750825167.1570113524.4479.67129': No such file or directory\n"
     ]
    },
    {
     "name": "stdout",
     "output_type": "stream",
     "text": [
      "\u001b[H\u001b[2J21 / 1000\n",
      "File already present\n"
     ]
    },
    {
     "name": "stderr",
     "output_type": "stream",
     "text": [
      "rmdir: failed to remove '/media/szelesteya/F824D4D024D492CC/EMBED-images/dicom-negative/1.2.846.113973.3.65.1.60574408.20191120.1125845/1.2.847.113687.2750828067.1573711401.5077.55609': No such file or directory\n"
     ]
    },
    {
     "name": "stdout",
     "output_type": "stream",
     "text": [
      "\u001b[H\u001b[2J22 / 1000\n",
      "File already present\n"
     ]
    },
    {
     "name": "stderr",
     "output_type": "stream",
     "text": [
      "rmdir: failed to remove '/media/szelesteya/F824D4D024D492CC/EMBED-images/dicom-negative/1.2.841.113974.3.57.1.58782091.20190226.1141919/1.2.844.113688.2750828068.1550818593.5112.382607': No such file or directory\n"
     ]
    },
    {
     "name": "stdout",
     "output_type": "stream",
     "text": [
      "\u001b[H\u001b[2J23 / 1000\n",
      "File already present\n"
     ]
    },
    {
     "name": "stderr",
     "output_type": "stream",
     "text": [
      "rmdir: failed to remove '/media/szelesteya/F824D4D024D492CC/EMBED-images/dicom-negative/1.2.845.113973.3.66.1.59372864.20190522.1120203/1.2.849.113683.2750824973.1558418590.3420.27232': No such file or directory\n"
     ]
    },
    {
     "name": "stdout",
     "output_type": "stream",
     "text": [
      "\u001b[H\u001b[2J24 / 1000\n",
      "File already present\n"
     ]
    },
    {
     "name": "stderr",
     "output_type": "stream",
     "text": [
      "rmdir: failed to remove '/media/szelesteya/F824D4D024D492CC/EMBED-images/dicom-negative/1.2.846.113973.3.58.1.58731659.20190215.1/1.2.840.113688.2750824487.1550212418.997.2118': No such file or directory\n"
     ]
    },
    {
     "name": "stdout",
     "output_type": "stream",
     "text": [
      "\u001b[H\u001b[2J25 / 1000\n",
      "File already present\n"
     ]
    },
    {
     "name": "stderr",
     "output_type": "stream",
     "text": [
      "rmdir: failed to remove '/media/szelesteya/F824D4D024D492CC/EMBED-images/dicom-negative/1.2.840.113978.3.61.1.60910869.20200111.1111509/1.2.841.113683.2750828055.1578120233.5071.175866': No such file or directory\n"
     ]
    },
    {
     "name": "stdout",
     "output_type": "stream",
     "text": [
      "\u001b[H\u001b[2J26 / 1000\n",
      "File already present\n"
     ]
    },
    {
     "name": "stderr",
     "output_type": "stream",
     "text": [
      "rmdir: failed to remove '/media/szelesteya/F824D4D024D492CC/EMBED-images/dicom-negative/1.2.844.113975.3.58.1.60809936.20191222.1143446/1.2.847.113682.2750824542.1576651153.4733.343417': No such file or directory\n"
     ]
    },
    {
     "name": "stdout",
     "output_type": "stream",
     "text": [
      "\u001b[H\u001b[2J27 / 1000\n",
      "File already present\n"
     ]
    },
    {
     "name": "stderr",
     "output_type": "stream",
     "text": [
      "rmdir: failed to remove '/media/szelesteya/F824D4D024D492CC/EMBED-images/dicom-negative/1.2.844.113978.3.60.1.61096592.20200139.1095738/1.2.840.113682.2750851749.1580366709.3560.37607': No such file or directory\n"
     ]
    },
    {
     "name": "stdout",
     "output_type": "stream",
     "text": [
      "\u001b[H\u001b[2J28 / 1000\n",
      "File already present\n"
     ]
    },
    {
     "name": "stderr",
     "output_type": "stream",
     "text": [
      "rmdir: failed to remove '/media/szelesteya/F824D4D024D492CC/EMBED-images/dicom-negative/1.2.841.113971.3.60.1.60202824.20190930.1102160/1.2.844.113687.2750824983.1569220145.4504.44007': No such file or directory\n"
     ]
    },
    {
     "name": "stdout",
     "output_type": "stream",
     "text": [
      "\u001b[H\u001b[2J29 / 1000\n",
      "File already present\n"
     ]
    },
    {
     "name": "stderr",
     "output_type": "stream",
     "text": [
      "rmdir: failed to remove '/media/szelesteya/F824D4D024D492CC/EMBED-images/dicom-negative/1.2.846.113979.3.63.1.59639424.20190708.1134123/1.2.845.113682.2750851772.1561964821.4320.72669': No such file or directory\n"
     ]
    },
    {
     "name": "stdout",
     "output_type": "stream",
     "text": [
      "\u001b[H\u001b[2J30 / 1000\n",
      "File already present\n"
     ]
    },
    {
     "name": "stderr",
     "output_type": "stream",
     "text": [
      "rmdir: failed to remove '/media/szelesteya/F824D4D024D492CC/EMBED-images/dicom-negative/1.2.845.113974.3.60.1.59528338.20190617.1091064/1.2.844.113688.2750824467.1560408007.4811.71020': No such file or directory\n"
     ]
    },
    {
     "name": "stdout",
     "output_type": "stream",
     "text": [
      "\u001b[H\u001b[2J31 / 1000\n",
      "File already present\n"
     ]
    },
    {
     "name": "stderr",
     "output_type": "stream",
     "text": [
      "rmdir: failed to remove '/media/szelesteya/F824D4D024D492CC/EMBED-images/dicom-negative/1.2.847.113972.3.58.1.59571352.20190625.1084658/1.2.848.113687.2750851775.1561014058.4511.18850': No such file or directory\n"
     ]
    },
    {
     "name": "stdout",
     "output_type": "stream",
     "text": [
      "\u001b[H\u001b[2J32 / 1000\n",
      "File already present\n"
     ]
    },
    {
     "name": "stderr",
     "output_type": "stream",
     "text": [
      "rmdir: failed to remove '/media/szelesteya/F824D4D024D492CC/EMBED-images/dicom-negative/1.2.844.113979.3.62.1.58783353.20190230.1114416/1.2.849.113690.2750825169.1550815710.4892.59141': No such file or directory\n"
     ]
    },
    {
     "name": "stdout",
     "output_type": "stream",
     "text": [
      "\u001b[H\u001b[2J33 / 1000\n",
      "File already present\n"
     ]
    },
    {
     "name": "stderr",
     "output_type": "stream",
     "text": [
      "rmdir: failed to remove '/media/szelesteya/F824D4D024D492CC/EMBED-images/dicom-negative/1.2.845.113974.3.61.1.60251054.20190935.1140427/1.2.848.113686.2750824975.1569829709.3764.52480': No such file or directory\n"
     ]
    },
    {
     "name": "stdout",
     "output_type": "stream",
     "text": [
      "\u001b[H\u001b[2J34 / 1000\n",
      "File already present\n"
     ]
    },
    {
     "name": "stderr",
     "output_type": "stream",
     "text": [
      "rmdir: failed to remove '/media/szelesteya/F824D4D024D492CC/EMBED-images/dicom-negative/1.2.845.113974.3.61.1.59469477.20190611.1/1.2.847.113681.2750828053.1559719406.5055.79880': No such file or directory\n"
     ]
    },
    {
     "name": "stdout",
     "output_type": "stream",
     "text": [
      "\u001b[H\u001b[2J35 / 1000\n",
      "File already present\n"
     ]
    },
    {
     "name": "stderr",
     "output_type": "stream",
     "text": [
      "rmdir: failed to remove '/media/szelesteya/F824D4D024D492CC/EMBED-images/dicom-negative/1.2.841.113972.3.63.1.59337052.20190515.1141721/1.2.848.113686.2750824983.1557900555.5228.39199': No such file or directory\n"
     ]
    },
    {
     "name": "stdout",
     "output_type": "stream",
     "text": [
      "\u001b[H\u001b[2J36 / 1000\n",
      "File already present\n"
     ]
    },
    {
     "name": "stderr",
     "output_type": "stream",
     "text": [
      "rmdir: failed to remove '/media/szelesteya/F824D4D024D492CC/EMBED-images/dicom-negative/1.2.847.113973.3.66.1.59574436.20190628.1/1.2.841.113685.2750824503.1561012169.4377.92272': No such file or directory\n"
     ]
    },
    {
     "name": "stdout",
     "output_type": "stream",
     "text": [
      "\u001b[H\u001b[2J37 / 1000\n",
      "File already present\n"
     ]
    },
    {
     "name": "stderr",
     "output_type": "stream",
     "text": [
      "rmdir: failed to remove '/media/szelesteya/F824D4D024D492CC/EMBED-images/dicom-negative/1.2.841.113970.3.63.1.60701805.20191206.1105438/1.2.845.113690.2750824490.1575441167.5121.35864': No such file or directory\n"
     ]
    },
    {
     "name": "stdout",
     "output_type": "stream",
     "text": [
      "\u001b[H\u001b[2J38 / 1000\n",
      "File already present\n"
     ]
    },
    {
     "name": "stderr",
     "output_type": "stream",
     "text": [
      "rmdir: failed to remove '/media/szelesteya/F824D4D024D492CC/EMBED-images/dicom-negative/1.2.849.113972.3.61.1.60542785.20191118.1084030/1.2.841.113684.2750824550.1573453950.4613.108938': No such file or directory\n"
     ]
    },
    {
     "name": "stdout",
     "output_type": "stream",
     "text": [
      "\u001b[H\u001b[2J39 / 1000\n",
      "File already present\n"
     ]
    },
    {
     "name": "stderr",
     "output_type": "stream",
     "text": [
      "rmdir: failed to remove '/media/szelesteya/F824D4D024D492CC/EMBED-images/dicom-negative/1.2.841.113974.3.66.1.60593454.20191118.1094018/1.2.840.113681.2750851780.1574060756.3186.17834': No such file or directory\n"
     ]
    },
    {
     "name": "stdout",
     "output_type": "stream",
     "text": [
      "\u001b[H\u001b[2J40 / 1000\n",
      "File already present\n"
     ]
    },
    {
     "name": "stderr",
     "output_type": "stream",
     "text": [
      "rmdir: failed to remove '/media/szelesteya/F824D4D024D492CC/EMBED-images/dicom-negative/1.2.840.113973.3.62.1.58971462.20190331.1132903/1.2.846.113690.2750824658.1553235757.4556.335305': No such file or directory\n"
     ]
    },
    {
     "name": "stdout",
     "output_type": "stream",
     "text": [
      "\u001b[H\u001b[2J41 / 1000\n",
      "File already present\n"
     ]
    },
    {
     "name": "stderr",
     "output_type": "stream",
     "text": [
      "rmdir: failed to remove '/media/szelesteya/F824D4D024D492CC/EMBED-images/dicom-negative/1.2.846.113975.3.57.1.59204155.20190430.1101744/1.2.841.113685.2750824658.1556269188.4689.96464': No such file or directory\n"
     ]
    },
    {
     "name": "stdout",
     "output_type": "stream",
     "text": [
      "\u001b[H\u001b[2J42 / 1000\n",
      "File already present\n"
     ]
    },
    {
     "name": "stderr",
     "output_type": "stream",
     "text": [
      "rmdir: failed to remove '/media/szelesteya/F824D4D024D492CC/EMBED-images/dicom-negative/1.2.846.113976.3.64.1.60124427.20190920.1095638/1.2.841.113689.2750824501.1568269775.4755.133966': No such file or directory\n"
     ]
    },
    {
     "name": "stdout",
     "output_type": "stream",
     "text": [
      "\u001b[H\u001b[2J43 / 1000\n",
      "File already present\n"
     ]
    },
    {
     "name": "stderr",
     "output_type": "stream",
     "text": [
      "rmdir: failed to remove '/media/szelesteya/F824D4D024D492CC/EMBED-images/dicom-negative/1.2.846.113977.3.65.1.59970164.20190829.1124761/1.2.847.113682.2750825167.1566281872.4375.37282': No such file or directory\n"
     ]
    },
    {
     "name": "stdout",
     "output_type": "stream",
     "text": [
      "\u001b[H\u001b[2J44 / 1000\n",
      "File already present\n"
     ]
    },
    {
     "name": "stderr",
     "output_type": "stream",
     "text": [
      "rmdir: failed to remove '/media/szelesteya/F824D4D024D492CC/EMBED-images/dicom-negative/1.2.843.113979.3.65.1.60917342.20200111.1084836/1.2.846.113681.2750824975.1578290868.4114.11788': No such file or directory\n"
     ]
    },
    {
     "name": "stdout",
     "output_type": "stream",
     "text": [
      "\u001b[H\u001b[2J45 / 1000\n",
      "File already present\n"
     ]
    },
    {
     "name": "stderr",
     "output_type": "stream",
     "text": [
      "rmdir: failed to remove '/media/szelesteya/F824D4D024D492CC/EMBED-images/dicom-negative/1.2.848.113979.3.64.1.60323054.20191014.1120304/1.2.841.113689.2750824656.1570686970.4496.37248': No such file or directory\n"
     ]
    },
    {
     "name": "stdout",
     "output_type": "stream",
     "text": [
      "\u001b[H\u001b[2J46 / 1000\n",
      "File already present\n"
     ]
    },
    {
     "name": "stderr",
     "output_type": "stream",
     "text": [
      "rmdir: failed to remove '/media/szelesteya/F824D4D024D492CC/EMBED-images/dicom-negative/1.2.845.113979.3.65.1.60552698.20191117.1084626/1.2.841.113688.2750825170.1573539099.4998.14445': No such file or directory\n"
     ]
    },
    {
     "name": "stdout",
     "output_type": "stream",
     "text": [
      "\u001b[H\u001b[2J47 / 1000\n",
      "File already present\n"
     ]
    },
    {
     "name": "stderr",
     "output_type": "stream",
     "text": [
      "rmdir: failed to remove '/media/szelesteya/F824D4D024D492CC/EMBED-images/dicom-negative/1.2.841.113974.3.57.1.60324243.20191015.1173835/1.2.844.113687.2750851781.1570690155.4257.339976': No such file or directory\n"
     ]
    },
    {
     "name": "stdout",
     "output_type": "stream",
     "text": [
      "\u001b[H\u001b[2J48 / 1000\n",
      "File already present\n"
     ]
    },
    {
     "name": "stderr",
     "output_type": "stream",
     "text": [
      "rmdir: failed to remove '/media/szelesteya/F824D4D024D492CC/EMBED-images/dicom-negative/1.2.845.113970.3.62.1.60885950.20191232.1141909/1.2.845.113684.2750824549.1577772001.4813.217201': No such file or directory\n"
     ]
    },
    {
     "name": "stdout",
     "output_type": "stream",
     "text": [
      "\u001b[H\u001b[2J49 / 1000\n",
      "File already present\n"
     ]
    },
    {
     "name": "stderr",
     "output_type": "stream",
     "text": [
      "rmdir: failed to remove '/media/szelesteya/F824D4D024D492CC/EMBED-images/dicom-negative/1.2.843.113979.3.60.1.59174495.20190428.1105532/1.2.845.113690.2750824485.1555915235.4981.391842': No such file or directory\n"
     ]
    },
    {
     "name": "stdout",
     "output_type": "stream",
     "text": [
      "\u001b[H\u001b[2J50 / 1000\n",
      "File already present\n"
     ]
    },
    {
     "name": "stderr",
     "output_type": "stream",
     "text": [
      "rmdir: failed to remove '/media/szelesteya/F824D4D024D492CC/EMBED-images/dicom-negative/1.2.844.113975.3.65.1.59935803.20190820.1123410/1.2.848.113686.2750824551.1565850515.4519.282250': No such file or directory\n"
     ]
    },
    {
     "name": "stdout",
     "output_type": "stream",
     "text": [
      "\u001b[H\u001b[2J51 / 1000\n",
      "File already present\n"
     ]
    },
    {
     "name": "stderr",
     "output_type": "stream",
     "text": [
      "rmdir: failed to remove '/media/szelesteya/F824D4D024D492CC/EMBED-images/dicom-negative/1.2.847.113972.3.64.1.59120193.20190421.1/1.2.847.113683.2750828054.1555311049.4116.3516': No such file or directory\n"
     ]
    },
    {
     "name": "stdout",
     "output_type": "stream",
     "text": [
      "\u001b[H\u001b[2J52 / 1000\n",
      "File already present\n"
     ]
    },
    {
     "name": "stderr",
     "output_type": "stream",
     "text": [
      "rmdir: failed to remove '/media/szelesteya/F824D4D024D492CC/EMBED-images/dicom-negative/1.2.842.113972.3.61.1.60550906.20191114.1094458/1.2.848.113684.2750824486.1573540793.3227.30089': No such file or directory\n"
     ]
    },
    {
     "name": "stdout",
     "output_type": "stream",
     "text": [
      "\u001b[H\u001b[2J53 / 1000\n",
      "File already present\n"
     ]
    },
    {
     "name": "stderr",
     "output_type": "stream",
     "text": [
      "rmdir: failed to remove '/media/szelesteya/F824D4D024D492CC/EMBED-images/dicom-negative/1.2.840.113976.3.65.1.60005736.20190833.1102240/1.2.840.113688.2750824976.1566801388.4795.28573': No such file or directory\n"
     ]
    },
    {
     "name": "stdout",
     "output_type": "stream",
     "text": [
      "\u001b[H\u001b[2J54 / 1000\n",
      "File already present\n"
     ]
    },
    {
     "name": "stderr",
     "output_type": "stream",
     "text": [
      "rmdir: failed to remove '/media/szelesteya/F824D4D024D492CC/EMBED-images/dicom-negative/1.2.840.113978.3.61.1.59961064.20190820.1123016/1.2.849.113684.2750824549.1566196147.4684.114108': No such file or directory\n"
     ]
    },
    {
     "name": "stdout",
     "output_type": "stream",
     "text": [
      "\u001b[H\u001b[2J55 / 1000\n",
      "File already present\n"
     ]
    },
    {
     "name": "stderr",
     "output_type": "stream",
     "text": [
      "rmdir: failed to remove '/media/szelesteya/F824D4D024D492CC/EMBED-images/dicom-negative/1.2.847.113978.3.60.1.59199691.20190431.1101360/1.2.848.113686.2750824981.1556172155.5187.37922': No such file or directory\n"
     ]
    },
    {
     "name": "stdout",
     "output_type": "stream",
     "text": [
      "\u001b[H\u001b[2J56 / 1000\n",
      "File already present\n"
     ]
    },
    {
     "name": "stderr",
     "output_type": "stream",
     "text": [
      "rmdir: failed to remove '/media/szelesteya/F824D4D024D492CC/EMBED-images/dicom-negative/1.2.848.113977.3.66.1.60596784.20191121.1102147/1.2.841.113689.2750828047.1574059423.2777.361608': No such file or directory\n"
     ]
    },
    {
     "name": "stdout",
     "output_type": "stream",
     "text": [
      "\u001b[H\u001b[2J57 / 1000\n",
      "File already present\n"
     ]
    },
    {
     "name": "stderr",
     "output_type": "stream",
     "text": [
      "rmdir: failed to remove '/media/szelesteya/F824D4D024D492CC/EMBED-images/dicom-negative/1.2.847.113970.3.65.1.60134330.20190921.1081330/1.2.841.113686.2750828049.1568354814.5096.188055': No such file or directory\n"
     ]
    },
    {
     "name": "stdout",
     "output_type": "stream",
     "text": [
      "\u001b[H\u001b[2J58 / 1000\n",
      "File already present\n"
     ]
    },
    {
     "name": "stderr",
     "output_type": "stream",
     "text": [
      "rmdir: failed to remove '/media/szelesteya/F824D4D024D492CC/EMBED-images/dicom-negative/1.2.846.113972.3.61.1.60127614.20190915.1123033/1.2.844.113682.2750828069.1568268649.5104.550324': No such file or directory\n"
     ]
    },
    {
     "name": "stdout",
     "output_type": "stream",
     "text": [
      "\u001b[H\u001b[2J59 / 1000\n",
      "File already present\n"
     ]
    },
    {
     "name": "stderr",
     "output_type": "stream",
     "text": [
      "rmdir: failed to remove '/media/szelesteya/F824D4D024D492CC/EMBED-images/dicom-negative/1.2.845.113973.3.59.1.58816338.20190235.1134531/1.2.840.113685.2750824975.1551247506.5100.43255': No such file or directory\n"
     ]
    },
    {
     "name": "stdout",
     "output_type": "stream",
     "text": [
      "\u001b[H\u001b[2J60 / 1000\n",
      "File already present\n"
     ]
    },
    {
     "name": "stderr",
     "output_type": "stream",
     "text": [
      "rmdir: failed to remove '/media/szelesteya/F824D4D024D492CC/EMBED-images/dicom-negative/1.2.845.113976.3.63.1.60409582.20191031.1121136/1.2.845.113690.2750828069.1571810621.5121.727965': No such file or directory\n"
     ]
    },
    {
     "name": "stdout",
     "output_type": "stream",
     "text": [
      "\u001b[H\u001b[2J61 / 1000\n",
      "File already present\n"
     ]
    },
    {
     "name": "stderr",
     "output_type": "stream",
     "text": [
      "rmdir: failed to remove '/media/szelesteya/F824D4D024D492CC/EMBED-images/dicom-negative/1.2.845.113979.3.65.1.60363567.20191017.1072321/1.2.840.113684.2750828063.1571292191.4286.130466': No such file or directory\n"
     ]
    },
    {
     "name": "stdout",
     "output_type": "stream",
     "text": [
      "\u001b[H\u001b[2J62 / 1000\n",
      "File already present\n"
     ]
    },
    {
     "name": "stderr",
     "output_type": "stream",
     "text": [
      "rmdir: failed to remove '/media/szelesteya/F824D4D024D492CC/EMBED-images/dicom-negative/1.2.846.113977.3.65.1.59045562.20190412.1090027/1.2.843.113681.2750824550.1554273010.4941.95476': No such file or directory\n"
     ]
    },
    {
     "name": "stdout",
     "output_type": "stream",
     "text": [
      "\u001b[H\u001b[2J63 / 1000\n",
      "File already present\n"
     ]
    },
    {
     "name": "stderr",
     "output_type": "stream",
     "text": [
      "rmdir: failed to remove '/media/szelesteya/F824D4D024D492CC/EMBED-images/dicom-negative/1.2.847.113979.3.59.1.58477200.20190111.1093550/1.2.845.113682.2750825165.1546840850.756.23459': No such file or directory\n"
     ]
    },
    {
     "name": "stdout",
     "output_type": "stream",
     "text": [
      "\u001b[H\u001b[2J64 / 1000\n",
      "File already present\n"
     ]
    },
    {
     "name": "stderr",
     "output_type": "stream",
     "text": [
      "rmdir: failed to remove '/media/szelesteya/F824D4D024D492CC/EMBED-images/dicom-negative/1.2.845.113975.3.57.1.58544095.20190121.1121465/1.2.849.113683.2750828055.1547707626.4837.215262': No such file or directory\n"
     ]
    },
    {
     "name": "stdout",
     "output_type": "stream",
     "text": [
      "\u001b[H\u001b[2J65 / 1000\n",
      "File already present\n"
     ]
    },
    {
     "name": "stderr",
     "output_type": "stream",
     "text": [
      "rmdir: failed to remove '/media/szelesteya/F824D4D024D492CC/EMBED-images/dicom-negative/1.2.849.113975.3.64.1.59101726.20190415.1/1.2.842.113687.2750824980.1554962543.4585.4526': No such file or directory\n"
     ]
    },
    {
     "name": "stdout",
     "output_type": "stream",
     "text": [
      "\u001b[H\u001b[2J66 / 1000\n",
      "File already present\n"
     ]
    },
    {
     "name": "stderr",
     "output_type": "stream",
     "text": [
      "rmdir: failed to remove '/media/szelesteya/F824D4D024D492CC/EMBED-images/dicom-negative/1.2.847.113970.3.65.1.59846583.20190809.1103508/1.2.844.113683.2750851775.1564642484.1759.46736': No such file or directory\n"
     ]
    },
    {
     "name": "stdout",
     "output_type": "stream",
     "text": [
      "\u001b[H\u001b[2J67 / 1000\n",
      "File already present\n"
     ]
    },
    {
     "name": "stderr",
     "output_type": "stream",
     "text": [
      "rmdir: failed to remove '/media/szelesteya/F824D4D024D492CC/EMBED-images/dicom-negative/1.2.843.113977.3.64.1.60098625.20190914.1082732/1.2.840.113684.2750828065.1568009023.2733.18301': No such file or directory\n"
     ]
    },
    {
     "name": "stdout",
     "output_type": "stream",
     "text": [
      "\u001b[H\u001b[2J68 / 1000\n",
      "File already present\n"
     ]
    },
    {
     "name": "stderr",
     "output_type": "stream",
     "text": [
      "rmdir: failed to remove '/media/szelesteya/F824D4D024D492CC/EMBED-images/dicom-negative/1.2.842.113978.3.57.1.59087836.20190411.1134524/1.2.845.113684.2750825164.1554790068.4737.53515': No such file or directory\n"
     ]
    },
    {
     "name": "stdout",
     "output_type": "stream",
     "text": [
      "\u001b[H\u001b[2J69 / 1000\n",
      "File already present\n"
     ]
    },
    {
     "name": "stderr",
     "output_type": "stream",
     "text": [
      "rmdir: failed to remove '/media/szelesteya/F824D4D024D492CC/EMBED-images/dicom-negative/1.2.848.113976.3.66.1.58490877.20190115.1/1.2.846.113688.2750824504.1547015483.4632.20181': No such file or directory\n"
     ]
    },
    {
     "name": "stdout",
     "output_type": "stream",
     "text": [
      "\u001b[H\u001b[2J70 / 1000\n",
      "File already present\n"
     ]
    },
    {
     "name": "stderr",
     "output_type": "stream",
     "text": [
      "rmdir: failed to remove '/media/szelesteya/F824D4D024D492CC/EMBED-images/dicom-negative/1.2.841.113977.3.64.1.59348329.20190523.1090730/1.2.845.113682.2750824490.1558074725.4911.256595': No such file or directory\n"
     ]
    },
    {
     "name": "stdout",
     "output_type": "stream",
     "text": [
      "\u001b[H\u001b[2J71 / 1000\n",
      "File already present\n"
     ]
    },
    {
     "name": "stderr",
     "output_type": "stream",
     "text": [
      "rmdir: failed to remove '/media/szelesteya/F824D4D024D492CC/EMBED-images/dicom-negative/1.2.845.113979.3.65.1.60629560.20191131.1090133/1.2.845.113688.2750824484.1574404280.3608.16774': No such file or directory\n"
     ]
    },
    {
     "name": "stdout",
     "output_type": "stream",
     "text": [
      "\u001b[H\u001b[2J72 / 1000\n",
      "File already present\n"
     ]
    },
    {
     "name": "stderr",
     "output_type": "stream",
     "text": [
      "rmdir: failed to remove '/media/szelesteya/F824D4D024D492CC/EMBED-images/dicom-negative/1.2.846.113971.3.60.1.58665790.20190214.1125334/1.2.844.113686.2750824975.1549347018.4618.37520': No such file or directory\n"
     ]
    },
    {
     "name": "stdout",
     "output_type": "stream",
     "text": [
      "\u001b[H\u001b[2J73 / 1000\n",
      "File already present\n"
     ]
    },
    {
     "name": "stderr",
     "output_type": "stream",
     "text": [
      "rmdir: failed to remove '/media/szelesteya/F824D4D024D492CC/EMBED-images/dicom-negative/1.2.847.113973.3.66.1.60394385.20191021.1094941/1.2.844.113682.2750825168.1571639867.3965.4812': No such file or directory\n"
     ]
    },
    {
     "name": "stdout",
     "output_type": "stream",
     "text": [
      "\u001b[H\u001b[2J74 / 1000\n",
      "File already present\n"
     ]
    },
    {
     "name": "stderr",
     "output_type": "stream",
     "text": [
      "rmdir: failed to remove '/media/szelesteya/F824D4D024D492CC/EMBED-images/dicom-negative/1.2.842.113972.3.63.1.59876054.20190806.1135103/1.2.849.113683.2750824488.1565073499.4770.379122': No such file or directory\n"
     ]
    },
    {
     "name": "stdout",
     "output_type": "stream",
     "text": [
      "\u001b[H\u001b[2J75 / 1000\n",
      "File already present\n"
     ]
    },
    {
     "name": "stderr",
     "output_type": "stream",
     "text": [
      "rmdir: failed to remove '/media/szelesteya/F824D4D024D492CC/EMBED-images/dicom-negative/1.2.843.113973.3.66.1.60322737.20191017.1103718/1.2.843.113687.2750824551.1570689828.3772.112169': No such file or directory\n"
     ]
    },
    {
     "name": "stdout",
     "output_type": "stream",
     "text": [
      "\u001b[H\u001b[2J76 / 1000\n",
      "File already present\n"
     ]
    },
    {
     "name": "stderr",
     "output_type": "stream",
     "text": [
      "rmdir: failed to remove '/media/szelesteya/F824D4D024D492CC/EMBED-images/dicom-negative/1.2.846.113971.3.62.1.60470750.20191038.1092258/1.2.846.113683.2750824981.1572502911.5113.17857': No such file or directory\n"
     ]
    },
    {
     "name": "stdout",
     "output_type": "stream",
     "text": [
      "\u001b[H\u001b[2J77 / 1000\n",
      "File already present\n"
     ]
    },
    {
     "name": "stderr",
     "output_type": "stream",
     "text": [
      "rmdir: failed to remove '/media/szelesteya/F824D4D024D492CC/EMBED-images/dicom-negative/1.2.848.113974.3.58.1.59970537.20190826.1104834/1.2.849.113681.2750828066.1566280878.2507.503577': No such file or directory\n"
     ]
    },
    {
     "name": "stdout",
     "output_type": "stream",
     "text": [
      "\u001b[H\u001b[2J78 / 1000\n",
      "File already present\n"
     ]
    },
    {
     "name": "stderr",
     "output_type": "stream",
     "text": [
      "rmdir: failed to remove '/media/szelesteya/F824D4D024D492CC/EMBED-images/dicom-negative/1.2.846.113971.3.60.1.58986882.20190331.1125713/1.2.841.113683.2750824507.1553495390.4248.43849': No such file or directory\n"
     ]
    },
    {
     "name": "stdout",
     "output_type": "stream",
     "text": [
      "\u001b[H\u001b[2J79 / 1000\n",
      "File already present\n"
     ]
    },
    {
     "name": "stderr",
     "output_type": "stream",
     "text": [
      "rmdir: failed to remove '/media/szelesteya/F824D4D024D492CC/EMBED-images/dicom-negative/1.2.840.113975.3.58.1.58951757.20190325.1/1.2.849.113686.2750824664.1553063571.4732.46675': No such file or directory\n"
     ]
    },
    {
     "name": "stdout",
     "output_type": "stream",
     "text": [
      "\u001b[H\u001b[2J80 / 1000\n",
      "File already present\n"
     ]
    },
    {
     "name": "stderr",
     "output_type": "stream",
     "text": [
      "rmdir: failed to remove '/media/szelesteya/F824D4D024D492CC/EMBED-images/dicom-negative/1.2.849.113971.3.63.1.58633141.20190132.1083260/1.2.847.113685.2750824483.1548916383.4124.4899': No such file or directory\n"
     ]
    },
    {
     "name": "stdout",
     "output_type": "stream",
     "text": [
      "\u001b[H\u001b[2J81 / 1000\n",
      "File already present\n"
     ]
    },
    {
     "name": "stderr",
     "output_type": "stream",
     "text": [
      "rmdir: failed to remove '/media/szelesteya/F824D4D024D492CC/EMBED-images/dicom-negative/1.2.843.113971.3.60.1.58738742.20190219.1124321/1.2.842.113690.2750825164.1550211621.1533.36089': No such file or directory\n"
     ]
    },
    {
     "name": "stdout",
     "output_type": "stream",
     "text": [
      "\u001b[H\u001b[2J82 / 1000\n",
      "File already present\n"
     ]
    },
    {
     "name": "stderr",
     "output_type": "stream",
     "text": [
      "rmdir: failed to remove '/media/szelesteya/F824D4D024D492CC/EMBED-images/dicom-negative/1.2.842.113975.3.65.1.60354986.20191020.1133257/1.2.845.113682.2750824545.1571121115.4151.213986': No such file or directory\n"
     ]
    },
    {
     "name": "stdout",
     "output_type": "stream",
     "text": [
      "\u001b[H\u001b[2J83 / 1000\n",
      "File already present\n"
     ]
    },
    {
     "name": "stderr",
     "output_type": "stream",
     "text": [
      "rmdir: failed to remove '/media/szelesteya/F824D4D024D492CC/EMBED-images/dicom-negative/1.2.845.113976.3.66.1.58800372.20190225.1124535/1.2.843.113683.2750824542.1551080283.4593.118603': No such file or directory\n"
     ]
    },
    {
     "name": "stdout",
     "output_type": "stream",
     "text": [
      "\u001b[H\u001b[2J84 / 1000\n",
      "File already present\n"
     ]
    },
    {
     "name": "stderr",
     "output_type": "stream",
     "text": [
      "rmdir: failed to remove '/media/szelesteya/F824D4D024D492CC/EMBED-images/dicom-negative/1.2.843.113971.3.60.1.60299241.20191011.1135330/1.2.848.113689.2750824507.1570429924.4045.260258': No such file or directory\n"
     ]
    },
    {
     "name": "stdout",
     "output_type": "stream",
     "text": [
      "\u001b[H\u001b[2J85 / 1000\n",
      "File already present\n"
     ]
    },
    {
     "name": "stderr",
     "output_type": "stream",
     "text": [
      "rmdir: failed to remove '/media/szelesteya/F824D4D024D492CC/EMBED-images/dicom-negative/1.2.848.113976.3.65.1.60175952.20190923.1102465/1.2.842.113688.2750824469.1568874639.4185.107500': No such file or directory\n"
     ]
    },
    {
     "name": "stdout",
     "output_type": "stream",
     "text": [
      "\u001b[H\u001b[2J86 / 1000\n",
      "File already present\n"
     ]
    },
    {
     "name": "stderr",
     "output_type": "stream",
     "text": [
      "rmdir: failed to remove '/media/szelesteya/F824D4D024D492CC/EMBED-images/dicom-negative/1.2.847.113970.3.65.1.59828580.20190734.1095645/1.2.848.113689.2750824978.1564466733.5231.30655': No such file or directory\n"
     ]
    },
    {
     "name": "stdout",
     "output_type": "stream",
     "text": [
      "\u001b[H\u001b[2J87 / 1000\n",
      "File already present\n"
     ]
    },
    {
     "name": "stderr",
     "output_type": "stream",
     "text": [
      "rmdir: failed to remove '/media/szelesteya/F824D4D024D492CC/EMBED-images/dicom-negative/1.2.840.113970.3.63.1.60025509.20190833.1104610/1.2.841.113684.2750824504.1566973872.4523.373204': No such file or directory\n"
     ]
    },
    {
     "name": "stdout",
     "output_type": "stream",
     "text": [
      "\u001b[H\u001b[2J88 / 1000\n",
      "File already present\n"
     ]
    },
    {
     "name": "stderr",
     "output_type": "stream",
     "text": [
      "rmdir: failed to remove '/media/szelesteya/F824D4D024D492CC/EMBED-images/dicom-negative/1.2.846.113978.3.59.1.60273307.20191003.1095451/1.2.840.113684.2750851748.1570086527.5097.27008': No such file or directory\n"
     ]
    },
    {
     "name": "stdout",
     "output_type": "stream",
     "text": [
      "\u001b[H\u001b[2J89 / 1000\n",
      "File already present\n"
     ]
    },
    {
     "name": "stderr",
     "output_type": "stream",
     "text": [
      "rmdir: failed to remove '/media/szelesteya/F824D4D024D492CC/EMBED-images/dicom-negative/1.2.840.113978.3.66.1.58307609.20181210.1101425/1.2.841.113689.2750824975.1544423592.4729.26170': No such file or directory\n"
     ]
    },
    {
     "name": "stdout",
     "output_type": "stream",
     "text": [
      "\u001b[H\u001b[2J90 / 1000\n",
      "File already present\n"
     ]
    },
    {
     "name": "stderr",
     "output_type": "stream",
     "text": [
      "rmdir: failed to remove '/media/szelesteya/F824D4D024D492CC/EMBED-images/dicom-negative/1.2.847.113973.3.57.1.58615247.20190129.1150929/1.2.848.113681.2750828062.1548658819.3684.424920': No such file or directory\n"
     ]
    },
    {
     "name": "stdout",
     "output_type": "stream",
     "text": [
      "\u001b[H\u001b[2J91 / 1000\n",
      "File already present\n"
     ]
    },
    {
     "name": "stderr",
     "output_type": "stream",
     "text": [
      "rmdir: failed to remove '/media/szelesteya/F824D4D024D492CC/EMBED-images/dicom-negative/1.2.846.113977.3.60.1.59810670.20190727.1121852/1.2.848.113684.2750828053.1564120999.1377.494804': No such file or directory\n"
     ]
    },
    {
     "name": "stdout",
     "output_type": "stream",
     "text": [
      "\u001b[H\u001b[2J92 / 1000\n",
      "File already present\n"
     ]
    },
    {
     "name": "stderr",
     "output_type": "stream",
     "text": [
      "rmdir: failed to remove '/media/szelesteya/F824D4D024D492CC/EMBED-images/dicom-negative/1.2.848.113976.3.62.1.58864312.20190311.1130751/1.2.841.113681.2750824976.1551852368.5238.33467': No such file or directory\n"
     ]
    },
    {
     "name": "stdout",
     "output_type": "stream",
     "text": [
      "\u001b[H\u001b[2J93 / 1000\n",
      "File already present\n"
     ]
    },
    {
     "name": "stderr",
     "output_type": "stream",
     "text": [
      "rmdir: failed to remove '/media/szelesteya/F824D4D024D492CC/EMBED-images/dicom-negative/1.2.842.113975.3.59.1.58372837.20181220.1082728/1.2.848.113687.2750824501.1545201386.4840.75261': No such file or directory\n"
     ]
    },
    {
     "name": "stdout",
     "output_type": "stream",
     "text": [
      "\u001b[H\u001b[2J94 / 1000\n",
      "File already present\n"
     ]
    },
    {
     "name": "stderr",
     "output_type": "stream",
     "text": [
      "rmdir: failed to remove '/media/szelesteya/F824D4D024D492CC/EMBED-images/dicom-negative/1.2.841.113972.3.61.1.59694676.20190717.1083805/1.2.849.113681.2750824977.1562738839.4155.6399': No such file or directory\n"
     ]
    },
    {
     "name": "stdout",
     "output_type": "stream",
     "text": [
      "\u001b[H\u001b[2J95 / 1000\n",
      "File already present\n"
     ]
    },
    {
     "name": "stderr",
     "output_type": "stream",
     "text": [
      "rmdir: failed to remove '/media/szelesteya/F824D4D024D492CC/EMBED-images/dicom-negative/1.2.841.113974.3.63.1.59749368.20190726.1/1.2.849.113684.2750824983.1563429832.4894.5646': No such file or directory\n"
     ]
    },
    {
     "name": "stdout",
     "output_type": "stream",
     "text": [
      "\u001b[H\u001b[2J96 / 1000\n",
      "File already present\n"
     ]
    },
    {
     "name": "stderr",
     "output_type": "stream",
     "text": [
      "rmdir: failed to remove '/media/szelesteya/F824D4D024D492CC/EMBED-images/dicom-negative/1.2.841.113979.3.61.1.59628646.20190630.1105609/1.2.846.113685.2750824547.1561702950.4282.176060': No such file or directory\n"
     ]
    },
    {
     "name": "stdout",
     "output_type": "stream",
     "text": [
      "\u001b[H\u001b[2J97 / 1000\n",
      "File already present\n"
     ]
    },
    {
     "name": "stderr",
     "output_type": "stream",
     "text": [
      "rmdir: failed to remove '/media/szelesteya/F824D4D024D492CC/EMBED-images/dicom-negative/1.2.841.113974.3.57.1.60070734.20190912.1123827/1.2.841.113688.2750824972.1567578527.5088.31741': Directory not empty\n"
     ]
    },
    {
     "name": "stdout",
     "output_type": "stream",
     "text": [
      "\u001b[H\u001b[2J98 / 1000\n",
      "Moving file /media/szelesteya/F824D4D024D492CC/EMBED-images/dicom-negative/cohort_1/26360215/1.2.848.113977.3.58.1.58162653.20181119.1082051/1.2.847.113683.2750824657.1542349353.4287.103155/1.2.826.0.1.3680043.8.498.12988159840455631474285742490018401254.dcm\n",
      "\u001b[H\u001b[2J99 / 1000\n",
      "File already present\n"
     ]
    },
    {
     "name": "stderr",
     "output_type": "stream",
     "text": [
      "rmdir: failed to remove '/media/szelesteya/F824D4D024D492CC/EMBED-images/dicom-negative/1.2.845.113979.3.58.1.60137737.20190916.1074843/1.2.849.113681.2750824487.1568615522.4710.11063': No such file or directory\n"
     ]
    },
    {
     "name": "stdout",
     "output_type": "stream",
     "text": [
      "\u001b[H\u001b[2J100 / 1000\n",
      "File already present\n"
     ]
    },
    {
     "name": "stderr",
     "output_type": "stream",
     "text": [
      "rmdir: failed to remove '/media/szelesteya/F824D4D024D492CC/EMBED-images/dicom-negative/1.2.840.113971.3.61.1.58474120.20190108.1130021/1.2.840.113689.2750824662.1546842756.4655.311817': No such file or directory\n"
     ]
    },
    {
     "name": "stdout",
     "output_type": "stream",
     "text": [
      "\u001b[H\u001b[2J"
     ]
    }
   ],
   "source": [
    "%%bash -s \"$image_dcm_path\" \"{data_path}negative_path.csv\"\n",
    "\n",
    "# Pulling dicom files with AWS CLI (Python API didn't work)\n",
    "dcm_dest_path=\"$1\"\n",
    "dcm_paths=\"$2\"\n",
    "ind=$((1))\n",
    "\n",
    "tail -n +2 $dcm_paths | head -n 300 | tail -n 100 | while IFS= read -r line; do\n",
    "    relative_path=$(echo \"$line\" | awk -v OFS='/' '{$1=$1; print}')\n",
    "    dcm_name=$(echo \"$relative_path\" | cut -d '/' -f 3-)\n",
    "               \n",
    "    file=\"${dcm_dest_path}$relative_path\"\n",
    "    dir=$(dirname \"${dcm_dest_path}$dcm_name\")\n",
    "    echo \"$ind / 1000\"\n",
    "    # echo \"$file\"\n",
    "    # echo \"${dcm_dest_path}$dcm_name\"\n",
    "    # echo \"$dir\"\n",
    "    if [ -f \"${dcm_dest_path}$dcm_name\" ]; then\n",
    "        echo \"Moving file $file\"\n",
    "        mkdir -p $(dirname \"$file\") & mv \"${dcm_dest_path}$dcm_name\" \"${dcm_dest_path}$relative_path\"\n",
    "        rmdir $dir\n",
    "    else        \n",
    "        if [ -f \"$file\" ]; then\n",
    "            echo \"File already present\"\n",
    "            rmdir $dir\n",
    "        else\n",
    "            echo \"Pulling file $file\"\n",
    "            aws s3 cp \"s3://embed-dataset-open/images/$relative_path\" \"${dcm_dest_path}/$dcm_name\" --profile my-dev-profile\n",
    "        fi\n",
    "    fi\n",
    "\n",
    "    ind=$((ind+1))\n",
    "    clear\n",
    "done"
   ]
  },
  {
   "cell_type": "code",
   "execution_count": 9,
   "id": "ee25312c-9d19-4594-afe1-2020077a8a82",
   "metadata": {},
   "outputs": [],
   "source": [
    "# Rescale the intensity of the image to get heterogene images with the bit depth of 14\n",
    "def rescale_to_8bit(image_array):\n",
    "    upper_percentile = np.percentile(image_array.flatten(), 98) # original_max = np.max(image_array)\n",
    "    lower_percentile = np.percentile(image_array.flatten(), 2) # original_min = np.min(image_array)\n",
    "    # max_on_14bit = 16383\n",
    "    max = 255\n",
    "    rescaled_array = (image_array - lower_percentile) / (upper_percentile - lower_percentile)\n",
    "    rescaled_array[rescaled_array < 0] = 0\n",
    "    rescaled_array[rescaled_array > 1] = 1\n",
    "    # rescaled_array = np.round((image_array - original_min) / (original_max - original_min) * max_on_14bit).astype(int)\n",
    "    return np.round(rescaled_array * 255).astype(np.uint8)\n",
    "\n",
    "# Save DICOM pixel array as PNG\n",
    "def save_dcm_image_as_png(image, png_filename, bitdepth=8):\n",
    "    with open(png_filename, 'wb') as f:\n",
    "        rescaled = rescale_to_8bit(image)\n",
    "        writer = png.Writer(height=rescaled.shape[0], \n",
    "                            width=rescaled.shape[1], \n",
    "                            bitdepth=bitdepth, \n",
    "                            greyscale=True)\n",
    "        writer.write(f, rescaled.tolist())\n",
    "\n",
    "def generate_png_path(empi_anon, png_dir):\n",
    "    # Get new file name\n",
    "    new_fn = f\"{empi_anon}_neg_conv.png\"\n",
    "    return f'{png_dir}/{new_fn}'\n",
    "\n",
    "# Convert list of DICOMs to PNGs\n",
    "def process_dcm_list(dcm_list, png_list):    \n",
    "    for i, dcm_path in enumerate(dcm_list):    \n",
    "        if not Path(png_list[i]).exists():\n",
    "            print(f\"Processing DICOM #{i}...\")\n",
    "            \n",
    "            # Load DICOM\n",
    "            dcm = pydicom.dcmread(dcm_path)\n",
    "            img = dcm.pixel_array\n",
    "            \n",
    "            # Save PNG            \n",
    "            save_dcm_image_as_png(img, png_list[i])\n",
    "\n",
    "def extract_images(data_file_name, dcm_dir, png_dir):\n",
    "    # Provide a list of DICOM paths and a target directory\n",
    "    dcm_list = []\n",
    "    df = pd.read_csv(data_file_name)\n",
    "    \n",
    "    for index, row in df.iterrows():\n",
    "        path = dcm_dir  + row['relative_dcm_path']\n",
    "        if Path(path).exists():\n",
    "            dcm_list.append(path)\n",
    "        \n",
    "    # Insert png path\n",
    "    df.loc[:,'png_path'] = df['empi_anon'].apply(lambda x: generate_png_path(x, png_dir))\n",
    "\n",
    "    # Convert DICOMs\n",
    "    process_dcm_list(dcm_list[0:300], df['png_path'])\n",
    "\n",
    "    return df"
   ]
  },
  {
   "cell_type": "code",
   "execution_count": 10,
   "id": "d0949fde-2996-41f0-be48-55114c7ff913",
   "metadata": {},
   "outputs": [
    {
     "name": "stdout",
     "output_type": "stream",
     "text": [
      "Processing DICOM #64...\n",
      "Processing DICOM #65...\n",
      "Processing DICOM #66...\n",
      "Processing DICOM #67...\n",
      "Processing DICOM #68...\n",
      "Processing DICOM #69...\n",
      "Processing DICOM #70...\n",
      "Processing DICOM #71...\n",
      "Processing DICOM #72...\n",
      "Processing DICOM #73...\n",
      "Processing DICOM #74...\n",
      "Processing DICOM #75...\n",
      "Processing DICOM #76...\n",
      "Processing DICOM #77...\n",
      "Processing DICOM #78...\n",
      "Processing DICOM #79...\n",
      "Processing DICOM #80...\n",
      "Processing DICOM #81...\n",
      "Processing DICOM #82...\n",
      "Processing DICOM #83...\n",
      "Processing DICOM #84...\n",
      "Processing DICOM #85...\n",
      "Processing DICOM #86...\n",
      "Processing DICOM #87...\n",
      "Processing DICOM #88...\n",
      "Processing DICOM #89...\n",
      "Processing DICOM #90...\n",
      "Processing DICOM #91...\n",
      "Processing DICOM #92...\n",
      "Processing DICOM #93...\n",
      "Processing DICOM #94...\n",
      "Processing DICOM #95...\n",
      "Processing DICOM #96...\n",
      "Processing DICOM #97...\n",
      "Processing DICOM #98...\n",
      "Processing DICOM #99...\n",
      "Processing DICOM #100...\n",
      "Processing DICOM #101...\n",
      "Processing DICOM #102...\n",
      "Processing DICOM #103...\n",
      "Processing DICOM #104...\n",
      "Processing DICOM #105...\n",
      "Processing DICOM #106...\n",
      "Processing DICOM #107...\n",
      "Processing DICOM #108...\n",
      "Processing DICOM #109...\n",
      "Processing DICOM #110...\n",
      "Processing DICOM #111...\n",
      "Processing DICOM #112...\n",
      "Processing DICOM #113...\n",
      "Processing DICOM #114...\n",
      "Processing DICOM #115...\n",
      "Processing DICOM #116...\n",
      "Processing DICOM #117...\n",
      "Processing DICOM #118...\n",
      "Processing DICOM #119...\n",
      "Processing DICOM #120...\n",
      "Processing DICOM #121...\n",
      "Processing DICOM #122...\n",
      "Processing DICOM #123...\n",
      "Processing DICOM #125...\n",
      "Processing DICOM #126...\n",
      "Processing DICOM #127...\n",
      "Processing DICOM #128...\n",
      "Processing DICOM #129...\n",
      "Processing DICOM #131...\n",
      "Processing DICOM #132...\n",
      "Processing DICOM #133...\n",
      "Processing DICOM #134...\n",
      "Processing DICOM #136...\n",
      "Processing DICOM #137...\n",
      "Processing DICOM #138...\n",
      "Processing DICOM #139...\n",
      "Processing DICOM #140...\n",
      "Processing DICOM #141...\n",
      "Processing DICOM #142...\n",
      "Processing DICOM #143...\n",
      "Processing DICOM #144...\n",
      "Processing DICOM #145...\n",
      "Processing DICOM #146...\n",
      "Processing DICOM #147...\n",
      "Processing DICOM #148...\n",
      "Processing DICOM #149...\n",
      "Processing DICOM #150...\n",
      "Processing DICOM #151...\n",
      "Processing DICOM #152...\n",
      "Processing DICOM #153...\n",
      "Processing DICOM #154...\n",
      "Processing DICOM #155...\n",
      "Processing DICOM #157...\n",
      "Processing DICOM #158...\n",
      "Processing DICOM #159...\n",
      "Processing DICOM #161...\n",
      "Processing DICOM #162...\n",
      "Processing DICOM #164...\n",
      "Processing DICOM #166...\n",
      "Processing DICOM #167...\n",
      "Processing DICOM #168...\n",
      "Processing DICOM #169...\n",
      "Processing DICOM #170...\n",
      "Processing DICOM #171...\n",
      "Processing DICOM #172...\n",
      "Processing DICOM #173...\n",
      "Processing DICOM #174...\n",
      "Processing DICOM #176...\n",
      "Processing DICOM #177...\n",
      "Processing DICOM #178...\n",
      "Processing DICOM #179...\n",
      "Processing DICOM #181...\n",
      "Processing DICOM #184...\n",
      "Processing DICOM #185...\n",
      "Processing DICOM #186...\n",
      "Processing DICOM #187...\n",
      "Processing DICOM #188...\n",
      "Processing DICOM #189...\n",
      "Processing DICOM #190...\n",
      "Processing DICOM #191...\n",
      "Processing DICOM #192...\n",
      "Processing DICOM #194...\n",
      "Processing DICOM #195...\n",
      "Processing DICOM #196...\n",
      "Processing DICOM #197...\n",
      "Processing DICOM #198...\n",
      "Processing DICOM #199...\n",
      "Processing DICOM #201...\n",
      "Processing DICOM #202...\n",
      "Processing DICOM #203...\n",
      "Processing DICOM #204...\n",
      "Processing DICOM #205...\n",
      "Processing DICOM #206...\n",
      "Processing DICOM #207...\n",
      "Processing DICOM #208...\n",
      "Processing DICOM #209...\n",
      "Processing DICOM #210...\n",
      "Processing DICOM #211...\n",
      "Processing DICOM #213...\n",
      "Processing DICOM #214...\n",
      "Processing DICOM #215...\n",
      "Processing DICOM #216...\n",
      "Processing DICOM #217...\n",
      "Processing DICOM #218...\n",
      "Processing DICOM #219...\n",
      "Processing DICOM #220...\n",
      "Processing DICOM #221...\n",
      "Processing DICOM #222...\n",
      "Processing DICOM #223...\n",
      "Processing DICOM #224...\n",
      "Processing DICOM #225...\n",
      "Processing DICOM #226...\n",
      "Processing DICOM #227...\n",
      "Processing DICOM #228...\n",
      "Processing DICOM #229...\n",
      "Processing DICOM #230...\n",
      "Processing DICOM #231...\n",
      "Processing DICOM #232...\n",
      "Processing DICOM #234...\n",
      "Processing DICOM #235...\n",
      "Processing DICOM #236...\n",
      "Processing DICOM #237...\n",
      "Processing DICOM #238...\n",
      "Processing DICOM #239...\n",
      "Processing DICOM #240...\n",
      "Processing DICOM #241...\n",
      "Processing DICOM #243...\n",
      "Processing DICOM #244...\n",
      "Processing DICOM #245...\n",
      "Processing DICOM #246...\n",
      "Processing DICOM #247...\n",
      "Processing DICOM #248...\n",
      "Processing DICOM #249...\n",
      "Processing DICOM #250...\n",
      "Processing DICOM #251...\n",
      "Processing DICOM #252...\n",
      "Processing DICOM #253...\n",
      "Processing DICOM #254...\n",
      "Processing DICOM #255...\n",
      "Processing DICOM #256...\n",
      "Processing DICOM #257...\n",
      "Processing DICOM #258...\n",
      "Processing DICOM #259...\n",
      "Processing DICOM #260...\n",
      "Processing DICOM #263...\n",
      "Processing DICOM #265...\n",
      "Processing DICOM #266...\n",
      "Processing DICOM #267...\n",
      "Processing DICOM #268...\n",
      "Processing DICOM #270...\n",
      "Processing DICOM #271...\n",
      "Processing DICOM #272...\n",
      "Processing DICOM #273...\n",
      "Processing DICOM #274...\n",
      "Processing DICOM #275...\n",
      "Processing DICOM #276...\n",
      "Processing DICOM #277...\n",
      "Processing DICOM #278...\n",
      "Processing DICOM #279...\n",
      "Processing DICOM #280...\n",
      "Processing DICOM #281...\n",
      "Processing DICOM #282...\n",
      "Processing DICOM #283...\n",
      "Processing DICOM #284...\n",
      "Processing DICOM #285...\n",
      "Processing DICOM #286...\n",
      "Processing DICOM #287...\n",
      "Processing DICOM #290...\n",
      "Processing DICOM #291...\n",
      "Processing DICOM #293...\n",
      "Processing DICOM #294...\n",
      "Processing DICOM #295...\n",
      "Processing DICOM #296...\n",
      "Processing DICOM #298...\n"
     ]
    }
   ],
   "source": [
    "neg_img_emp = extract_images(data_path + 'negative_empirical.csv', image_dcm_path, image_png_path)\n",
    "# negative['intensity'] = calculate_intensity_of_png(negative)\n",
    "\n",
    "with open(data_path + 'negative_empirical_png.csv', 'w') as f:\n",
    "    (neg_img_emp)[['empi_anon',\n",
    "                'acc_anon',\n",
    "                'side',\n",
    "                'age_at_study',\n",
    "                'relative_dcm_path',\n",
    "                'calc_find',\n",
    "                'calc_distrib',\n",
    "                'other_find',\n",
    "                'num_find',\n",
    "                'eth_desc',\n",
    "                'study_date_anon',\n",
    "                'png_path']].to_csv(f, index=False)"
   ]
  },
  {
   "cell_type": "code",
   "execution_count": null,
   "id": "96dc1f02-3c43-4a4d-9efa-bad6cf206009",
   "metadata": {},
   "outputs": [],
   "source": []
  },
  {
   "cell_type": "code",
   "execution_count": null,
   "id": "fee49624-afd5-4d82-afdb-172a8034531c",
   "metadata": {},
   "outputs": [],
   "source": []
  },
  {
   "cell_type": "code",
   "execution_count": null,
   "id": "90ff6706-ae50-4f6d-a225-fc97dfff4d59",
   "metadata": {},
   "outputs": [],
   "source": []
  }
 ],
 "metadata": {
  "kernelspec": {
   "display_name": "Python 3 (ipykernel)",
   "language": "python",
   "name": "python3"
  },
  "language_info": {
   "codemirror_mode": {
    "name": "ipython",
    "version": 3
   },
   "file_extension": ".py",
   "mimetype": "text/x-python",
   "name": "python",
   "nbconvert_exporter": "python",
   "pygments_lexer": "ipython3",
   "version": "3.10.12"
  }
 },
 "nbformat": 4,
 "nbformat_minor": 5
}
