{
 "cells": [
  {
   "cell_type": "markdown",
   "id": "2b113f7f-5aa7-4e19-afbf-acfa9bc513d3",
   "metadata": {},
   "source": [
    "# Positive samples for the dataset"
   ]
  },
  {
   "cell_type": "markdown",
   "id": "5a68fbd0-0574-4eff-aaac-394669257a1b",
   "metadata": {},
   "source": [
    "## Extracting relevant information from the dataset"
   ]
  },
  {
   "cell_type": "code",
   "execution_count": 1,
   "id": "fd83140e-6297-458f-8993-7e1ec5d0e267",
   "metadata": {},
   "outputs": [],
   "source": [
    "import pandas as pd\n",
    "import numpy as np\n",
    "import pydicom\n",
    "import png\n",
    "import math\n",
    "from PIL import Image\n",
    "from pathlib import Path\n",
    "import boto3\n",
    "import matplotlib.pyplot as plt\n",
    "from collections import Counter\n",
    "\n",
    "data_path = '/home/szelesteya/projects/EMBED_Open_Data/'\n",
    "tables_path = data_path + 'tables/'\n",
    "image_root_path = '/media/szelesteya/F824D4D024D492CC/EMBED-images/'\n",
    "image_dcm_path = image_root_path + 'dicom-positive/'\n",
    "image_png_path = image_root_path + 'positive'"
   ]
  },
  {
   "cell_type": "code",
   "execution_count": 2,
   "id": "77be749d-60b0-4e07-964e-bc642108b8ba",
   "metadata": {},
   "outputs": [],
   "source": [
    "# Import Legends which describe clinical information's labeling\n",
    "df_legends = pd.read_csv(tables_path + 'AWS_Open_Data_Clinical_Legend.csv')\n",
    "\n",
    "# Keep relevant information that is about calcifications\n",
    "df_calcs = df_legends[df_legends['Header in export'].isin(['calcfind'])][['Code',\n",
    "                                                                          'Meaning']]\n",
    "\n",
    "# Drop codes that are irrelevant\n",
    "df_calcs_rel = df_calcs[~df_calcs['Code'].isin(['V','U','S','M'])]\n",
    "\n",
    "# df_calcs_rel"
   ]
  },
  {
   "cell_type": "code",
   "execution_count": 3,
   "id": "fa5f2086-6f8c-4473-895a-f7a59a7b0048",
   "metadata": {},
   "outputs": [],
   "source": [
    "cli_df = pd.read_csv(tables_path + 'EMBED_OpenData_clinical.csv', low_memory=False)\n",
    "\n",
    "# Only keeping result BIRADS-1 and BIRADS-2 screenings\n",
    "pos_cli_df = cli_df[((cli_df.calcfind.notna()) & \n",
    "                     (cli_df.calcfind.isin(df_calcs_rel['Code'])))][[  'Unnamed: 0',\n",
    "                                                                       'empi_anon',\n",
    "                                                                       'acc_anon',\n",
    "                                                                       'side',\n",
    "                                                                       'calcfind',\n",
    "                                                                       'calcdistri',\n",
    "                                                                       'otherfind',\n",
    "                                                                       'numfind',\n",
    "                                                                       'path_severity',\n",
    "                                                                       'age_at_study',\n",
    "                                                                       'ETHNICITY_DESC',\n",
    "                                                                       'study_date_anon',\n",
    "                                                                       'asses']]\n",
    "\n",
    "# Rename columns to prepare for merge\n",
    "pos_cli_df = pos_cli_df.rename(columns={'study_date_anon':'diag_study_date'})"
   ]
  },
  {
   "cell_type": "code",
   "execution_count": 4,
   "id": "2f1e5fd5-3f26-49b4-ab2f-61a6ef3cccfc",
   "metadata": {},
   "outputs": [],
   "source": [
    "# Reading image metadata\n",
    "meta_df = (pd.read_csv(tables_path + 'EMBED_OpenData_metadata_reduced.csv', low_memory=False))\n",
    "meta_red_df = meta_df[  (meta_df['ROI_coords'] != \"()\") &\n",
    "                        (meta_df['FinalImageType'] == '2D') &                         \n",
    "                        (meta_df['spot_mag'] != 1)][[  'empi_anon',\n",
    "                                                                'acc_anon',\n",
    "                                                                'ImageLateralityFinal',\n",
    "                                                                'anon_dicom_path',\n",
    "                                                                'study_date_anon',\n",
    "                                                                'ViewPosition', \n",
    "                                                                'num_roi',\n",
    "                                                                'ROI_coords',\n",
    "                                                                'spot_mag']]\n",
    "\n",
    "# Rename columns to prepare for merge\n",
    "meta_red_ren_df = meta_red_df.rename(columns={'ImageLateralityFinal':'side'})"
   ]
  },
  {
   "cell_type": "code",
   "execution_count": 5,
   "id": "660f6bc3-602a-48a8-bae4-1d6f9fcd202e",
   "metadata": {},
   "outputs": [],
   "source": [
    "# Merging clinical information with medical ones\n",
    "pos_full_df = pos_cli_df.merge(meta_red_ren_df, on=['empi_anon','acc_anon','side'])\n",
    "\n",
    "# Generate paths for png extraction\n",
    "pos_full_df['relative_dcm_path'] = pos_full_df['anon_dicom_path'].apply(lambda x: '/'.join(x.split('/')[5:]))\n",
    "\n",
    "# Keeping relevant columns\n",
    "pos_empi_df = pos_full_df[['empi_anon',\n",
    "                           'acc_anon',\n",
    "                           'side',\n",
    "                           'asses',\n",
    "                           'age_at_study',\n",
    "                           'calcfind',\n",
    "                           'calcdistri',\n",
    "                           'otherfind',\n",
    "                           'numfind',\n",
    "                           'ViewPosition',\n",
    "                           'num_roi',\n",
    "                           'ROI_coords',\n",
    "                           'ETHNICITY_DESC',\n",
    "                           'study_date_anon',\n",
    "                           'diag_study_date',\n",
    "                           'relative_dcm_path',\n",
    "                           'spot_mag']]\n",
    "\n",
    "# Rename columns to be more consistent\n",
    "pos_empi_df = pos_empi_df.rename(columns={'ETHNICITY_DESC':'eth_desc',\n",
    "                                          'calcfind':'calc_find',\n",
    "                                          'calcdistri':'calc_distrib',\n",
    "                                          'otherfind':'other_find',                                          \n",
    "                                          'ViewPosition':'view_pos',\n",
    "                                          'numfind':'num_find'})\n",
    "\n",
    "\n",
    "# Convert study date so it is easily interpreted by Python\n",
    "pos_empi_df['diag_study_date'] = pd.to_datetime(pos_empi_df['diag_study_date'], errors='coerce', format= '%Y-%m-%d')\n",
    "pos_empi_df['study_date_anon'] = pd.to_datetime(pos_empi_df['study_date_anon'], errors='coerce')\n",
    "\n",
    "# Keeping only screening exams with less than 180 day differential between diagnosis date and last exam date (the diagnosis might be outdated on other circumstances)\n",
    "pos_empi_df['diag_date_diff'] = pos_empi_df.diag_study_date - pos_empi_df.study_date_anon\n",
    "pos_empi_rel_df= pos_empi_df.loc[(pos_empi_df.diag_date_diff.dt.days >= 0) & \n",
    "                                 (pos_empi_df.diag_date_diff.dt.days <= 180)]"
   ]
  },
  {
   "cell_type": "code",
   "execution_count": 6,
   "id": "26bf1407-29a1-4f05-8376-6313ed7652c9",
   "metadata": {},
   "outputs": [
    {
     "data": {
      "image/png": "[encoded data removed]",
      "text/plain": [
       "<Figure size 640x480 with 1 Axes>"
      ]
     },
     "metadata": {},
     "output_type": "display_data"
    },
    {
     "data": {
      "text/plain": [
       "Counter({'G': 1142,\n",
       "         'A': 56,\n",
       "         'P': 27,\n",
       "         'H': 25,\n",
       "         'K': 22,\n",
       "         'Q': 13,\n",
       "         'R': 7,\n",
       "         'I': 6,\n",
       "         'D': 6,\n",
       "         'F': 2})"
      ]
     },
     "execution_count": 6,
     "metadata": {},
     "output_type": "execute_result"
    }
   ],
   "source": [
    "bins = plt.hist(pos_empi_rel_df['calc_find'])\n",
    "counts = Counter(pos_empi_rel_df['calc_find'])\n",
    "# plt.text([(i + 0.5) for i in range(len(counts.values()))], str(counts.values()))\n",
    "plt.savefig('calc_types')\n",
    "plt.show()\n",
    "counts"
   ]
  },
  {
   "cell_type": "code",
   "execution_count": 7,
   "id": "295b4764-9e52-4ffd-8920-e7256a252614",
   "metadata": {},
   "outputs": [],
   "source": [
    "with open(data_path + 'positive_empirical.csv', 'w') as f:\n",
    "    pos_empi_rel_df.to_csv(f)"
   ]
  },
  {
   "cell_type": "markdown",
   "id": "3e7a6357-e741-467c-8eb1-f5c1f3d0a65a",
   "metadata": {},
   "source": [
    "## Pulling the DICOM images with a bash script"
   ]
  },
  {
   "cell_type": "code",
   "execution_count": 8,
   "id": "9dd1b131-3c92-414b-ba54-788feab497b0",
   "metadata": {},
   "outputs": [],
   "source": [
    "# Printing the path to file to read it in the bash script\n",
    "with open(data_path + 'positive_path.csv', 'w') as f:\n",
    "    pos_empi_rel_df.drop_duplicates(subset=['relative_dcm_path'])['relative_dcm_path'].to_csv(f, index=False)"
   ]
  },
  {
   "cell_type": "code",
   "execution_count": 9,
   "id": "75eb2120-11d5-4f6d-bfe6-764c8e692c4c",
   "metadata": {},
   "outputs": [
    {
     "name": "stderr",
     "output_type": "stream",
     "text": [
      "mkdir: cannot create directory ‘/media/szelesteya/F824D4D024D492CC’: Permission denied\n"
     ]
    },
    {
     "name": "stdout",
     "output_type": "stream",
     "text": [
      "1 / 146\n",
      "Pulling file /media/szelesteya/F824D4D024D492CC/EMBED-images/dicom-positive/cohort_1/83470524/1.2.845.113975.3.59.1.50221084.20141110.1112012/1.2.840.113683.2750851774.1415170262.5404.2675/1.2.826.0.1.3680043.8.498.12681424261940133202438074551382227544.dcm\n"
     ]
    },
    {
     "name": "stderr",
     "output_type": "stream",
     "text": [
      "fatal error: Error when retrieving token from sso: Token has expired and refresh failed\n",
      "mkdir: cannot create directory ‘/media/szelesteya/F824D4D024D492CC’: Permission denied\n"
     ]
    },
    {
     "name": "stdout",
     "output_type": "stream",
     "text": [
      "\u001b[H\u001b[2J2 / 146\n",
      "Pulling file /media/szelesteya/F824D4D024D492CC/EMBED-images/dicom-positive/cohort_1/83470524/1.2.845.113975.3.59.1.50221084.20141110.1112012/1.2.842.113688.2750851775.1415170261.5405.2695/1.2.826.0.1.3680043.8.498.39167993503878102186225771580782440618.dcm\n"
     ]
    },
    {
     "name": "stderr",
     "output_type": "stream",
     "text": [
      "fatal error: Error when retrieving token from sso: Token has expired and refresh failed\n",
      "mkdir: cannot create directory ‘/media/szelesteya/F824D4D024D492CC’: Permission denied\n"
     ]
    },
    {
     "name": "stdout",
     "output_type": "stream",
     "text": [
      "\u001b[H\u001b[2J3 / 146\n",
      "Pulling file /media/szelesteya/F824D4D024D492CC/EMBED-images/dicom-positive/cohort_1/78265628/1.2.846.113971.3.66.1.51529504.20150736.1115118/1.2.840.113683.2750824974.1438237380.2336.34556/1.2.826.0.1.3680043.8.498.10735466440989741668586797439596379519.dcm\n"
     ]
    },
    {
     "name": "stderr",
     "output_type": "stream",
     "text": [
      "fatal error: Error when retrieving token from sso: Token has expired and refresh failed\n",
      "mkdir: cannot create directory ‘/media/szelesteya/F824D4D024D492CC’: Permission denied\n"
     ]
    },
    {
     "name": "stdout",
     "output_type": "stream",
     "text": [
      "\u001b[H\u001b[2J4 / 146\n",
      "Pulling file /media/szelesteya/F824D4D024D492CC/EMBED-images/dicom-positive/cohort_1/78265628/1.2.846.113971.3.66.1.51529504.20150736.1115118/1.2.842.113685.2750824975.1438237385.2336.34566/1.2.826.0.1.3680043.8.498.11876851440454397415965504044496659551.dcm\n"
     ]
    },
    {
     "name": "stderr",
     "output_type": "stream",
     "text": [
      "fatal error: Error when retrieving token from sso: Token has expired and refresh failed\n",
      "mkdir: cannot create directory ‘/media/szelesteya/F824D4D024D492CC’: Permission denied\n"
     ]
    },
    {
     "name": "stdout",
     "output_type": "stream",
     "text": [
      "\u001b[H\u001b[2J5 / 146\n",
      "Pulling file /media/szelesteya/F824D4D024D492CC/EMBED-images/dicom-positive/cohort_1/94908279/1.2.849.113979.3.66.1.51120217.20150510.1092161/1.2.840.113688.2229460970.1091.3608451148.121.1/1.2.826.0.1.3680043.8.498.79958064610726146381197861159911560926.dcm\n"
     ]
    },
    {
     "name": "stderr",
     "output_type": "stream",
     "text": [
      "fatal error: Error when retrieving token from sso: Token has expired and refresh failed\n",
      "mkdir: cannot create directory ‘/media/szelesteya/F824D4D024D492CC’: Permission denied\n"
     ]
    },
    {
     "name": "stdout",
     "output_type": "stream",
     "text": [
      "\u001b[H\u001b[2J6 / 146\n",
      "Pulling file /media/szelesteya/F824D4D024D492CC/EMBED-images/dicom-positive/cohort_1/94908279/1.2.849.113979.3.66.1.51120217.20150510.1092161/1.2.840.113681.2229460964.1086.3608451145.121.1/1.2.826.0.1.3680043.8.498.19258961318872992397570574856189137780.dcm\n"
     ]
    },
    {
     "name": "stderr",
     "output_type": "stream",
     "text": [
      "fatal error: Error when retrieving token from sso: Token has expired and refresh failed\n",
      "mkdir: cannot create directory ‘/media/szelesteya/F824D4D024D492CC’: Permission denied\n"
     ]
    },
    {
     "name": "stdout",
     "output_type": "stream",
     "text": [
      "\u001b[H\u001b[2J7 / 146\n",
      "Pulling file /media/szelesteya/F824D4D024D492CC/EMBED-images/dicom-positive/cohort_1/60601386/1.2.844.113970.3.57.1.51127641.20150509.1113255/1.2.840.113682.2750824975.1431066322.4273.35452/1.2.826.0.1.3680043.8.498.24180697105534965098627040458629805526.dcm\n"
     ]
    },
    {
     "name": "stderr",
     "output_type": "stream",
     "text": [
      "fatal error: Error when retrieving token from sso: Token has expired and refresh failed\n",
      "mkdir: cannot create directory ‘/media/szelesteya/F824D4D024D492CC’: Permission denied\n"
     ]
    },
    {
     "name": "stdout",
     "output_type": "stream",
     "text": [
      "\u001b[H\u001b[2J8 / 146\n",
      "Pulling file /media/szelesteya/F824D4D024D492CC/EMBED-images/dicom-positive/cohort_1/60601386/1.2.844.113970.3.57.1.51127641.20150509.1113255/1.2.849.113690.2750824984.1431066321.4273.35743/1.2.826.0.1.3680043.8.498.36248213127645964149101902603495503961.dcm\n"
     ]
    },
    {
     "name": "stderr",
     "output_type": "stream",
     "text": [
      "fatal error: Error when retrieving token from sso: Token has expired and refresh failed\n",
      "mkdir: cannot create directory ‘/media/szelesteya/F824D4D024D492CC’: Permission denied\n"
     ]
    },
    {
     "name": "stdout",
     "output_type": "stream",
     "text": [
      "\u001b[H\u001b[2J9 / 146\n",
      "Pulling file /media/szelesteya/F824D4D024D492CC/EMBED-images/dicom-positive/cohort_1/60601386/1.2.844.113970.3.57.1.51127641.20150509.1113255/1.2.841.113689.2750824983.1431066325.4276.35469/1.2.826.0.1.3680043.8.498.52343121588181425287350974339551290650.dcm\n"
     ]
    },
    {
     "name": "stderr",
     "output_type": "stream",
     "text": [
      "fatal error: Error when retrieving token from sso: Token has expired and refresh failed\n",
      "mkdir: cannot create directory ‘/media/szelesteya/F824D4D024D492CC’: Permission denied\n"
     ]
    },
    {
     "name": "stdout",
     "output_type": "stream",
     "text": [
      "\u001b[H\u001b[2J10 / 146\n",
      "Pulling file /media/szelesteya/F824D4D024D492CC/EMBED-images/dicom-positive/cohort_1/29788120/1.2.840.113970.3.62.1.50628540.20150136.1103053/1.2.848.113688.2750851772.1422429429.5402.1520/1.2.826.0.1.3680043.8.498.50858175597125137900123784301424179470.dcm\n"
     ]
    },
    {
     "name": "stderr",
     "output_type": "stream",
     "text": [
      "fatal error: Error when retrieving token from sso: Token has expired and refresh failed\n",
      "mkdir: cannot create directory ‘/media/szelesteya/F824D4D024D492CC’: Permission denied\n"
     ]
    },
    {
     "name": "stdout",
     "output_type": "stream",
     "text": [
      "\u001b[H\u001b[2J11 / 146\n",
      "Pulling file /media/szelesteya/F824D4D024D492CC/EMBED-images/dicom-positive/cohort_1/29788120/1.2.840.113970.3.62.1.50628540.20150136.1103053/1.2.843.113681.2750851781.1422429423.5403.1506/1.2.826.0.1.3680043.8.498.12818376455879486806001082146174324937.dcm\n"
     ]
    },
    {
     "name": "stderr",
     "output_type": "stream",
     "text": [
      "fatal error: Error when retrieving token from sso: Token has expired and refresh failed\n",
      "mkdir: cannot create directory ‘/media/szelesteya/F824D4D024D492CC’: Permission denied\n"
     ]
    },
    {
     "name": "stdout",
     "output_type": "stream",
     "text": [
      "\u001b[H\u001b[2J12 / 146\n",
      "Pulling file /media/szelesteya/F824D4D024D492CC/EMBED-images/dicom-positive/cohort_1/29788120/1.2.840.113970.3.62.1.50628540.20150136.1103053/1.2.847.113683.2750851780.1422429425.5407.1528/1.2.826.0.1.3680043.8.498.12136203195708960042931461343055597272.dcm\n"
     ]
    },
    {
     "name": "stderr",
     "output_type": "stream",
     "text": [
      "fatal error: Error when retrieving token from sso: Token has expired and refresh failed\n",
      "mkdir: cannot create directory ‘/media/szelesteya/F824D4D024D492CC’: Permission denied\n"
     ]
    },
    {
     "name": "stdout",
     "output_type": "stream",
     "text": [
      "\u001b[H\u001b[2J13 / 146\n",
      "Pulling file /media/szelesteya/F824D4D024D492CC/EMBED-images/dicom-positive/cohort_1/29788120/1.2.840.113970.3.62.1.50628540.20150136.1103053/1.2.846.113683.2750851781.1422429427.5403.1489/1.2.826.0.1.3680043.8.498.33789181795670273647921562617666242735.dcm\n"
     ]
    },
    {
     "name": "stderr",
     "output_type": "stream",
     "text": [
      "fatal error: Error when retrieving token from sso: Token has expired and refresh failed\n",
      "mkdir: cannot create directory ‘/media/szelesteya/F824D4D024D492CC’: Permission denied\n"
     ]
    },
    {
     "name": "stdout",
     "output_type": "stream",
     "text": [
      "\u001b[H\u001b[2J14 / 146\n",
      "Pulling file /media/szelesteya/F824D4D024D492CC/EMBED-images/dicom-positive/cohort_1/24011654/1.2.844.113976.3.57.1.51065345.20150434.1104233/1.2.843.113687.2750824981.1430116002.3877.30345/1.2.826.0.1.3680043.8.498.12417185415443114485157586373079920303.dcm\n"
     ]
    },
    {
     "name": "stderr",
     "output_type": "stream",
     "text": [
      "fatal error: \n"
     ]
    },
    {
     "name": "stdout",
     "output_type": "stream",
     "text": [
      "Error while terminating subprocess (pid=12285): \n"
     ]
    },
    {
     "name": "stderr",
     "output_type": "stream",
     "text": [
      "mkdir: cannot create directory ‘/media/szelesteya/F824D4D024D492CC’: Permission denied\n"
     ]
    },
    {
     "name": "stdout",
     "output_type": "stream",
     "text": [
      "\u001b[H\u001b[2J15 / 146\n",
      "Pulling file /media/szelesteya/F824D4D024D492CC/EMBED-images/dicom-positive/cohort_1/24011654/1.2.844.113976.3.57.1.51065345.20150434.1104233/1.2.844.113690.2750824975.1430116003.3868.30332/1.2.826.0.1.3680043.8.498.42407552900750242592463889570165078607.dcm\n"
     ]
    },
    {
     "name": "stderr",
     "output_type": "stream",
     "text": [
      "fatal error: Error when retrieving token from sso: Token has expired and refresh failed\n",
      "mkdir: cannot create directory ‘/media/szelesteya/F824D4D024D492CC’: Permission denied\n"
     ]
    },
    {
     "name": "stdout",
     "output_type": "stream",
     "text": [
      "\u001b[H\u001b[2J16 / 146\n",
      "Pulling file /media/szelesteya/F824D4D024D492CC/EMBED-images/dicom-positive/cohort_1/16126842/1.2.849.113974.3.64.1.50860881.20150322.1/1.2.842.113681.2750824979.1426573502.4238.1890/1.2.826.0.1.3680043.8.498.99494044766262015518792026876797575818.dcm\n"
     ]
    },
    {
     "name": "stderr",
     "output_type": "stream",
     "text": [
      "fatal error: Error when retrieving token from sso: Token has expired and refresh failed\n",
      "mkdir: cannot create directory ‘/media/szelesteya/F824D4D024D492CC’: Permission denied\n"
     ]
    },
    {
     "name": "stdout",
     "output_type": "stream",
     "text": [
      "\u001b[H\u001b[2J17 / 146\n",
      "Pulling file /media/szelesteya/F824D4D024D492CC/EMBED-images/dicom-positive/cohort_1/16126842/1.2.849.113974.3.64.1.50860881.20150322.1/1.2.845.113681.2750824976.1426573508.4239.1885/1.2.826.0.1.3680043.8.498.85731612144854536020942685253485158800.dcm\n"
     ]
    },
    {
     "name": "stderr",
     "output_type": "stream",
     "text": [
      "fatal error: Error when retrieving token from sso: Token has expired and refresh failed\n",
      "mkdir: cannot create directory ‘/media/szelesteya/F824D4D024D492CC’: Permission denied\n"
     ]
    },
    {
     "name": "stdout",
     "output_type": "stream",
     "text": [
      "\u001b[H\u001b[2J18 / 146\n",
      "Pulling file /media/szelesteya/F824D4D024D492CC/EMBED-images/dicom-positive/cohort_1/94069255/1.2.843.113975.3.62.1.50919212.20150334.1153718/1.2.845.113688.2229460971.973.3604908694.354.1/1.2.826.0.1.3680043.8.498.20722942217240424527801115395178491018.dcm\n"
     ]
    },
    {
     "name": "stderr",
     "output_type": "stream",
     "text": [
      "fatal error: Error when retrieving token from sso: Token has expired and refresh failed\n",
      "mkdir: cannot create directory ‘/media/szelesteya/F824D4D024D492CC’: Permission denied\n"
     ]
    },
    {
     "name": "stdout",
     "output_type": "stream",
     "text": [
      "\u001b[H\u001b[2J19 / 146\n",
      "Pulling file /media/szelesteya/F824D4D024D492CC/EMBED-images/dicom-positive/cohort_1/94069255/1.2.843.113975.3.62.1.50919212.20150334.1153718/1.2.845.113683.2229460968.979.3604908693.355.1/1.2.826.0.1.3680043.8.498.74756296766062484705549123709386696394.dcm\n"
     ]
    },
    {
     "name": "stderr",
     "output_type": "stream",
     "text": [
      "fatal error: Error when retrieving token from sso: Token has expired and refresh failed\n",
      "mkdir: cannot create directory ‘/media/szelesteya/F824D4D024D492CC’: Permission denied\n"
     ]
    },
    {
     "name": "stdout",
     "output_type": "stream",
     "text": [
      "\u001b[H\u001b[2J20 / 146\n",
      "Pulling file /media/szelesteya/F824D4D024D492CC/EMBED-images/dicom-positive/cohort_1/74207244/1.2.842.113976.3.58.1.51176613.20150525.1082709/1.2.840.113689.2229460971.1033.3609488276.77.1/1.2.826.0.1.3680043.8.498.13258790419910520755331838040988323624.dcm\n"
     ]
    },
    {
     "name": "stderr",
     "output_type": "stream",
     "text": [
      "fatal error: Error when retrieving token from sso: Token has expired and refresh failed\n",
      "mkdir: cannot create directory ‘/media/szelesteya/F824D4D024D492CC’: Permission denied\n"
     ]
    },
    {
     "name": "stdout",
     "output_type": "stream",
     "text": [
      "\u001b[H\u001b[2J21 / 146\n",
      "Pulling file /media/szelesteya/F824D4D024D492CC/EMBED-images/dicom-positive/cohort_1/74207244/1.2.842.113976.3.58.1.51176613.20150525.1082709/1.2.842.113685.2229460968.1035.3609488270.70.1/1.2.826.0.1.3680043.8.498.53234707169310797867685004879432103713.dcm\n"
     ]
    },
    {
     "name": "stderr",
     "output_type": "stream",
     "text": [
      "fatal error: Error when retrieving token from sso: Token has expired and refresh failed\n",
      "mkdir: cannot create directory ‘/media/szelesteya/F824D4D024D492CC’: Permission denied\n"
     ]
    },
    {
     "name": "stdout",
     "output_type": "stream",
     "text": [
      "\u001b[H\u001b[2J22 / 146\n",
      "Pulling file /media/szelesteya/F824D4D024D492CC/EMBED-images/dicom-positive/cohort_1/74207244/1.2.842.113976.3.58.1.51176613.20150525.1082709/1.2.842.113683.2229460962.1030.3609488269.70.1/1.2.826.0.1.3680043.8.498.92410216857868285574628479090223047551.dcm\n"
     ]
    },
    {
     "name": "stderr",
     "output_type": "stream",
     "text": [
      "fatal error: Error when retrieving token from sso: Token has expired and refresh failed\n",
      "mkdir: cannot create directory ‘/media/szelesteya/F824D4D024D492CC’: Permission denied\n"
     ]
    },
    {
     "name": "stdout",
     "output_type": "stream",
     "text": [
      "\u001b[H\u001b[2J23 / 146\n",
      "Pulling file /media/szelesteya/F824D4D024D492CC/EMBED-images/dicom-positive/cohort_1/74207244/1.2.842.113976.3.58.1.51176613.20150525.1082709/1.2.841.113687.2229460968.1033.3609488278.72.1/1.2.826.0.1.3680043.8.498.10576957393567871897731868431544650425.dcm\n"
     ]
    },
    {
     "name": "stderr",
     "output_type": "stream",
     "text": [
      "fatal error: Error when retrieving token from sso: Token has expired and refresh failed\n",
      "mkdir: cannot create directory ‘/media/szelesteya/F824D4D024D492CC’: Permission denied\n"
     ]
    },
    {
     "name": "stdout",
     "output_type": "stream",
     "text": [
      "\u001b[H\u001b[2J24 / 146\n",
      "Pulling file /media/szelesteya/F824D4D024D492CC/EMBED-images/dicom-positive/cohort_1/44493032/1.2.846.113970.3.61.1.50785527.20150311.1110644/1.2.847.113681.2750824976.1425277114.5014.40035/1.2.826.0.1.3680043.8.498.10402472578892547757149878748361129728.dcm\n"
     ]
    },
    {
     "name": "stderr",
     "output_type": "stream",
     "text": [
      "fatal error: Error when retrieving token from sso: Token has expired and refresh failed\n",
      "mkdir: cannot create directory ‘/media/szelesteya/F824D4D024D492CC’: Permission denied\n"
     ]
    },
    {
     "name": "stdout",
     "output_type": "stream",
     "text": [
      "\u001b[H\u001b[2J25 / 146\n",
      "Pulling file /media/szelesteya/F824D4D024D492CC/EMBED-images/dicom-positive/cohort_1/44493032/1.2.846.113970.3.61.1.50785527.20150311.1110644/1.2.843.113689.2750824981.1425277114.5019.40050/1.2.826.0.1.3680043.8.498.95492353294254705602965176660803308744.dcm\n"
     ]
    },
    {
     "name": "stderr",
     "output_type": "stream",
     "text": [
      "fatal error: Error when retrieving token from sso: Token has expired and refresh failed\n",
      "mkdir: cannot create directory ‘/media/szelesteya/F824D4D024D492CC’: Permission denied\n"
     ]
    },
    {
     "name": "stdout",
     "output_type": "stream",
     "text": [
      "\u001b[H\u001b[2J26 / 146\n",
      "Pulling file /media/szelesteya/F824D4D024D492CC/EMBED-images/dicom-positive/cohort_1/61625861/1.2.848.113970.3.60.1.52182401.20151211.1134555/1.2.840.113689.2750824981.1449581645.4745.5525/1.2.826.0.1.3680043.8.498.97576092716424270931326768930859788407.dcm\n"
     ]
    },
    {
     "name": "stderr",
     "output_type": "stream",
     "text": [
      "fatal error: Error when retrieving token from sso: Token has expired and refresh failed\n",
      "mkdir: cannot create directory ‘/media/szelesteya/F824D4D024D492CC’: Permission denied\n"
     ]
    },
    {
     "name": "stdout",
     "output_type": "stream",
     "text": [
      "\u001b[H\u001b[2J27 / 146\n",
      "Pulling file /media/szelesteya/F824D4D024D492CC/EMBED-images/dicom-positive/cohort_1/61625861/1.2.848.113970.3.60.1.52182401.20151211.1134555/1.2.847.113682.2750824972.1449581645.4743.5534/1.2.826.0.1.3680043.8.498.36880561135068309428431878350846825012.dcm\n"
     ]
    },
    {
     "name": "stderr",
     "output_type": "stream",
     "text": [
      "fatal error: Error when retrieving token from sso: Token has expired and refresh failed\n",
      "mkdir: cannot create directory ‘/media/szelesteya/F824D4D024D492CC’: Permission denied\n"
     ]
    },
    {
     "name": "stdout",
     "output_type": "stream",
     "text": [
      "\u001b[H\u001b[2J28 / 146\n",
      "Pulling file /media/szelesteya/F824D4D024D492CC/EMBED-images/dicom-positive/cohort_1/15541424/1.2.844.113977.3.65.1.52221138.20151222.1145345/1.2.841.113683.2230564623.980.3627636222.260.1/1.2.826.0.1.3680043.8.498.55250709251722901116203108435658071554.dcm\n"
     ]
    },
    {
     "name": "stderr",
     "output_type": "stream",
     "text": [
      "fatal error: Error when retrieving token from sso: Token has expired and refresh failed\n",
      "mkdir: cannot create directory ‘/media/szelesteya/F824D4D024D492CC’: Permission denied\n"
     ]
    },
    {
     "name": "stdout",
     "output_type": "stream",
     "text": [
      "\u001b[H\u001b[2J29 / 146\n",
      "Pulling file /media/szelesteya/F824D4D024D492CC/EMBED-images/dicom-positive/cohort_1/15541424/1.2.844.113977.3.65.1.52221138.20151222.1145345/1.2.843.113686.2230564626.975.3627636220.269.1/1.2.826.0.1.3680043.8.498.99875443125466257716150171814626249222.dcm\n"
     ]
    },
    {
     "name": "stderr",
     "output_type": "stream",
     "text": [
      "fatal error: Error when retrieving token from sso: Token has expired and refresh failed\n",
      "mkdir: cannot create directory ‘/media/szelesteya/F824D4D024D492CC’: Permission denied\n"
     ]
    },
    {
     "name": "stdout",
     "output_type": "stream",
     "text": [
      "\u001b[H\u001b[2J30 / 146\n",
      "Pulling file /media/szelesteya/F824D4D024D492CC/EMBED-images/dicom-positive/cohort_1/15541424/1.2.844.113977.3.65.1.52221138.20151222.1145345/1.2.840.113689.2230564624.975.3627636225.263.1/1.2.826.0.1.3680043.8.498.12432663822072829796124747439727192778.dcm\n"
     ]
    },
    {
     "name": "stderr",
     "output_type": "stream",
     "text": [
      "fatal error: Error when retrieving token from sso: Token has expired and refresh failed\n"
     ]
    },
    {
     "name": "stdout",
     "output_type": "stream",
     "text": [
      "\u001b[H\u001b[2J31 / 146\n",
      "File already present\n",
      "\u001b[H\u001b[2J32 / 146\n",
      "File already present\n",
      "\u001b[H\u001b[2J33 / 146\n",
      "File already present\n",
      "\u001b[H\u001b[2J34 / 146\n",
      "File already present\n",
      "\u001b[H\u001b[2J35 / 146\n",
      "File already present\n",
      "\u001b[H\u001b[2J36 / 146\n",
      "File already present\n",
      "\u001b[H\u001b[2J37 / 146\n",
      "File already present\n",
      "\u001b[H\u001b[2J38 / 146\n",
      "File already present\n",
      "\u001b[H\u001b[2J39 / 146\n",
      "File already present\n",
      "\u001b[H\u001b[2J40 / 146\n",
      "File already present\n",
      "\u001b[H\u001b[2J41 / 146\n",
      "File already present\n",
      "\u001b[H\u001b[2J42 / 146\n",
      "File already present\n",
      "\u001b[H\u001b[2J43 / 146\n",
      "File already present\n",
      "\u001b[H\u001b[2J44 / 146\n",
      "File already present\n",
      "\u001b[H\u001b[2J45 / 146\n",
      "File already present\n",
      "\u001b[H\u001b[2J46 / 146\n",
      "File already present\n",
      "\u001b[H\u001b[2J47 / 146\n",
      "File already present\n",
      "\u001b[H\u001b[2J48 / 146\n",
      "File already present\n",
      "\u001b[H\u001b[2J49 / 146\n",
      "File already present\n",
      "\u001b[H\u001b[2J50 / 146\n",
      "File already present\n",
      "\u001b[H\u001b[2J51 / 146\n",
      "File already present\n",
      "\u001b[H\u001b[2J52 / 146\n",
      "File already present\n",
      "\u001b[H\u001b[2J53 / 146\n",
      "File already present\n",
      "\u001b[H\u001b[2J54 / 146\n",
      "File already present\n",
      "\u001b[H\u001b[2J55 / 146\n",
      "File already present\n",
      "\u001b[H\u001b[2J56 / 146\n",
      "File already present\n",
      "\u001b[H\u001b[2J57 / 146\n",
      "File already present\n",
      "\u001b[H\u001b[2J58 / 146\n",
      "File already present\n",
      "\u001b[H\u001b[2J59 / 146\n",
      "File already present\n",
      "\u001b[H\u001b[2J60 / 146\n",
      "File already present\n",
      "\u001b[H\u001b[2J61 / 146\n",
      "File already present\n",
      "\u001b[H\u001b[2J62 / 146\n",
      "File already present\n",
      "\u001b[H\u001b[2J63 / 146\n",
      "File already present\n",
      "\u001b[H\u001b[2J64 / 146\n",
      "File already present\n",
      "\u001b[H\u001b[2J65 / 146\n",
      "File already present\n",
      "\u001b[H\u001b[2J66 / 146\n",
      "File already present\n",
      "\u001b[H\u001b[2J67 / 146\n",
      "File already present\n",
      "\u001b[H\u001b[2J68 / 146\n",
      "File already present\n",
      "\u001b[H\u001b[2J69 / 146\n",
      "File already present\n",
      "\u001b[H\u001b[2J70 / 146\n",
      "File already present\n",
      "\u001b[H\u001b[2J71 / 146\n",
      "File already present\n",
      "\u001b[H\u001b[2J72 / 146\n",
      "File already present\n",
      "\u001b[H\u001b[2J73 / 146\n",
      "File already present\n",
      "\u001b[H\u001b[2J74 / 146\n",
      "File already present\n",
      "\u001b[H\u001b[2J75 / 146\n",
      "File already present\n",
      "\u001b[H\u001b[2J76 / 146\n",
      "File already present\n",
      "\u001b[H\u001b[2J77 / 146\n",
      "File already present\n",
      "\u001b[H\u001b[2J78 / 146\n",
      "File already present\n",
      "\u001b[H\u001b[2J79 / 146\n",
      "File already present\n",
      "\u001b[H\u001b[2J80 / 146\n",
      "File already present\n",
      "\u001b[H\u001b[2J81 / 146\n",
      "File already present\n",
      "\u001b[H\u001b[2J82 / 146\n",
      "File already present\n",
      "\u001b[H\u001b[2J83 / 146\n",
      "File already present\n",
      "\u001b[H\u001b[2J84 / 146\n",
      "File already present\n",
      "\u001b[H\u001b[2J85 / 146\n",
      "File already present\n",
      "\u001b[H\u001b[2J86 / 146\n",
      "File already present\n",
      "\u001b[H\u001b[2J87 / 146\n",
      "File already present\n",
      "\u001b[H\u001b[2J88 / 146\n",
      "File already present\n",
      "\u001b[H\u001b[2J89 / 146\n",
      "File already present\n",
      "\u001b[H\u001b[2J90 / 146\n",
      "File already present\n",
      "\u001b[H\u001b[2J91 / 146\n",
      "File already present\n",
      "\u001b[H\u001b[2J92 / 146\n",
      "File already present\n",
      "\u001b[H\u001b[2J93 / 146\n",
      "File already present\n",
      "\u001b[H\u001b[2J94 / 146\n",
      "File already present\n",
      "\u001b[H\u001b[2J95 / 146\n",
      "File already present\n",
      "\u001b[H\u001b[2J96 / 146\n",
      "File already present\n",
      "\u001b[H\u001b[2J97 / 146\n",
      "File already present\n",
      "\u001b[H\u001b[2J98 / 146\n",
      "File already present\n",
      "\u001b[H\u001b[2J99 / 146\n",
      "File already present\n",
      "\u001b[H\u001b[2J100 / 146\n",
      "File already present\n",
      "\u001b[H\u001b[2J101 / 146\n",
      "File already present\n",
      "\u001b[H\u001b[2J102 / 146\n",
      "File already present\n",
      "\u001b[H\u001b[2J103 / 146\n",
      "File already present\n",
      "\u001b[H\u001b[2J104 / 146\n",
      "File already present\n",
      "\u001b[H\u001b[2J105 / 146\n",
      "File already present\n",
      "\u001b[H\u001b[2J106 / 146\n",
      "File already present\n",
      "\u001b[H\u001b[2J107 / 146\n",
      "File already present\n",
      "\u001b[H\u001b[2J108 / 146\n",
      "File already present\n",
      "\u001b[H\u001b[2J109 / 146\n",
      "File already present\n",
      "\u001b[H\u001b[2J110 / 146\n",
      "File already present\n",
      "\u001b[H\u001b[2J111 / 146\n",
      "File already present\n",
      "\u001b[H\u001b[2J112 / 146\n",
      "File already present\n",
      "\u001b[H\u001b[2J113 / 146\n",
      "File already present\n",
      "\u001b[H\u001b[2J114 / 146\n",
      "File already present\n",
      "\u001b[H\u001b[2J115 / 146\n",
      "File already present\n",
      "\u001b[H\u001b[2J116 / 146\n",
      "File already present\n",
      "\u001b[H\u001b[2J117 / 146\n",
      "File already present\n",
      "\u001b[H\u001b[2J118 / 146\n",
      "File already present\n",
      "\u001b[H\u001b[2J119 / 146\n",
      "File already present\n",
      "\u001b[H\u001b[2J120 / 146\n",
      "File already present\n",
      "\u001b[H\u001b[2J121 / 146\n",
      "File already present\n",
      "\u001b[H\u001b[2J122 / 146\n",
      "File already present\n",
      "\u001b[H\u001b[2J123 / 146\n",
      "File already present\n",
      "\u001b[H\u001b[2J124 / 146\n",
      "File already present\n",
      "\u001b[H\u001b[2J125 / 146\n",
      "File already present\n",
      "\u001b[H\u001b[2J126 / 146\n",
      "File already present\n",
      "\u001b[H\u001b[2J127 / 146\n",
      "File already present\n",
      "\u001b[H\u001b[2J128 / 146\n",
      "File already present\n",
      "\u001b[H\u001b[2J129 / 146\n",
      "File already present\n",
      "\u001b[H\u001b[2J130 / 146\n",
      "File already present\n",
      "\u001b[H\u001b[2J131 / 146\n",
      "File already present\n",
      "\u001b[H\u001b[2J132 / 146\n",
      "File already present\n",
      "\u001b[H\u001b[2J133 / 146\n",
      "File already present\n",
      "\u001b[H\u001b[2J134 / 146\n",
      "File already present\n",
      "\u001b[H\u001b[2J135 / 146\n",
      "File already present\n",
      "\u001b[H\u001b[2J136 / 146\n",
      "File already present\n",
      "\u001b[H\u001b[2J137 / 146\n",
      "File already present\n",
      "\u001b[H\u001b[2J138 / 146\n",
      "File already present\n",
      "\u001b[H\u001b[2J139 / 146\n",
      "File already present\n",
      "\u001b[H\u001b[2J140 / 146\n",
      "File already present\n",
      "\u001b[H\u001b[2J141 / 146\n",
      "File already present\n",
      "\u001b[H\u001b[2J142 / 146\n",
      "File already present\n",
      "\u001b[H\u001b[2J143 / 146\n",
      "File already present\n",
      "\u001b[H\u001b[2J144 / 146\n",
      "File already present\n",
      "\u001b[H\u001b[2J145 / 146\n",
      "File already present\n",
      "\u001b[H\u001b[2J146 / 146\n",
      "File already present\n",
      "\u001b[H\u001b[2J147 / 146\n",
      "File already present\n",
      "\u001b[H\u001b[2J148 / 146\n",
      "File already present\n",
      "\u001b[H\u001b[2J149 / 146\n",
      "File already present\n",
      "\u001b[H\u001b[2J150 / 146\n",
      "File already present\n",
      "\u001b[H\u001b[2J151 / 146\n",
      "File already present\n",
      "\u001b[H\u001b[2J152 / 146\n",
      "File already present\n",
      "\u001b[H\u001b[2J153 / 146\n",
      "File already present\n",
      "\u001b[H\u001b[2J154 / 146\n",
      "File already present\n",
      "\u001b[H\u001b[2J155 / 146\n",
      "File already present\n",
      "\u001b[H\u001b[2J156 / 146\n",
      "File already present\n",
      "\u001b[H\u001b[2J157 / 146\n",
      "File already present\n",
      "\u001b[H\u001b[2J158 / 146\n",
      "File already present\n",
      "\u001b[H\u001b[2J159 / 146\n",
      "File already present\n",
      "\u001b[H\u001b[2J160 / 146\n",
      "File already present\n",
      "\u001b[H\u001b[2J161 / 146\n",
      "File already present\n",
      "\u001b[H\u001b[2J162 / 146\n",
      "File already present\n",
      "\u001b[H\u001b[2J163 / 146\n",
      "File already present\n",
      "\u001b[H\u001b[2J164 / 146\n",
      "File already present\n",
      "\u001b[H\u001b[2J165 / 146\n",
      "File already present\n",
      "\u001b[H\u001b[2J166 / 146\n",
      "File already present\n",
      "\u001b[H\u001b[2J167 / 146\n",
      "File already present\n",
      "\u001b[H\u001b[2J168 / 146\n",
      "File already present\n",
      "\u001b[H\u001b[2J169 / 146\n",
      "File already present\n",
      "\u001b[H\u001b[2J170 / 146\n",
      "File already present\n",
      "\u001b[H\u001b[2J171 / 146\n",
      "File already present\n",
      "\u001b[H\u001b[2J172 / 146\n",
      "File already present\n",
      "\u001b[H\u001b[2J173 / 146\n",
      "File already present\n",
      "\u001b[H\u001b[2J174 / 146\n",
      "File already present\n",
      "\u001b[H\u001b[2J175 / 146\n",
      "File already present\n",
      "\u001b[H\u001b[2J176 / 146\n",
      "File already present\n",
      "\u001b[H\u001b[2J177 / 146\n",
      "File already present\n",
      "\u001b[H\u001b[2J178 / 146\n",
      "File already present\n",
      "\u001b[H\u001b[2J179 / 146\n",
      "File already present\n",
      "\u001b[H\u001b[2J180 / 146\n",
      "File already present\n",
      "\u001b[H\u001b[2J181 / 146\n",
      "File already present\n",
      "\u001b[H\u001b[2J182 / 146\n",
      "File already present\n",
      "\u001b[H\u001b[2J183 / 146\n",
      "File already present\n",
      "\u001b[H\u001b[2J184 / 146\n",
      "File already present\n",
      "\u001b[H\u001b[2J185 / 146\n",
      "File already present\n",
      "\u001b[H\u001b[2J186 / 146\n",
      "File already present\n",
      "\u001b[H\u001b[2J187 / 146\n",
      "File already present\n",
      "\u001b[H\u001b[2J188 / 146\n",
      "File already present\n",
      "\u001b[H\u001b[2J189 / 146\n",
      "File already present\n",
      "\u001b[H\u001b[2J190 / 146\n",
      "File already present\n",
      "\u001b[H\u001b[2J191 / 146\n",
      "File already present\n",
      "\u001b[H\u001b[2J192 / 146\n",
      "File already present\n",
      "\u001b[H\u001b[2J193 / 146\n",
      "File already present\n",
      "\u001b[H\u001b[2J194 / 146\n",
      "File already present\n",
      "\u001b[H\u001b[2J195 / 146\n",
      "File already present\n",
      "\u001b[H\u001b[2J196 / 146\n",
      "File already present\n",
      "\u001b[H\u001b[2J197 / 146\n",
      "File already present\n",
      "\u001b[H\u001b[2J198 / 146\n",
      "File already present\n",
      "\u001b[H\u001b[2J199 / 146\n",
      "File already present\n",
      "\u001b[H\u001b[2J200 / 146\n",
      "File already present\n",
      "\u001b[H\u001b[2J201 / 146\n",
      "File already present\n",
      "\u001b[H\u001b[2J202 / 146\n",
      "File already present\n",
      "\u001b[H\u001b[2J203 / 146\n",
      "File already present\n",
      "\u001b[H\u001b[2J204 / 146\n",
      "File already present\n",
      "\u001b[H\u001b[2J205 / 146\n",
      "File already present\n",
      "\u001b[H\u001b[2J206 / 146\n",
      "File already present\n",
      "\u001b[H\u001b[2J207 / 146\n",
      "File already present\n",
      "\u001b[H\u001b[2J208 / 146\n",
      "File already present\n",
      "\u001b[H\u001b[2J209 / 146\n",
      "File already present\n",
      "\u001b[H\u001b[2J210 / 146\n",
      "File already present\n",
      "\u001b[H\u001b[2J211 / 146\n",
      "File already present\n",
      "\u001b[H\u001b[2J212 / 146\n",
      "File already present\n",
      "\u001b[H\u001b[2J213 / 146\n",
      "File already present\n",
      "\u001b[H\u001b[2J214 / 146\n",
      "File already present\n",
      "\u001b[H\u001b[2J215 / 146\n",
      "File already present\n",
      "\u001b[H\u001b[2J216 / 146\n",
      "File already present\n",
      "\u001b[H\u001b[2J217 / 146\n",
      "File already present\n",
      "\u001b[H\u001b[2J218 / 146\n",
      "File already present\n",
      "\u001b[H\u001b[2J219 / 146\n",
      "File already present\n",
      "\u001b[H\u001b[2J220 / 146\n",
      "File already present\n",
      "\u001b[H\u001b[2J221 / 146\n",
      "File already present\n",
      "\u001b[H\u001b[2J222 / 146\n",
      "File already present\n",
      "\u001b[H\u001b[2J223 / 146\n",
      "File already present\n",
      "\u001b[H\u001b[2J224 / 146\n",
      "File already present\n",
      "\u001b[H\u001b[2J225 / 146\n",
      "File already present\n",
      "\u001b[H\u001b[2J226 / 146\n",
      "File already present\n",
      "\u001b[H\u001b[2J227 / 146\n",
      "File already present\n",
      "\u001b[H\u001b[2J228 / 146\n",
      "File already present\n",
      "\u001b[H\u001b[2J229 / 146\n",
      "File already present\n",
      "\u001b[H\u001b[2J230 / 146\n",
      "File already present\n",
      "\u001b[H\u001b[2J231 / 146\n",
      "File already present\n",
      "\u001b[H\u001b[2J232 / 146\n",
      "File already present\n",
      "\u001b[H\u001b[2J233 / 146\n",
      "File already present\n",
      "\u001b[H\u001b[2J234 / 146\n",
      "File already present\n",
      "\u001b[H\u001b[2J235 / 146\n",
      "File already present\n",
      "\u001b[H\u001b[2J236 / 146\n",
      "File already present\n",
      "\u001b[H\u001b[2J237 / 146\n",
      "File already present\n",
      "\u001b[H\u001b[2J238 / 146\n",
      "File already present\n",
      "\u001b[H\u001b[2J239 / 146\n",
      "File already present\n",
      "\u001b[H\u001b[2J240 / 146\n",
      "File already present\n",
      "\u001b[H\u001b[2J241 / 146\n",
      "File already present\n",
      "\u001b[H\u001b[2J242 / 146\n",
      "File already present\n",
      "\u001b[H\u001b[2J243 / 146\n",
      "File already present\n",
      "\u001b[H\u001b[2J244 / 146\n",
      "File already present\n",
      "\u001b[H\u001b[2J245 / 146\n",
      "File already present\n",
      "\u001b[H\u001b[2J246 / 146\n",
      "File already present\n",
      "\u001b[H\u001b[2J247 / 146\n",
      "File already present\n",
      "\u001b[H\u001b[2J248 / 146\n",
      "File already present\n",
      "\u001b[H\u001b[2J249 / 146\n",
      "File already present\n",
      "\u001b[H\u001b[2J250 / 146\n",
      "File already present\n",
      "\u001b[H\u001b[2J251 / 146\n",
      "File already present\n",
      "\u001b[H\u001b[2J252 / 146\n",
      "File already present\n",
      "\u001b[H\u001b[2J253 / 146\n",
      "File already present\n",
      "\u001b[H\u001b[2J254 / 146\n",
      "File already present\n",
      "\u001b[H\u001b[2J255 / 146\n",
      "File already present\n",
      "\u001b[H\u001b[2J256 / 146\n",
      "File already present\n",
      "\u001b[H\u001b[2J257 / 146\n",
      "File already present\n",
      "\u001b[H\u001b[2J258 / 146\n",
      "File already present\n",
      "\u001b[H\u001b[2J259 / 146\n",
      "File already present\n",
      "\u001b[H\u001b[2J260 / 146\n",
      "File already present\n",
      "\u001b[H\u001b[2J261 / 146\n",
      "File already present\n",
      "\u001b[H\u001b[2J262 / 146\n",
      "File already present\n",
      "\u001b[H\u001b[2J263 / 146\n",
      "File already present\n",
      "\u001b[H\u001b[2J264 / 146\n",
      "File already present\n",
      "\u001b[H\u001b[2J265 / 146\n",
      "File already present\n",
      "\u001b[H\u001b[2J266 / 146\n",
      "File already present\n",
      "\u001b[H\u001b[2J267 / 146\n",
      "File already present\n",
      "\u001b[H\u001b[2J268 / 146\n",
      "File already present\n",
      "\u001b[H\u001b[2J269 / 146\n",
      "File already present\n",
      "\u001b[H\u001b[2J270 / 146\n",
      "File already present\n",
      "\u001b[H\u001b[2J271 / 146\n",
      "File already present\n",
      "\u001b[H\u001b[2J272 / 146\n",
      "File already present\n",
      "\u001b[H\u001b[2J273 / 146\n",
      "File already present\n",
      "\u001b[H\u001b[2J274 / 146\n",
      "File already present\n",
      "\u001b[H\u001b[2J275 / 146\n",
      "File already present\n",
      "\u001b[H\u001b[2J276 / 146\n",
      "File already present\n",
      "\u001b[H\u001b[2J277 / 146\n",
      "File already present\n",
      "\u001b[H\u001b[2J278 / 146\n",
      "File already present\n",
      "\u001b[H\u001b[2J279 / 146\n",
      "File already present\n",
      "\u001b[H\u001b[2J280 / 146\n",
      "File already present\n",
      "\u001b[H\u001b[2J281 / 146\n",
      "File already present\n",
      "\u001b[H\u001b[2J282 / 146\n",
      "File already present\n",
      "\u001b[H\u001b[2J283 / 146\n",
      "File already present\n",
      "\u001b[H\u001b[2J284 / 146\n",
      "File already present\n",
      "\u001b[H\u001b[2J285 / 146\n",
      "File already present\n",
      "\u001b[H\u001b[2J286 / 146\n",
      "File already present\n",
      "\u001b[H\u001b[2J287 / 146\n",
      "File already present\n",
      "\u001b[H\u001b[2J288 / 146\n",
      "File already present\n",
      "\u001b[H\u001b[2J289 / 146\n",
      "File already present\n",
      "\u001b[H\u001b[2J290 / 146\n",
      "File already present\n",
      "\u001b[H\u001b[2J291 / 146\n",
      "File already present\n",
      "\u001b[H\u001b[2J292 / 146\n",
      "File already present\n",
      "\u001b[H\u001b[2J293 / 146\n",
      "File already present\n",
      "\u001b[H\u001b[2J294 / 146\n",
      "File already present\n",
      "\u001b[H\u001b[2J295 / 146\n",
      "File already present\n",
      "\u001b[H\u001b[2J296 / 146\n",
      "File already present\n",
      "\u001b[H\u001b[2J297 / 146\n",
      "File already present\n",
      "\u001b[H\u001b[2J298 / 146\n",
      "File already present\n",
      "\u001b[H\u001b[2J299 / 146\n",
      "File already present\n",
      "\u001b[H\u001b[2J300 / 146\n",
      "File already present\n",
      "\u001b[H\u001b[2J301 / 146\n",
      "File already present\n",
      "\u001b[H\u001b[2J302 / 146\n",
      "File already present\n",
      "\u001b[H\u001b[2J303 / 146\n",
      "File already present\n",
      "\u001b[H\u001b[2J304 / 146\n",
      "File already present\n",
      "\u001b[H\u001b[2J305 / 146\n",
      "File already present\n",
      "\u001b[H\u001b[2J306 / 146\n",
      "File already present\n",
      "\u001b[H\u001b[2J307 / 146\n",
      "File already present\n",
      "\u001b[H\u001b[2J308 / 146\n",
      "File already present\n",
      "\u001b[H\u001b[2J309 / 146\n",
      "File already present\n",
      "\u001b[H\u001b[2J310 / 146\n",
      "File already present\n",
      "\u001b[H\u001b[2J311 / 146\n",
      "File already present\n",
      "\u001b[H\u001b[2J312 / 146\n",
      "File already present\n",
      "\u001b[H\u001b[2J313 / 146\n",
      "File already present\n",
      "\u001b[H\u001b[2J314 / 146\n",
      "File already present\n",
      "\u001b[H\u001b[2J315 / 146\n",
      "File already present\n",
      "\u001b[H\u001b[2J316 / 146\n",
      "File already present\n",
      "\u001b[H\u001b[2J317 / 146\n",
      "File already present\n",
      "\u001b[H\u001b[2J318 / 146\n",
      "File already present\n",
      "\u001b[H\u001b[2J319 / 146\n",
      "File already present\n",
      "\u001b[H\u001b[2J320 / 146\n",
      "File already present\n",
      "\u001b[H\u001b[2J321 / 146\n",
      "File already present\n",
      "\u001b[H\u001b[2J322 / 146\n",
      "File already present\n",
      "\u001b[H\u001b[2J323 / 146\n",
      "File already present\n",
      "\u001b[H\u001b[2J324 / 146\n",
      "File already present\n",
      "\u001b[H\u001b[2J325 / 146\n",
      "File already present\n",
      "\u001b[H\u001b[2J326 / 146\n",
      "File already present\n",
      "\u001b[H\u001b[2J327 / 146\n",
      "File already present\n",
      "\u001b[H\u001b[2J328 / 146\n",
      "File already present\n",
      "\u001b[H\u001b[2J329 / 146\n",
      "File already present\n",
      "\u001b[H\u001b[2J330 / 146\n",
      "File already present\n",
      "\u001b[H\u001b[2J331 / 146\n",
      "File already present\n",
      "\u001b[H\u001b[2J332 / 146\n",
      "File already present\n",
      "\u001b[H\u001b[2J333 / 146\n",
      "File already present\n",
      "\u001b[H\u001b[2J334 / 146\n",
      "File already present\n",
      "\u001b[H\u001b[2J335 / 146\n",
      "File already present\n",
      "\u001b[H\u001b[2J336 / 146\n",
      "File already present\n",
      "\u001b[H\u001b[2J337 / 146\n",
      "File already present\n",
      "\u001b[H\u001b[2J338 / 146\n",
      "File already present\n",
      "\u001b[H\u001b[2J339 / 146\n",
      "File already present\n",
      "\u001b[H\u001b[2J340 / 146\n",
      "File already present\n",
      "\u001b[H\u001b[2J341 / 146\n",
      "File already present\n",
      "\u001b[H\u001b[2J342 / 146\n",
      "File already present\n",
      "\u001b[H\u001b[2J343 / 146\n",
      "File already present\n",
      "\u001b[H\u001b[2J344 / 146\n",
      "File already present\n",
      "\u001b[H\u001b[2J345 / 146\n",
      "File already present\n",
      "\u001b[H\u001b[2J346 / 146\n",
      "File already present\n",
      "\u001b[H\u001b[2J347 / 146\n",
      "File already present\n",
      "\u001b[H\u001b[2J348 / 146\n",
      "File already present\n",
      "\u001b[H\u001b[2J349 / 146\n",
      "File already present\n",
      "\u001b[H\u001b[2J350 / 146\n",
      "File already present\n",
      "\u001b[H\u001b[2J351 / 146\n",
      "File already present\n",
      "\u001b[H\u001b[2J352 / 146\n",
      "File already present\n",
      "\u001b[H\u001b[2J353 / 146\n",
      "File already present\n",
      "\u001b[H\u001b[2J354 / 146\n",
      "File already present\n",
      "\u001b[H\u001b[2J355 / 146\n",
      "File already present\n",
      "\u001b[H\u001b[2J356 / 146\n",
      "File already present\n",
      "\u001b[H\u001b[2J357 / 146\n",
      "File already present\n",
      "\u001b[H\u001b[2J358 / 146\n",
      "File already present\n",
      "\u001b[H\u001b[2J359 / 146\n",
      "File already present\n",
      "\u001b[H\u001b[2J360 / 146\n",
      "File already present\n",
      "\u001b[H\u001b[2J361 / 146\n",
      "File already present\n",
      "\u001b[H\u001b[2J"
     ]
    }
   ],
   "source": [
    "%%bash -s \"$image_dcm_path\" \"{data_path}positive_path.csv\"\n",
    "\n",
    "# Pulling dicom files with AWS CLI (Python API didn't work)\n",
    "dcm_dest_path=\"$1\"\n",
    "dcm_paths=\"$2\"\n",
    "ind=$((1))\n",
    "\n",
    "tail -n +2 $dcm_paths | while IFS= read -r line; do\n",
    "    relative_path=$(echo \"$line\" | awk -v OFS='/' '{$1=$1; print}')\n",
    "    dcm_name=$(echo \"$relative_path\" | cut -d '/' -f 3-)\n",
    "               \n",
    "    file=\"${dcm_dest_path}$relative_path\"\n",
    "    dir=$(dirname $file)\n",
    "    mkdir $dir -p\n",
    "    echo \"$ind / 146\"\n",
    "                    \n",
    "    if [ -f \"$file\" ]; then\n",
    "        echo \"File already present\"\n",
    "    else\n",
    "        if [ -f \"${dcm_dest_path}$dcm_name\" ]; then\n",
    "            dcm=\"${dcm_dest_path}$dcm_name\"\n",
    "            dir_dcm=$(dirname $dcm)\n",
    "            echo \"Moving file from ${dir_dcm}\"\n",
    "            mv \"${dcm}\" \"${dcm_dest_path}$relative_path\"\n",
    "        else\n",
    "            echo \"Pulling file $file\"\n",
    "            aws s3 cp \"s3://embed-dataset-open/images/$relative_path\" \"${file}\" --profile my-dev-profile\n",
    "        fi\n",
    "    fi\n",
    "    \n",
    "\n",
    "    ind=$((ind+1))\n",
    "    clear\n",
    "done"
   ]
  },
  {
   "cell_type": "markdown",
   "id": "710b52ab-5f03-41c5-a515-c81318cd54b3",
   "metadata": {},
   "source": [
    "### Converting the DICOM images to PNG"
   ]
  },
  {
   "cell_type": "code",
   "execution_count": 8,
   "id": "6257d147-d33b-4a18-afa5-30564bd4e03a",
   "metadata": {},
   "outputs": [],
   "source": [
    "# Rescale the intensity of the image to get heterogene images with the bit depth of 14\n",
    "def rescale_to_8bit(image_array):\n",
    "    upper_percentile = np.percentile(image_array.flatten(), 98) # original_max = np.max(image_array)\n",
    "    lower_percentile = np.percentile(image_array.flatten(), 2) # original_min = np.min(image_array)\n",
    "    # max_on_14bit = 16383\n",
    "    max = 255\n",
    "    rescaled_array = (image_array - lower_percentile) / (upper_percentile - lower_percentile)\n",
    "    rescaled_array[rescaled_array < 0] = 0\n",
    "    rescaled_array[rescaled_array > 1] = 1\n",
    "    # rescaled_array = np.round((image_array - original_min) / (original_max - original_min) * max_on_14bit).astype(int)\n",
    "    return np.round(rescaled_array * 255).astype(np.uint8)\n",
    "\n",
    "def generate_png_path(dcm_path):\n",
    "    # Get new file name\n",
    "    split_fn = dcm_path[:-4].split('/')\n",
    "    new_fn = f\"{split_fn[-1]}_conv.png\"\n",
    "    return image_path + new_fn\n",
    "\n",
    "# Save DICOM pixel array as PNG\n",
    "def save_dcm_image_as_png(image, png_filename, bitdepth=8):\n",
    "    with open(png_filename, 'wb') as f:\n",
    "        rescaled = rescale_to_8bit(image)\n",
    "        writer = png.Writer(height=rescaled.shape[0], \n",
    "                            width=rescaled.shape[1], \n",
    "                            bitdepth=bitdepth, \n",
    "                            greyscale=True)\n",
    "        writer.write(f, rescaled.tolist())\n",
    "\n",
    "def generate_png_path(acc_anon, png_dir):\n",
    "    # Get new file name\n",
    "    new_fn = f\"{acc_anon}_neg_conv.png\"\n",
    "    return f'{png_dir}/{new_fn}'\n",
    "\n",
    "# Convert list of DICOMs to PNGs\n",
    "def process_dcm_list(dcm_list, png_list):    \n",
    "    for i, dcm_path in enumerate(dcm_list):    \n",
    "        if not Path(png_list[i]).exists():\n",
    "            print(f\"Processing DICOM #{i}...\")\n",
    "            \n",
    "            # Load DICOM\n",
    "            dcm = pydicom.dcmread(dcm_path)\n",
    "            img = dcm.pixel_array\n",
    "            \n",
    "            # Save PNG            \n",
    "            save_dcm_image_as_png(img, png_list[i])\n",
    "\n",
    "def extract_images(data_file_name, dcm_dir, png_dir):\n",
    "    # Provide a list of DICOM paths and a target directory\n",
    "    dcm_list = []\n",
    "    df = pd.read_csv(data_file_name)\n",
    "    \n",
    "    for index, row in df.iterrows():\n",
    "        path = dcm_dir  + row['relative_dcm_path']\n",
    "        if Path(path).exists():\n",
    "            dcm_list.append(path)\n",
    "        \n",
    "    # Insert png path\n",
    "    df.loc[:,'png_path'] = df['acc_anon'].apply(lambda x: generate_png_path(x, png_dir))\n",
    "\n",
    "    # Convert DICOMs\n",
    "    process_dcm_list(dcm_list, df['png_path'])\n",
    "\n",
    "    return df"
   ]
  },
  {
   "cell_type": "code",
   "execution_count": 9,
   "id": "d74abbb4-a36e-42ae-b8be-eda7c94f2846",
   "metadata": {},
   "outputs": [
    {
     "name": "stdout",
     "output_type": "stream",
     "text": [
      "Processing DICOM #0...\n",
      "Processing DICOM #1...\n",
      "Processing DICOM #2...\n",
      "Processing DICOM #6...\n",
      "Processing DICOM #8...\n",
      "Processing DICOM #9...\n",
      "Processing DICOM #10...\n",
      "Processing DICOM #11...\n",
      "Processing DICOM #13...\n",
      "Processing DICOM #17...\n",
      "Processing DICOM #19...\n",
      "Processing DICOM #20...\n",
      "Processing DICOM #21...\n",
      "Processing DICOM #23...\n",
      "Processing DICOM #25...\n",
      "Processing DICOM #28...\n",
      "Processing DICOM #32...\n",
      "Processing DICOM #34...\n",
      "Processing DICOM #35...\n",
      "Processing DICOM #37...\n",
      "Processing DICOM #38...\n",
      "Processing DICOM #42...\n",
      "Processing DICOM #43...\n",
      "Processing DICOM #46...\n",
      "Processing DICOM #48...\n",
      "Processing DICOM #50...\n",
      "Processing DICOM #51...\n",
      "Processing DICOM #52...\n",
      "Processing DICOM #53...\n",
      "Processing DICOM #55...\n",
      "Processing DICOM #56...\n",
      "Processing DICOM #57...\n",
      "Processing DICOM #59...\n",
      "Processing DICOM #61...\n",
      "Processing DICOM #63...\n",
      "Processing DICOM #65...\n",
      "Processing DICOM #66...\n",
      "Processing DICOM #68...\n",
      "Processing DICOM #70...\n",
      "Processing DICOM #71...\n",
      "Processing DICOM #72...\n",
      "Processing DICOM #73...\n",
      "Processing DICOM #77...\n",
      "Processing DICOM #79...\n",
      "Processing DICOM #82...\n",
      "Processing DICOM #83...\n",
      "Processing DICOM #84...\n",
      "Processing DICOM #85...\n",
      "Processing DICOM #87...\n",
      "Processing DICOM #88...\n",
      "Processing DICOM #90...\n",
      "Processing DICOM #91...\n",
      "Processing DICOM #92...\n",
      "Processing DICOM #94...\n",
      "Processing DICOM #96...\n",
      "Processing DICOM #97...\n",
      "Processing DICOM #98...\n",
      "Processing DICOM #99...\n",
      "Processing DICOM #101...\n",
      "Processing DICOM #102...\n",
      "Processing DICOM #108...\n",
      "Processing DICOM #109...\n",
      "Processing DICOM #110...\n",
      "Processing DICOM #111...\n",
      "Processing DICOM #115...\n",
      "Processing DICOM #119...\n",
      "Processing DICOM #123...\n",
      "Processing DICOM #127...\n",
      "Processing DICOM #131...\n",
      "Processing DICOM #132...\n",
      "Processing DICOM #134...\n",
      "Processing DICOM #136...\n",
      "Processing DICOM #138...\n",
      "Processing DICOM #141...\n",
      "Processing DICOM #143...\n",
      "Processing DICOM #144...\n",
      "Processing DICOM #148...\n",
      "Processing DICOM #152...\n",
      "Processing DICOM #158...\n"
     ]
    }
   ],
   "source": [
    "pos_img_emp = extract_images(data_path + 'positive_empirical.csv', image_dcm_path, image_png_path)\n",
    "\n",
    "with open(data_path + 'positive_empirical_png.csv', 'w') as f:\n",
    "    (pos_img_emp).to_csv(f, index=False)"
   ]
  },
  {
   "cell_type": "code",
   "execution_count": null,
   "id": "260cf8e9-4593-45bd-a14d-8be88dedeb4e",
   "metadata": {},
   "outputs": [],
   "source": []
  }
 ],
 "metadata": {
  "kernelspec": {
   "display_name": "Python 3 (ipykernel)",
   "language": "python",
   "name": "python3"
  },
  "language_info": {
   "codemirror_mode": {
    "name": "ipython",
    "version": 3
   },
   "file_extension": ".py",
   "mimetype": "text/x-python",
   "name": "python",
   "nbconvert_exporter": "python",
   "pygments_lexer": "ipython3",
   "version": "3.10.12"
  }
 },
 "nbformat": 4,
 "nbformat_minor": 5
}
